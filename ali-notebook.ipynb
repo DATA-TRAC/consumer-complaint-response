{
 "cells": [
  {
   "cell_type": "code",
   "execution_count": 1,
   "metadata": {
    "cell_id": "0daf377d7692486081e5badd36a956aa",
    "deepnote_cell_type": "code",
    "deepnote_to_be_reexecuted": false,
    "execution_millis": 23,
    "execution_start": 1689020342494,
    "source_hash": "79dc33e2"
   },
   "outputs": [
    {
     "name": "stdout",
     "output_type": "stream",
     "text": [
      "imports loaded successfully, awaiting commands...\n"
     ]
    }
   ],
   "source": [
    "#my modules\n",
    "import wrangle as wr\n",
    "import explore as ex\n",
    "import model as m\n",
    "\n",
    "#Imports\n",
    "import pandas as pd\n",
    "import numpy as np\n",
    "\n",
    "import nltk\n",
    "# nltk.download('words')\n",
    "# words = set(nltk.corpus.words.words())"
   ]
  },
  {
   "cell_type": "code",
   "execution_count": 2,
   "metadata": {},
   "outputs": [
    {
     "name": "stdout",
     "output_type": "stream",
     "text": [
      "csv file found and loaded\n"
     ]
    }
   ],
   "source": [
    "df = wr.check_file_exists_gbq('cfpb.csv', 'service_key.json')"
   ]
  },
  {
   "cell_type": "markdown",
   "metadata": {},
   "source": [
    "## Initial Thoughts\n",
    "\n",
    "* There are going to be key words that match to a companies response\n",
    "* Sentiment analysis will not be useful because most complaints will likely be negative\n",
    "\n",
    "## Questions\n",
    "\n",
    "1. Do specific issues tend to receive specific responses? For example, do issues related to fraud tend to receive more \"closed with relief\" responses compared to other issues?\n",
    "2. Is there a relationship between consumer complaint and company response?\n",
    "3. Do narratives with a neutral or positive sentiment analysis relating to bank account products lead to a response of closed with monetary relief?\n",
    "4. Are there unique words associated with the most negative and most positive company response?\n",
    "5. Is there a relationship/bias for servicemember tags in relation to company response?\n",
    "6. Does narrative length relate to company response?"
   ]
  },
  {
   "cell_type": "code",
   "execution_count": 3,
   "metadata": {},
   "outputs": [],
   "source": [
    "pd.set_option(\"display.max_colwidth\", 250)"
   ]
  },
  {
   "cell_type": "code",
   "execution_count": 4,
   "metadata": {
    "scrolled": true,
    "tags": []
   },
   "outputs": [],
   "source": [
    "# df_clean = wr.clean_data(df)\n",
    "# df_clean.to_parquet('df_clean.parquet')\n",
    "df_clean = pd.read_parquet('df_clean.parquet')\n",
    "\n",
    "# df_prep = wr.prep_narrative(df_clean)\n",
    "# df_prep.to_parquet('df_prep.parquet')\n",
    "df_prep = pd.read_parquet('df_prep.parquet')\n",
    "\n",
    "# train, validate, test = wr.split_data(df_prep,\"company_response_to_consumer\")\n",
    "\n",
    "# train.to_parquet('train.parquet')\n",
    "# validate.to_parquet('validate.parquet')\n",
    "# test.to_parquet('test.parquet')\n",
    "\n",
    "train = pd.read_parquet('train.parquet')\n",
    "validate = pd.read_parquet('validate.parquet')\n",
    "test = pd.read_parquet('test.parquet')"
   ]
  },
  {
   "cell_type": "markdown",
   "metadata": {},
   "source": [
    "## 2. Is there a relationship between consumer complaint words and company response?"
   ]
  },
  {
   "cell_type": "code",
   "execution_count": 5,
   "metadata": {},
   "outputs": [
    {
     "name": "stdout",
     "output_type": "stream",
     "text": [
      "Total Unique Words Found per Response: 122304\n",
      "\n"
     ]
    }
   ],
   "source": [
    "word_counts = ex.get_words(train).sort_values(by='all',ascending=False)"
   ]
  },
  {
   "cell_type": "code",
   "execution_count": 6,
   "metadata": {},
   "outputs": [],
   "source": [
    "word_counts.to_parquet('word_counts.parquet')\n",
    "word_counts = pd.read_parquet('word_counts.parquet')"
   ]
  },
  {
   "cell_type": "code",
   "execution_count": 7,
   "metadata": {},
   "outputs": [
    {
     "data": {
      "text/html": [
       "<div>\n",
       "<style scoped>\n",
       "    .dataframe tbody tr th:only-of-type {\n",
       "        vertical-align: middle;\n",
       "    }\n",
       "\n",
       "    .dataframe tbody tr th {\n",
       "        vertical-align: top;\n",
       "    }\n",
       "\n",
       "    .dataframe thead th {\n",
       "        text-align: right;\n",
       "    }\n",
       "</style>\n",
       "<table border=\"1\" class=\"dataframe\">\n",
       "  <thead>\n",
       "    <tr style=\"text-align: right;\">\n",
       "      <th></th>\n",
       "      <th>all</th>\n",
       "      <th>explanation</th>\n",
       "      <th>no_money</th>\n",
       "      <th>money</th>\n",
       "      <th>timed_out</th>\n",
       "      <th>closed</th>\n",
       "    </tr>\n",
       "  </thead>\n",
       "  <tbody>\n",
       "    <tr>\n",
       "      <th>account</th>\n",
       "      <td>1390487</td>\n",
       "      <td>1045109</td>\n",
       "      <td>257905</td>\n",
       "      <td>82549</td>\n",
       "      <td>2515</td>\n",
       "      <td>2409</td>\n",
       "    </tr>\n",
       "    <tr>\n",
       "      <th>credit</th>\n",
       "      <td>1333790</td>\n",
       "      <td>1028932</td>\n",
       "      <td>259158</td>\n",
       "      <td>40958</td>\n",
       "      <td>2668</td>\n",
       "      <td>2074</td>\n",
       "    </tr>\n",
       "    <tr>\n",
       "      <th>report</th>\n",
       "      <td>758566</td>\n",
       "      <td>576165</td>\n",
       "      <td>172216</td>\n",
       "      <td>7725</td>\n",
       "      <td>1389</td>\n",
       "      <td>1071</td>\n",
       "    </tr>\n",
       "    <tr>\n",
       "      <th>information</th>\n",
       "      <td>640808</td>\n",
       "      <td>485884</td>\n",
       "      <td>140081</td>\n",
       "      <td>12109</td>\n",
       "      <td>1658</td>\n",
       "      <td>1076</td>\n",
       "    </tr>\n",
       "    <tr>\n",
       "      <th>payment</th>\n",
       "      <td>602762</td>\n",
       "      <td>499750</td>\n",
       "      <td>60288</td>\n",
       "      <td>39111</td>\n",
       "      <td>1851</td>\n",
       "      <td>1762</td>\n",
       "    </tr>\n",
       "    <tr>\n",
       "      <th>...</th>\n",
       "      <td>...</td>\n",
       "      <td>...</td>\n",
       "      <td>...</td>\n",
       "      <td>...</td>\n",
       "      <td>...</td>\n",
       "      <td>...</td>\n",
       "    </tr>\n",
       "    <tr>\n",
       "      <th>notesi</th>\n",
       "      <td>1</td>\n",
       "      <td>1</td>\n",
       "      <td>0</td>\n",
       "      <td>0</td>\n",
       "      <td>0</td>\n",
       "      <td>0</td>\n",
       "    </tr>\n",
       "    <tr>\n",
       "      <th>notest</th>\n",
       "      <td>1</td>\n",
       "      <td>1</td>\n",
       "      <td>0</td>\n",
       "      <td>0</td>\n",
       "      <td>0</td>\n",
       "      <td>0</td>\n",
       "    </tr>\n",
       "    <tr>\n",
       "      <th>notesthey</th>\n",
       "      <td>1</td>\n",
       "      <td>1</td>\n",
       "      <td>0</td>\n",
       "      <td>0</td>\n",
       "      <td>0</td>\n",
       "      <td>0</td>\n",
       "    </tr>\n",
       "    <tr>\n",
       "      <th>creepily</th>\n",
       "      <td>1</td>\n",
       "      <td>1</td>\n",
       "      <td>0</td>\n",
       "      <td>0</td>\n",
       "      <td>0</td>\n",
       "      <td>0</td>\n",
       "    </tr>\n",
       "    <tr>\n",
       "      <th>zzzzzzzzz</th>\n",
       "      <td>1</td>\n",
       "      <td>1</td>\n",
       "      <td>0</td>\n",
       "      <td>0</td>\n",
       "      <td>0</td>\n",
       "      <td>0</td>\n",
       "    </tr>\n",
       "  </tbody>\n",
       "</table>\n",
       "<p>122304 rows × 6 columns</p>\n",
       "</div>"
      ],
      "text/plain": [
       "                 all  explanation  no_money  money  timed_out  closed\n",
       "account      1390487      1045109    257905  82549       2515    2409\n",
       "credit       1333790      1028932    259158  40958       2668    2074\n",
       "report        758566       576165    172216   7725       1389    1071\n",
       "information   640808       485884    140081  12109       1658    1076\n",
       "payment       602762       499750     60288  39111       1851    1762\n",
       "...              ...          ...       ...    ...        ...     ...\n",
       "notesi             1            1         0      0          0       0\n",
       "notest             1            1         0      0          0       0\n",
       "notesthey          1            1         0      0          0       0\n",
       "creepily           1            1         0      0          0       0\n",
       "zzzzzzzzz          1            1         0      0          0       0\n",
       "\n",
       "[122304 rows x 6 columns]"
      ]
     },
     "execution_count": 7,
     "metadata": {},
     "output_type": "execute_result"
    }
   ],
   "source": [
    "word_counts"
   ]
  },
  {
   "cell_type": "code",
   "execution_count": 8,
   "metadata": {
    "tags": []
   },
   "outputs": [
    {
     "data": {
      "image/png": "[encoded data removed]",
      "text/plain": [
       "<Figure size 1300x700 with 6 Axes>"
      ]
     },
     "metadata": {},
     "output_type": "display_data"
    }
   ],
   "source": [
    "ex.unique_words(word_counts)"
   ]
  },
  {
   "cell_type": "markdown",
   "metadata": {},
   "source": [
    "## 2a. Are there unique words associated with each product and is there a relationship between unique product words and possible response from the company?"
   ]
  },
  {
   "cell_type": "code",
   "execution_count": 9,
   "metadata": {},
   "outputs": [
    {
     "name": "stdout",
     "output_type": "stream",
     "text": [
      "Total Unique Words Found per Product: 122304\n",
      "\n"
     ]
    }
   ],
   "source": [
    "word_counts_products = ex.get_words_products(train).sort_values(by='all',ascending=False)\n",
    "word_counts_products.to_parquet('word_counts_products.parquet')\n",
    "word_counts_products = pd.read_parquet('word_counts_products.parquet')"
   ]
  },
  {
   "cell_type": "code",
   "execution_count": 10,
   "metadata": {},
   "outputs": [
    {
     "data": {
      "image/png": "[encoded data removed]",
      "text/plain": [
       "<Figure size 1300x700 with 8 Axes>"
      ]
     },
     "metadata": {},
     "output_type": "display_data"
    }
   ],
   "source": [
    "ex.unique_words(word_counts_products)"
   ]
  },
  {
   "cell_type": "markdown",
   "metadata": {},
   "source": [
    "# Explore Takeaways:\n",
    "\n",
    "## ***2. Is there a relationship between consumer complaint words and company response?***\n",
    "\n",
    "* There is a relationship between words used in complaints and company responses. The words used relate to products that consumer's can complain about.\n",
    "    \n",
    "## Responses and top 5 words:\n",
    "\n",
    "* Explanation\n",
    "    * Account, Credit, Report, Payment, Information\n",
    "        * This type of response looks like it could relate to credit reporting products\n",
    "* Non-Monetary\n",
    "    * Credit, Account, Report, Information, Reporting\n",
    "* **Monetary**\n",
    "    * Account, **Bank**, **Card**, Credit, Payment\n",
    "        * This type of response looks like it could relate to credit card or bank products\n",
    "* **Untimely Reponse**\n",
    "    * **Debt**, Credit, Account, **Company**, **Loan**\n",
    "        * This type of response looks like it could relate to debt products\n",
    "* Closed\n",
    "    * Account, Debt, Credit, Payment, Loan\n",
    "---\n",
    "\n",
    "## ***2a. Are there unique words associated with each product and is there a relationship between unique product words and possible response from the company?***\n",
    "\n",
    "* There are unique words associated with each product.\n",
    "        \n",
    "## Products and top 5 words:\n",
    "* Credit Report\n",
    "    * Credit, Account, Report, Information, Reporting\n",
    "        * matches up with hypothesis where this type of product might get a response of explanation or non-monetary relief\n",
    "* Debt\n",
    "    * **Debt**, Credit, Account, **Collection**, Report\n",
    "        * matches up with hypothesis where this type of product might get an untimely response\n",
    "* Credit Card\n",
    "    * **Card**, Credit, Account, Payment, **Charge**\n",
    "        * matches up with hypothesis where this type of product might get a response of monetary relief\n",
    "* Mortgage\n",
    "    * Payment, Loan, Mortgage, Would, **Time**\n",
    "        * matches up with hypothesis where this type of product might get a response of closed\n",
    "* Loans\n",
    "    * Loan, Payment, Account, Would, Credit\n",
    "        * matches up with hypothesis where this type of product might get a response of closed\n",
    "* Bank\n",
    "    * Account, Bank, **Check**, Money, Would\n",
    "        * matches up with hypothesis where this type of product might get a response of monetary relief\n",
    "* Money Service\n",
    "    * Account, Money, Bank, **Paypal**, **Transaction**\n",
    "        * matches up with hypothesis where this type of product might get a response of monetary relief"
   ]
  },
  {
   "cell_type": "markdown",
   "metadata": {},
   "source": [
    "## 4. Are there unique bigrams associated with the most negative and most positive company response?"
   ]
  },
  {
   "cell_type": "code",
   "execution_count": 11,
   "metadata": {},
   "outputs": [
    {
     "data": {
      "text/html": [
       "<div>\n",
       "<style scoped>\n",
       "    .dataframe tbody tr th:only-of-type {\n",
       "        vertical-align: middle;\n",
       "    }\n",
       "\n",
       "    .dataframe tbody tr th {\n",
       "        vertical-align: top;\n",
       "    }\n",
       "\n",
       "    .dataframe thead th {\n",
       "        text-align: right;\n",
       "    }\n",
       "</style>\n",
       "<table border=\"1\" class=\"dataframe\">\n",
       "  <thead>\n",
       "    <tr style=\"text-align: right;\">\n",
       "      <th></th>\n",
       "      <th>date_received</th>\n",
       "      <th>company_name</th>\n",
       "      <th>state</th>\n",
       "      <th>tags</th>\n",
       "      <th>company_response_to_consumer</th>\n",
       "      <th>product_bins</th>\n",
       "      <th>clean</th>\n",
       "      <th>lemon</th>\n",
       "    </tr>\n",
       "  </thead>\n",
       "  <tbody>\n",
       "    <tr>\n",
       "      <th>944870</th>\n",
       "      <td>2015-05-12</td>\n",
       "      <td>CITIBANK, N.A.</td>\n",
       "      <td>CA</td>\n",
       "      <td>Average Person</td>\n",
       "      <td>Closed with monetary relief</td>\n",
       "      <td>mortgage</td>\n",
       "      <td>it has been since that i first applied for the refinance as of today no decision or counter offer has been conveyed to me it s not a new loan and i am not a new customer to citibank my home loan is currently with citibank and has been for the pas...</td>\n",
       "      <td>since first applied refinance today decision counter offer conveyed new loan new customer citibank home loan currently citibank past several year week requested something provided item requested would get phone call requesting item response email...</td>\n",
       "    </tr>\n",
       "  </tbody>\n",
       "</table>\n",
       "</div>"
      ],
      "text/plain": [
       "       date_received    company_name state            tags  \\\n",
       "944870    2015-05-12  CITIBANK, N.A.    CA  Average Person   \n",
       "\n",
       "       company_response_to_consumer product_bins  \\\n",
       "944870  Closed with monetary relief     mortgage   \n",
       "\n",
       "                                                                                                                                                                                                                                                            clean  \\\n",
       "944870  it has been since that i first applied for the refinance as of today no decision or counter offer has been conveyed to me it s not a new loan and i am not a new customer to citibank my home loan is currently with citibank and has been for the pas...   \n",
       "\n",
       "                                                                                                                                                                                                                                                            lemon  \n",
       "944870  since first applied refinance today decision counter offer conveyed new loan new customer citibank home loan currently citibank past several year week requested something provided item requested would get phone call requesting item response email...  "
      ]
     },
     "execution_count": 11,
     "metadata": {},
     "output_type": "execute_result"
    }
   ],
   "source": [
    "train.head(1)"
   ]
  },
  {
   "cell_type": "code",
   "execution_count": 12,
   "metadata": {},
   "outputs": [
    {
     "data": {
      "text/html": [
       "<div>\n",
       "<style scoped>\n",
       "    .dataframe tbody tr th:only-of-type {\n",
       "        vertical-align: middle;\n",
       "    }\n",
       "\n",
       "    .dataframe tbody tr th {\n",
       "        vertical-align: top;\n",
       "    }\n",
       "\n",
       "    .dataframe thead th {\n",
       "        text-align: right;\n",
       "    }\n",
       "</style>\n",
       "<table border=\"1\" class=\"dataframe\">\n",
       "  <thead>\n",
       "    <tr style=\"text-align: right;\">\n",
       "      <th></th>\n",
       "      <th>all</th>\n",
       "      <th>explanation</th>\n",
       "      <th>no_money</th>\n",
       "      <th>money</th>\n",
       "      <th>timed_out</th>\n",
       "      <th>closed</th>\n",
       "    </tr>\n",
       "  </thead>\n",
       "  <tbody>\n",
       "    <tr>\n",
       "      <th>account</th>\n",
       "      <td>1390487</td>\n",
       "      <td>1045109</td>\n",
       "      <td>257905</td>\n",
       "      <td>82549</td>\n",
       "      <td>2515</td>\n",
       "      <td>2409</td>\n",
       "    </tr>\n",
       "    <tr>\n",
       "      <th>credit</th>\n",
       "      <td>1333790</td>\n",
       "      <td>1028932</td>\n",
       "      <td>259158</td>\n",
       "      <td>40958</td>\n",
       "      <td>2668</td>\n",
       "      <td>2074</td>\n",
       "    </tr>\n",
       "    <tr>\n",
       "      <th>report</th>\n",
       "      <td>758566</td>\n",
       "      <td>576165</td>\n",
       "      <td>172216</td>\n",
       "      <td>7725</td>\n",
       "      <td>1389</td>\n",
       "      <td>1071</td>\n",
       "    </tr>\n",
       "    <tr>\n",
       "      <th>information</th>\n",
       "      <td>640808</td>\n",
       "      <td>485884</td>\n",
       "      <td>140081</td>\n",
       "      <td>12109</td>\n",
       "      <td>1658</td>\n",
       "      <td>1076</td>\n",
       "    </tr>\n",
       "    <tr>\n",
       "      <th>payment</th>\n",
       "      <td>602762</td>\n",
       "      <td>499750</td>\n",
       "      <td>60288</td>\n",
       "      <td>39111</td>\n",
       "      <td>1851</td>\n",
       "      <td>1762</td>\n",
       "    </tr>\n",
       "  </tbody>\n",
       "</table>\n",
       "</div>"
      ],
      "text/plain": [
       "                 all  explanation  no_money  money  timed_out  closed\n",
       "account      1390487      1045109    257905  82549       2515    2409\n",
       "credit       1333790      1028932    259158  40958       2668    2074\n",
       "report        758566       576165    172216   7725       1389    1071\n",
       "information   640808       485884    140081  12109       1658    1076\n",
       "payment       602762       499750     60288  39111       1851    1762"
      ]
     },
     "execution_count": 12,
     "metadata": {},
     "output_type": "execute_result"
    }
   ],
   "source": [
    "word_counts.head()"
   ]
  },
  {
   "cell_type": "code",
   "execution_count": 13,
   "metadata": {},
   "outputs": [],
   "source": [
    "# top_20_money_bigrams = pd.Series(nltk.bigrams(word_counts.money.index)).value_counts(ascending=False)"
   ]
  },
  {
   "cell_type": "code",
   "execution_count": 14,
   "metadata": {},
   "outputs": [],
   "source": [
    "# top_20_money_bigrams"
   ]
  },
  {
   "cell_type": "code",
   "execution_count": 15,
   "metadata": {
    "scrolled": true,
    "tags": []
   },
   "outputs": [],
   "source": [
    "# # Create an empty list\n",
    "# bigram_list = []\n",
    "\n",
    "# # Iterate through each column in word_counts\n",
    "# for column in word_counts.columns:\n",
    "#     # Create a unique variable name for each column's top 20 bigrams\n",
    "#     variable_name = f\"top_20_{column}_bigrams\"\n",
    "    \n",
    "#     # Calculate the top 20 bigrams for the current column   \n",
    "#     variable_info = pd.Series(nltk.bigrams(word_counts[column].index)).value_counts(ascending=False)\n",
    "#     bigram_list.append(variable_info)\n",
    "    \n",
    "#     # Print the top 20 bigrams for the current column\n",
    "#     print()\n",
    "#     print(f'{variable_info}')\n",
    "#     print(bigram_list)"
   ]
  },
  {
   "cell_type": "markdown",
   "metadata": {},
   "source": [
    "## Do consumers in some states recieve more monetary relief than others?"
   ]
  },
  {
   "cell_type": "code",
   "execution_count": 16,
   "metadata": {},
   "outputs": [
    {
     "data": {
      "text/plain": [
       "CA    4841\n",
       "FL    2663\n",
       "NY    2395\n",
       "TX    2345\n",
       "IL    1241\n",
       "NJ    1228\n",
       "GA    1135\n",
       "PA    1129\n",
       "VA     991\n",
       "NC     877\n",
       "Name: state, dtype: int64"
      ]
     },
     "execution_count": 16,
     "metadata": {},
     "output_type": "execute_result"
    }
   ],
   "source": [
    "train[train.company_response_to_consumer == 'Closed with monetary relief'].state.value_counts().head(10)"
   ]
  },
  {
   "cell_type": "code",
   "execution_count": 17,
   "metadata": {},
   "outputs": [
    {
     "data": {
      "text/plain": [
       "FL    15781\n",
       "CA    13938\n",
       "TX    12036\n",
       "GA     9358\n",
       "NY     7360\n",
       "PA     6047\n",
       "IL     5723\n",
       "NC     4655\n",
       "NJ     3889\n",
       "MD     3174\n",
       "Name: state, dtype: int64"
      ]
     },
     "execution_count": 17,
     "metadata": {},
     "output_type": "execute_result"
    }
   ],
   "source": [
    "train[train.company_response_to_consumer == 'Closed with non-monetary relief'].state.value_counts().head(10)"
   ]
  },
  {
   "cell_type": "code",
   "execution_count": 18,
   "metadata": {},
   "outputs": [],
   "source": [
    "# #encode\n",
    "# X_train = m.encode(train)\n",
    "# X_train = X_train.drop(columns=['date_received','company_response_to_consumer','clean','state','company_name','tags','product_bins'])\n",
    "# y_train = train['company_response_to_consumer']\n",
    "# X_val = m.encode(validate)\n",
    "# X_val = X_val.drop(columns=['date_received','company_response_to_consumer','clean','state','company_name','tags','product_bins'])\n",
    "# y_val = validate['company_response_to_consumer']\n",
    "# X_test = m.encode(test)\n",
    "# X_test = X_test.drop(columns=['date_received','company_response_to_consumer','clean','state','company_name','tags','product_bins'])\n",
    "# y_test = test['company_response_to_consumer']\n",
    "# X_train.head()"
   ]
  },
  {
   "cell_type": "code",
   "execution_count": 19,
   "metadata": {},
   "outputs": [],
   "source": [
    "# #vectorizing\n",
    "# X_train_cv,X_val_cv,X_test_cv = m.make_cv(X_train[['lemon']], X_val[['lemon']], X_test[['lemon']])\n",
    "# X_train_tf,X_val_tf,X_test_tf = m.make_tfidf(X_train[['lemon']], X_val[['lemon']], X_test[['lemon']])"
   ]
  },
  {
   "cell_type": "code",
   "execution_count": 20,
   "metadata": {},
   "outputs": [],
   "source": [
    "# #write to hdf did not work\n",
    "# X_train_cv.to_hdf(key='key', path_or_buf='X_train_cv.hdf')"
   ]
  },
  {
   "cell_type": "code",
   "execution_count": 22,
   "metadata": {},
   "outputs": [
    {
     "data": {
      "text/plain": [
       "Closed with explanation            589373\n",
       "Closed with non-monetary relief    123170\n",
       "Closed with monetary relief         30578\n",
       "Untimely response                    2675\n",
       "Closed                               2245\n",
       "Name: company_response_to_consumer, dtype: int64"
      ]
     },
     "execution_count": 22,
     "metadata": {},
     "output_type": "execute_result"
    }
   ],
   "source": [
    "train.company_response_to_consumer.value_counts()\n",
    "#take a sample from each class of how many rows you want to take to provide a more equal dataset and apply that through validate and test\n",
    "#pandas .sample with the logical contiton where the field name = our class and take the sample\n"
   ]
  },
  {
   "cell_type": "code",
   "execution_count": 21,
   "metadata": {},
   "outputs": [
    {
     "data": {
      "text/plain": [
       "(748041, 8)"
      ]
     },
     "execution_count": 21,
     "metadata": {},
     "output_type": "execute_result"
    }
   ],
   "source": [
    "train.shape"
   ]
  },
  {
   "cell_type": "code",
   "execution_count": null,
   "metadata": {},
   "outputs": [],
   "source": [
    "#sampling is the way to go\n",
    "#downsampling will not cause any loss of statistical voracity because of the size of the DF. We would have to completely rewrite the workflow"
   ]
  },
  {
   "cell_type": "code",
   "execution_count": 23,
   "metadata": {},
   "outputs": [
    {
     "data": {
      "text/html": [
       "<div>\n",
       "<style scoped>\n",
       "    .dataframe tbody tr th:only-of-type {\n",
       "        vertical-align: middle;\n",
       "    }\n",
       "\n",
       "    .dataframe tbody tr th {\n",
       "        vertical-align: top;\n",
       "    }\n",
       "\n",
       "    .dataframe thead th {\n",
       "        text-align: right;\n",
       "    }\n",
       "</style>\n",
       "<table border=\"1\" class=\"dataframe\">\n",
       "  <thead>\n",
       "    <tr style=\"text-align: right;\">\n",
       "      <th></th>\n",
       "      <th>lemon</th>\n",
       "      <th>Older American</th>\n",
       "      <th>Older American, Servicemember</th>\n",
       "      <th>Servicemember</th>\n",
       "      <th>credit_card</th>\n",
       "      <th>credit_report</th>\n",
       "      <th>debt_collection</th>\n",
       "      <th>loans</th>\n",
       "      <th>money_service</th>\n",
       "      <th>mortgage</th>\n",
       "    </tr>\n",
       "  </thead>\n",
       "  <tbody>\n",
       "    <tr>\n",
       "      <th>48045</th>\n",
       "      <td>trying contact grain technology inc debt owed since attempted call get live person filled contact information form several time past month want settle account willing work clearing debt want credit bureau remove debt credit report</td>\n",
       "      <td>0</td>\n",
       "      <td>0</td>\n",
       "      <td>0</td>\n",
       "      <td>0</td>\n",
       "      <td>0</td>\n",
       "      <td>1</td>\n",
       "      <td>0</td>\n",
       "      <td>0</td>\n",
       "      <td>0</td>\n",
       "    </tr>\n",
       "    <tr>\n",
       "      <th>1164880</th>\n",
       "      <td>bought large rug start vacation called filed dispute chase merchant responded fake invoice saying bought fabric shirt material walked door merchandise chase reinstated charge responded charge back provided addition evidence geo tag photo rug boug...</td>\n",
       "      <td>0</td>\n",
       "      <td>0</td>\n",
       "      <td>0</td>\n",
       "      <td>1</td>\n",
       "      <td>0</td>\n",
       "      <td>0</td>\n",
       "      <td>0</td>\n",
       "      <td>0</td>\n",
       "      <td>0</td>\n",
       "    </tr>\n",
       "    <tr>\n",
       "      <th>463976</th>\n",
       "      <td>original complaint went car dealership ohio look two vehicle vehicle walked salesperson available like supposed car appointment see already sold explained budget wanted stick given runaround hour told dealership could soft pull credit see kind nu...</td>\n",
       "      <td>0</td>\n",
       "      <td>0</td>\n",
       "      <td>0</td>\n",
       "      <td>0</td>\n",
       "      <td>1</td>\n",
       "      <td>0</td>\n",
       "      <td>0</td>\n",
       "      <td>0</td>\n",
       "      <td>0</td>\n",
       "    </tr>\n",
       "    <tr>\n",
       "      <th>490359</th>\n",
       "      <td>synopsis loan demand estate loan originated annum took loan day loan mortgagor passed away mortgage payment getting delay difficult time weve trying get catch loan even worked loan modification conditionally approved succeed month trial payment p...</td>\n",
       "      <td>0</td>\n",
       "      <td>0</td>\n",
       "      <td>0</td>\n",
       "      <td>0</td>\n",
       "      <td>0</td>\n",
       "      <td>0</td>\n",
       "      <td>0</td>\n",
       "      <td>0</td>\n",
       "      <td>1</td>\n",
       "    </tr>\n",
       "    <tr>\n",
       "      <th>316427</th>\n",
       "      <td>may concern writing dispute fraudulent charge account amount victim identity theft make authorize charge requesting charge removed finance charge related fraudulent amount credited well receive accurate statement request made pursuant fair credit...</td>\n",
       "      <td>0</td>\n",
       "      <td>0</td>\n",
       "      <td>0</td>\n",
       "      <td>0</td>\n",
       "      <td>1</td>\n",
       "      <td>0</td>\n",
       "      <td>0</td>\n",
       "      <td>0</td>\n",
       "      <td>0</td>\n",
       "    </tr>\n",
       "  </tbody>\n",
       "</table>\n",
       "</div>"
      ],
      "text/plain": [
       "                                                                                                                                                                                                                                                             lemon  \\\n",
       "48045                       trying contact grain technology inc debt owed since attempted call get live person filled contact information form several time past month want settle account willing work clearing debt want credit bureau remove debt credit report   \n",
       "1164880  bought large rug start vacation called filed dispute chase merchant responded fake invoice saying bought fabric shirt material walked door merchandise chase reinstated charge responded charge back provided addition evidence geo tag photo rug boug...   \n",
       "463976   original complaint went car dealership ohio look two vehicle vehicle walked salesperson available like supposed car appointment see already sold explained budget wanted stick given runaround hour told dealership could soft pull credit see kind nu...   \n",
       "490359   synopsis loan demand estate loan originated annum took loan day loan mortgagor passed away mortgage payment getting delay difficult time weve trying get catch loan even worked loan modification conditionally approved succeed month trial payment p...   \n",
       "316427   may concern writing dispute fraudulent charge account amount victim identity theft make authorize charge requesting charge removed finance charge related fraudulent amount credited well receive accurate statement request made pursuant fair credit...   \n",
       "\n",
       "         Older American  Older American, Servicemember  Servicemember  \\\n",
       "48045                 0                              0              0   \n",
       "1164880               0                              0              0   \n",
       "463976                0                              0              0   \n",
       "490359                0                              0              0   \n",
       "316427                0                              0              0   \n",
       "\n",
       "         credit_card  credit_report  debt_collection  loans  money_service  \\\n",
       "48045              0              0                1      0              0   \n",
       "1164880            1              0                0      0              0   \n",
       "463976             0              1                0      0              0   \n",
       "490359             0              0                0      0              0   \n",
       "316427             0              1                0      0              0   \n",
       "\n",
       "         mortgage  \n",
       "48045           0  \n",
       "1164880         0  \n",
       "463976          0  \n",
       "490359          1  \n",
       "316427          0  "
      ]
     },
     "execution_count": 23,
     "metadata": {},
     "output_type": "execute_result"
    }
   ],
   "source": [
    "sm_train1 = int(round(len(train[train.company_response_to_consumer=='Closed with explanation'])*.2,0))\n",
    "sm_train2 = int(round(len(train[train.company_response_to_consumer=='Closed with non-monetary relief'])*.2,0))\n",
    "sm_train3 = int(round(len(train[train.company_response_to_consumer=='Closed with monetary relief'])*.2,0))\n",
    "sm_train4 = int(round(len(train[train.company_response_to_consumer=='Untimely response'])*.2,0))\n",
    "sm_train5 = int(round(len(train[train.company_response_to_consumer=='Closed'])*.2,0))\n",
    "sm_val1 = int(round(len(validate[validate.company_response_to_consumer=='Closed with explanation'])*.2,0))\n",
    "sm_val2 = int(round(len(validate[validate.company_response_to_consumer=='Closed with non-monetary relief'])*.2,0))\n",
    "sm_val3 = int(round(len(validate[validate.company_response_to_consumer=='Closed with monetary relief'])*.2,0))\n",
    "sm_val4 = int(round(len(validate[validate.company_response_to_consumer=='Untimely response'])*.2,0))\n",
    "sm_val5 = int(round(len(validate[validate.company_response_to_consumer=='Closed'])*.2,0))\n",
    "sm_test1 = int(round(len(test[test.company_response_to_consumer=='Closed with explanation'])*.2,0))\n",
    "sm_test2 = int(round(len(test[test.company_response_to_consumer=='Closed with non-monetary relief'])*.2,0))\n",
    "sm_test3 = int(round(len(test[test.company_response_to_consumer=='Closed with monetary relief'])*.2,0))\n",
    "sm_test4 = int(round(len(test[test.company_response_to_consumer=='Untimely response'])*.2,0))\n",
    "sm_test5 = int(round(len(test[test.company_response_to_consumer=='Closed'])*.2,0))\n",
    "\n",
    "small_train1 = train[train.company_response_to_consumer=='Closed with explanation'].sample(sm_train1,random_state=123)\n",
    "small_train2 = train[train.company_response_to_consumer=='Closed with non-monetary relief'].sample(sm_train2,random_state=123)\n",
    "small_train3 = train[train.company_response_to_consumer=='Closed with monetary relief'].sample(sm_train3,random_state=123)\n",
    "small_train4 = train[train.company_response_to_consumer=='Untimely response'].sample(sm_train4,random_state=123)\n",
    "small_train5 = train[train.company_response_to_consumer=='Closed'].sample(sm_train5,random_state=123)\n",
    "small_val1 = validate[validate.company_response_to_consumer=='Closed with explanation'].sample(sm_val1,random_state=123)\n",
    "small_val2 = validate[validate.company_response_to_consumer=='Closed with non-monetary relief'].sample(sm_val2,random_state=123)\n",
    "small_val3 = validate[validate.company_response_to_consumer=='Closed with monetary relief'].sample(sm_val3,random_state=123)\n",
    "small_val4 = validate[validate.company_response_to_consumer=='Untimely response'].sample(sm_val4,random_state=123)\n",
    "small_val5 = validate[validate.company_response_to_consumer=='Closed'].sample(sm_val5,random_state=123)\n",
    "small_test1 = test[test.company_response_to_consumer=='Closed with explanation'].sample(sm_test1,random_state=123)\n",
    "small_test2 = test[test.company_response_to_consumer=='Closed with non-monetary relief'].sample(sm_test2,random_state=123)\n",
    "small_test3 = test[test.company_response_to_consumer=='Closed with monetary relief'].sample(sm_test3,random_state=123)\n",
    "small_test4 = test[test.company_response_to_consumer=='Untimely response'].sample(sm_test4,random_state=123)\n",
    "small_test5 = test[test.company_response_to_consumer=='Closed'].sample(sm_test5,random_state=123)\n",
    "\n",
    "small_train = pd.concat([small_train1,small_train2,small_train3,small_train4,small_train5])\n",
    "small_val = pd.concat([small_val1,small_val2,small_val3,small_val4,small_val5])\n",
    "small_test = pd.concat([small_test1,small_test2,small_test3,small_test4,small_test5])\n",
    "\n",
    "X_train = m.encode(small_train)\n",
    "X_train = X_train.drop(columns=['date_received','company_response_to_consumer','clean','state','company_name','tags','product_bins'])\n",
    "y_train = small_train['company_response_to_consumer']\n",
    "X_val = m.encode(small_val)\n",
    "X_val = X_val.drop(columns=['date_received','company_response_to_consumer','clean','state','company_name','tags','product_bins'])\n",
    "y_val = small_val['company_response_to_consumer']\n",
    "X_test = m.encode(small_test)\n",
    "X_test = X_test.drop(columns=['date_received','company_response_to_consumer','clean','state','company_name','tags','product_bins'])\n",
    "y_test = small_test['company_response_to_consumer']\n",
    "X_train.head()"
   ]
  },
  {
   "cell_type": "code",
   "execution_count": 26,
   "metadata": {},
   "outputs": [],
   "source": [
    "from sklearn.ensemble import GradientBoostingClassifier\n",
    "from sklearn.datasets import make_hastie_10_2\n",
    "from sklearn.metrics import accuracy_score"
   ]
  },
  {
   "cell_type": "code",
   "execution_count": null,
   "metadata": {},
   "outputs": [],
   "source": []
  }
 ],
 "metadata": {
  "deepnote": {},
  "deepnote_execution_queue": [],
  "deepnote_full_width": true,
  "deepnote_notebook_id": "65d1b71343c1468f8074881083d6c689",
  "kernelspec": {
   "display_name": "Python 3 (ipykernel)",
   "language": "python",
   "name": "python3"
  },
  "language_info": {
   "codemirror_mode": {
    "name": "ipython",
    "version": 3
   },
   "file_extension": ".py",
   "mimetype": "text/x-python",
   "name": "python",
   "nbconvert_exporter": "python",
   "pygments_lexer": "ipython3",
   "version": "3.9.13"
  }
 },
 "nbformat": 4,
 "nbformat_minor": 4
}
