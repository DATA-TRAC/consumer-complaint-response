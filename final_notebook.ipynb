{
 "cells": [
  {
   "cell_type": "markdown",
   "metadata": {
    "cell_id": "4d20436fa6a64bc9b7f1d8040b9bdbb2",
    "deepnote_cell_type": "markdown",
    "tags": []
   },
   "source": [
    "<div class=\"green\">\n",
    "    \n",
    "# <span style=\"color:green\">Consumer Complaint Response</span>\n",
    "    \n",
    "#### <span style=\"color:lightgreen\">GitHubs: [Tyler Kephart](https://github.com/tkephart96) | [Chellyan Moreno](https://github.com/chellyan-moreno) | [Rosendo Lugo](https://github.com/rosendo-lugo) | [Alexia Lewis](https://github.com/lewisalexia)</span>\n",
    "   \n",
    "</div>"
   ]
  },
  {
   "cell_type": "markdown",
   "metadata": {
    "cell_id": "9256d39675cd441bb50f004e817e6aa1",
    "deepnote_cell_type": "markdown"
   },
   "source": [
    "<div class=\"alert alert-success\">    \n",
    "    \n",
    "## Goal: \n",
    "This classification NLP project aims to provide an accurate prediction of company response based on the language of a consumer's complaint.\n",
    "\n",
    "## Description:\n",
    "\n",
    "Our project involves analyzing 3.5 million consumer complaints to the Consumer Financial Protection Bureau (CFPB) from 2011 to 2023. We'll use Natural language Processing to analyze how the wording of complaints affects a company's response. Our goal is to provide insights on complaint language and its impact, helping companies improve their responses and enhancing the outcomes for consumers and businesses.\n",
    "  \n",
    "</div>"
   ]
  },
  {
   "cell_type": "markdown",
   "metadata": {
    "cell_id": "093d90dd38e04eeeb2042b39ec8860a3",
    "deepnote_cell_type": "markdown",
    "tags": []
   },
   "source": [
    "# <span style=\"color:green\">Imports</span>\n",
    "    "
   ]
  },
  {
   "cell_type": "code",
   "execution_count": 1,
   "metadata": {
    "cell_id": "b076c25abc214e2ca956e0ba387521b0",
    "deepnote_cell_type": "code"
   },
   "outputs": [
    {
     "name": "stdout",
     "output_type": "stream",
     "text": [
      "imports loaded successfully, awaiting commands...\n"
     ]
    }
   ],
   "source": [
    "#local modules\n",
    "import wrangle as wr\n",
    "import explore as ex\n",
    "import model as mo\n",
    "\n",
    "#standard\n",
    "import pandas as pd\n",
    "\n",
    "#set random state\n",
    "random_state=123\n",
    "\n",
    "#ignore warnings\n",
    "import warnings\n",
    "warnings.filterwarnings(\"ignore\")\n",
    "\n",
    "pd.set_option(\"display.max_colwidth\", 250)"
   ]
  },
  {
   "cell_type": "markdown",
   "metadata": {
    "cell_id": "847202ed27164ed9b3d11d931c0a1d6b",
    "deepnote_cell_type": "markdown",
    "tags": []
   },
   "source": [
    "# <span style=\"color:green\">Wrangle</span>\n",
    "\n",
    "---\n",
    "\n",
    "* <span style=\"color:green\">Data acquired from [Google BigQuery](https://console.cloud.google.com/marketplace/product/cfpb/complaint-database)\n",
    "* <span style=\"color:green\">3,458,906 rows × 18 columns *before* cleaning\n",
    "* <span style=\"color:green\">1,238,536 rows x 7 columns *after* cleaning</span>"
   ]
  },
  {
   "cell_type": "markdown",
   "metadata": {
    "cell_id": "e28b340f83d3466896df99eb4b0d3ae9",
    "deepnote_cell_type": "markdown"
   },
   "source": [
    "\n",
    "### <span style=\"color:lightgreen\">Data Dictionary</span>"
   ]
  },
  {
   "cell_type": "markdown",
   "metadata": {
    "cell_id": "1c190b1550fc42d0a7207cd7dca8479f",
    "deepnote_cell_type": "markdown"
   },
   "source": [
    "<details>\n",
    "  <summary>Show Data Dictionary</summary>\n",
    "\n",
    "| Feature                               | Definition                                                                                  |\n",
    "| :------------------------------------ | :------------------------------------------------------------------------------------------ |\n",
    "| date_received                         | Date the complaint was received by the CFPB                                                 |\n",
    "| product                               | The type of product the consumer identified in the complaint                                |\n",
    "| subproduct                            | The type of sub-product the consumer identified in the complaint                            |\n",
    "| issue                                 | The issue the consumer identified in the complaint                                          |\n",
    "| subissue                              | The sub-issue the consumer identified in the complaint                                      |\n",
    "| consumer_complaint_narrative          | A description of the complaint provided by the consumer                                     |\n",
    "| company_public_response               | The company's optional public-facing response to a consumer's complaint                     |\n",
    "| company_name                          | Name of the company identified in the complaint by the consumer                             |\n",
    "| state                                 | Two-letter postal abbreviation of the state of the mailing address provided by the consumer |\n",
    "| zip_code                              | The mailing ZIP code provided by the consumer                                               |\n",
    "| tags                                  | Older American is aged 62 and older, Servicemember is Active/Guard/Reserve member or spouse |\n",
    "| consumer_consent_provided             | Identifies whether the consumer opted in to publish their complaint narrative               |\n",
    "| submitted_via                         | How the complaint was submitted to the CFPB                                                 |\n",
    "| date_sent_to_company                  | The date the CFPB sent the complaint to the company                                         |\n",
    "| company_response_to_consumer (target) | The response from the company about this complaint                                          |\n",
    "| timely_response                       | Indicates whether the company gave a timely response or not                                 |\n",
    "| consumer_disputed                     | Whether the consumer disputed the company's response                                        |\n",
    "| complaint_id                          | Unique ID for complaints registered with the CFPB                                           |\n",
    "| product_bins                          | Engineered Feature: bin related products together                                           |\n",
    "| clean                                 | Engineered Feature: tokenized, numbers/specials, and XX's removed                           |\n",
    "| lemon                                 | Engineered Feature: clean column PLUS lemmatization                                         |\n",
    "| response                              | Engineered Feature: binned company responses to relief and no relief                        |\n",
    "\n",
    "</details>"
   ]
  },
  {
   "cell_type": "markdown",
   "metadata": {
    "cell_id": "3ee16d073c2f426b95f4050a2414ce09",
    "deepnote_cell_type": "markdown",
    "tags": []
   },
   "source": [
    "# <span style=\"color:green\">Prepare</span>  \n",
    "---"
   ]
  },
  {
   "cell_type": "markdown",
   "metadata": {
    "cell_id": "916f2a7dc0344637be7a88256fc70aae",
    "deepnote_cell_type": "markdown",
    "tags": []
   },
   "source": [
    "* <span style=\"color:green\">Clean the data\n",
    "  * Drop columns\n",
    "  * Rename columns\n",
    "  * Remove nulls\n",
    "  * Fixed data type\n",
    "* <span style=\"color:green\">Create engineered columns from existing data\n",
    "  * Bin products\n",
    "  * Bin company responses\n",
    "  * Process narrative into lemon\n",
    "* <span style=\"color:green\">Encode categorical columns\n",
    "* <span style=\"color:green\">Split data (60/20/20)</span>\n"
   ]
  },
  {
   "cell_type": "markdown",
   "metadata": {},
   "source": [
    "<div class=\"alert alert-block alert-warning\">\n",
    "\n",
    "### **NOTE**: This is a new iteration, delete any parquet file and run again\n",
    "\n",
    "</div>"
   ]
  },
  {
   "cell_type": "code",
   "execution_count": 2,
   "metadata": {},
   "outputs": [
    {
     "name": "stdout",
     "output_type": "stream",
     "text": [
      "parquet file found and loaded\n"
     ]
    }
   ],
   "source": [
    "# Acquire and write/read CSV\n",
    "# Clean and NLTK prepare\n",
    "# relatively quicker 20+ min\n",
    "df = wr.wrangle_complaints()\n",
    "\n",
    "# longer run 50+ min\n",
    "# df = wr.wrangle_complaints_the_long_way()\n",
    "\n",
    "# bin responses to relief and no relief\n",
    "df = wr.prep_response(df)"
   ]
  },
  {
   "cell_type": "markdown",
   "metadata": {
    "cell_id": "5ca865c3ceb844f7b656bb0541e40888",
    "deepnote_cell_type": "markdown"
   },
   "source": [
    "<div class=\"alert alert-success\">    \n",
    "\n",
    "### Insight:\n",
    "    \n",
    "Used NLTK to clean each document resulting in:\n",
    "* 2 new columns: *lemon* (lemmatized, only real words, no stopwords) and *response* (binned company responses)\n",
    "\n",
    "Selected columns to proceed with after cleaning:\n",
    "* date_received, product_bins, company_name, state, tags, lemon, response (target)\n",
    "    \n",
    "</div>"
   ]
  },
  {
   "cell_type": "markdown",
   "metadata": {
    "cell_id": "fb82a0fe7a794debb505984fdff6ff38",
    "deepnote_cell_type": "markdown",
    "tags": []
   },
   "source": [
    "# <span style=\"color:green\">Explore</span>\n",
    "    \n",
    "---\n"
   ]
  },
  {
   "cell_type": "markdown",
   "metadata": {},
   "source": [
    "### <span style=\"color:lightgreen\">Split</span>"
   ]
  },
  {
   "cell_type": "code",
   "execution_count": 3,
   "metadata": {},
   "outputs": [
    {
     "name": "stdout",
     "output_type": "stream",
     "text": [
      "Prepared DF: (1238536, 7)\n",
      "Train: (743121, 7)\n",
      "Validate: (247707, 7)\n",
      "Test: (247708, 7)\n"
     ]
    }
   ],
   "source": [
    "# Split\n",
    "train, validate, test = wr.split_data(df,\"response\")"
   ]
  },
  {
   "cell_type": "markdown",
   "metadata": {
    "cell_id": "81bd3a3ba7fd444aa60448c5d6f06979",
    "deepnote_cell_type": "markdown",
    "tags": []
   },
   "source": [
    "<div class=\"alert alert-success\">  \n",
    "\n",
    "## <span style=\"color:darkgreen\">Questions To Answer:</span>\n",
    "\n",
    "**1. Are there words that get particular responses and is there a relationship?**\n",
    "* What are the payout words that got relief from the company?\n",
    "\n",
    "**2. Do all responses have a negative sentiment?**\n",
    "* Do narratives with a neutral or positive sentiment analysis relating to bank account products lead to relief from the company?\n",
    "\n",
    "**3. Are there unique words associated with no relief from the company?**\n",
    "\n",
    "**4. Which product is more likely to have relief?**\n",
    "</div>"
   ]
  },
  {
   "cell_type": "markdown",
   "metadata": {
    "cell_id": "de788727c8b34a9699e11fb7cb914aa7",
    "deepnote_cell_type": "markdown",
    "tags": []
   },
   "source": [
    "### <span style=\"color:lightblue\">**1. Are there words that get particular company responses and is there a relationship?**</span>"
   ]
  },
  {
   "cell_type": "markdown",
   "metadata": {
    "cell_id": "1183737517674afeaedd643c2a9f7022",
    "deepnote_cell_type": "code",
    "tags": []
   },
   "source": [
    "Initial Thoughts:\n",
    "* Separating each word by row and then do a frequency count of each word that appears in the lemon column\n",
    "* Sample: Max features of 20,000\n",
    "* Count Words: Use a CountVectorizer to count word appearances in each complaint\n",
    "* Compare: Calculate the average count of each word for each response to see which words are used most often\n",
    "* Visualize: Create a barplot to show which words are most associated with each response"
   ]
  },
  {
   "cell_type": "code",
   "execution_count": null,
   "metadata": {},
   "outputs": [],
   "source": [
    "word_counts, df_with_words, word_counts_ones = ex.get_word_counts2(train)\n",
    "ex.top_15_words2(word_counts_ones)"
   ]
  },
  {
   "cell_type": "code",
   "execution_count": null,
   "metadata": {},
   "outputs": [],
   "source": [
    "ex.frequent_words_plot2(df_with_words,word_counts_ones)"
   ]
  },
  {
   "cell_type": "markdown",
   "metadata": {
    "cell_id": "154f7fc2cefa4d1881afc8091de13bd1",
    "deepnote_cell_type": "markdown"
   },
   "source": [
    "<div class=\"alert alert-success\">    \n",
    "\n",
    "## Insight:\n",
    "* Based on the top 15 words there are no specific words that are associated with a specific respond.   \n",
    "\n",
    "* Common Words: \n",
    "    The most common words in all company responses are: \n",
    "    account,\n",
    "    credit,\n",
    "    report,\n",
    "    information,\n",
    "    payment,\n",
    "    loan,\n",
    "    time,\n",
    "    would,\n",
    "    debt,\n",
    "    company,\n",
    "    and \"day\"     \n",
    "* No Specific Words: \n",
    "    There are no specific words that are only associated with a certain type of company response. This means companies use similar language regardless of their response type. \n",
    "    \n",
    "* Account is Popular: \n",
    "    The word account is the most frequently used word in company responses. This suggests that many complaints are related to issues with accounts.  \n",
    "    \n",
    "* Response Types: \n",
    "    The response type \"Closed with explanation\" has the highest word count for all the top words. This means that companies tend to use more words when they are providing an explanation. \n",
    "    \n",
    "* Less Words for \"Untimely response\": \n",
    "    Companies use fewer words in their responses when the response is \"Untimely response\". This could mean that when companies respond late, they tend to provide less detailed responses. \n",
    "\n",
    "\n",
    "</div>"
   ]
  },
  {
   "cell_type": "markdown",
   "metadata": {
    "cell_id": "a3ef2e287a3d490aadfd13ff296541d7",
    "deepnote_cell_type": "markdown",
    "tags": []
   },
   "source": [
    "### <span style=\"color:lightblue\">**2. Do all responses have a negative sentiment?**</span>\n",
    "* <span style=\"color:lightblue\">Do narratives with a neutral or positive sentiment analysis relating to bank account products lead to relief from the company? </span>"
   ]
  },
  {
   "cell_type": "markdown",
   "metadata": {},
   "source": [
    "$H_0$: There is no significant effect of sentiment on company response to the consumer.\n",
    "\n",
    "\n",
    "$H_a$: There is a significant effect of sentiment on company response to the consumer."
   ]
  },
  {
   "cell_type": "code",
   "execution_count": null,
   "metadata": {},
   "outputs": [],
   "source": [
    "# visualize data and run statistical analysis\n",
    "ex.analyze_sentiment2(train)"
   ]
  },
  {
   "cell_type": "markdown",
   "metadata": {
    "cell_id": "0f6a8c14418a4c26a0fb3bf442db4d4c",
    "deepnote_cell_type": "markdown"
   },
   "source": [
    "<div class=\"alert alert-success\">    \n",
    "\n",
    "### Insight: \n",
    "#### - Overall, there is a strong correlation between the sentiment of consumer complaints and the corresponding responses from companies.\n",
    "\n",
    "1. **Mortgage**:\n",
    "  - Consumer complaints exhibit predominantly positive sentiment, and companies provide an equal distribution of responses across different categories.\n",
    "\n",
    "2. **Credit Report**:\n",
    "  - Consumer complaints with positive sentiment tend to receive the \"relief\" response most frequently.\n",
    "  - Overall, the sentiment of complaints is generally neutral to positive.\n",
    "\n",
    "3. **Debt Collection**:\n",
    "  - All consumer complaints have negative sentiment scores.\n",
    "\n",
    "4. **Loans**:\n",
    "  - Complaints regarding loans have sentiment scores ranging from neutral to positive. Companies provide different responses irrespective of the sentiment score.\n",
    "\n",
    "5. **Bank**:\n",
    "  - Sentiment scores for bank-related complaints are somewhat mixed, ranging from neutral to negative.\n",
    "\n",
    "6. **Money Service**:\n",
    "  - Sentiment scores for complaints about money services are neutral.\n",
    "\n",
    "7. **Credit Card**:\n",
    " - The majority of sentiment scores for credit card complaints range from neutral to positive. The most common response received by consumers is \"relief\".\n",
    "\n",
    "\n",
    "#### - These findings indicate that the sentiment of consumer complaints has an influence on the type of response received from companies across different industry sectors.\n"
   ]
  },
  {
   "cell_type": "markdown",
   "metadata": {
    "cell_id": "069962b4a3fb484ba87278b8685f5272",
    "deepnote_cell_type": "markdown",
    "tags": []
   },
   "source": [
    "### <span style=\"color:lightblue\">**3. Are there unique words associated with no relief from the company?**</span>\n",
    "* <span style=\"color:lightblue\">Are there unique words associated with products? Is there a relationship between unique product words and responses?</span>"
   ]
  },
  {
   "cell_type": "code",
   "execution_count": null,
   "metadata": {},
   "outputs": [],
   "source": [
    "# Get words per company response and per product\n",
    "word_counts = ex.get_words2(train).sort_values(by='all',ascending=False)\n",
    "word_counts = word_counts.sort_values(by='all',ascending=False)\n",
    "word_counts_products = ex.get_words_products(train)\n",
    "word_counts_products = word_counts_products.sort_values(by='all',ascending=False)"
   ]
  },
  {
   "cell_type": "code",
   "execution_count": null,
   "metadata": {
    "cell_id": "59579ba9acd34b79b8df417d16732c6a",
    "deepnote_cell_type": "code",
    "tags": []
   },
   "outputs": [],
   "source": [
    "# Visualize words per company response\n",
    "ex.unique_words(word_counts)"
   ]
  },
  {
   "cell_type": "code",
   "execution_count": null,
   "metadata": {},
   "outputs": [],
   "source": [
    "# Visualize words per product\n",
    "ex.unique_words(word_counts_products)"
   ]
  },
  {
   "cell_type": "markdown",
   "metadata": {
    "cell_id": "93d31283b1834f3380d103ea66c9cf02",
    "deepnote_cell_type": "markdown"
   },
   "source": [
    "<div class=\"alert alert-success\">\n",
    "\n",
    "## Insight:\n",
    "\n",
    "There is a relationship between words used in complaints responses. The words used relate to products that consumer's can complain about. There are unique words associated with each product and those words can be used to predict a response.\n",
    "\n",
    "### Company Responses and top 5 words:\n",
    "\n",
    "* Relief\n",
    "    * Account, Credit, Report, Payment, Information\n",
    "        * This type of response looks like it could relate to credit reporting products\n",
    "* No Relief\n",
    "    * Credit, Account, Report, Information, Reporting\n",
    "\n",
    "---\n",
    "\n",
    "### Products and top 5 words:\n",
    "* Credit Report\n",
    "    * Credit, Account, Report, Information, Reporting\n",
    "        * matches up with hypothesis where this type of product might get a response of ?????\n",
    "* Debt\n",
    "    * **Debt**, Credit, Account, **Collection**, Report\n",
    "        * matches up with hypothesis where this type of product might get a response of ?????\n",
    "* Credit Card\n",
    "    * **Card**, Credit, Account, Payment, **Charge**\n",
    "        * matches up with hypothesis where this type of product might get a response of ?????\n",
    "* Mortgage\n",
    "    * Payment, Loan, Mortgage, Would, **Time**\n",
    "        * matches up with hypothesis where this type of product might get a response of ?????\n",
    "* Loans\n",
    "    * Loan, Payment, Account, Would, Credit\n",
    "        * matches up with hypothesis where this type of product might get a response of ?????\n",
    "* Bank\n",
    "    * Account, Bank, **Check**, Money, Would\n",
    "        * matches up with hypothesis where this type of product might get a response of ?????\n",
    "* Money Service\n",
    "    * Account, Money, Bank, **Paypal**, **Transaction**\n",
    "        * matches up with hypothesis where this type of product might get a response of ?????\n",
    "\n",
    "\n",
    "</div>"
   ]
  },
  {
   "cell_type": "markdown",
   "metadata": {
    "cell_id": "8231a29d029b4659a98e879cd328018b",
    "deepnote_cell_type": "markdown",
    "tags": []
   },
   "source": [
    "### <span style=\"color:lightblue\">**4. Which product is more likely to have relief?**</span>"
   ]
  },
  {
   "cell_type": "code",
   "execution_count": 4,
   "metadata": {
    "cell_id": "5e32e170360246448bb61d7bbb061049",
    "deepnote_cell_type": "code"
   },
   "outputs": [
    {
     "data": {
      "image/png": "[encoded data removed]",
      "text/plain": [
       "<Figure size 640x480 with 1 Axes>"
      ]
     },
     "metadata": {},
     "output_type": "display_data"
    }
   ],
   "source": [
    "#visualize products and their proportions of relief\n",
    "ex.relief_product2(train)"
   ]
  },
  {
   "cell_type": "markdown",
   "metadata": {
    "cell_id": "c13f957f7ab54f76806462f23c0e765d",
    "deepnote_cell_type": "markdown"
   },
   "source": [
    "<div class=\"alert alert-success\">    \n",
    "\n",
    "### Insight: \n",
    "\n",
    "Credit card and bank related products have the highest chance of getting monetary relief at just under 20% of their total complaints. As for credit report products, we can see that they have the least chance of getting monetary relief.\n",
    "</div>"
   ]
  },
  {
   "cell_type": "markdown",
   "metadata": {},
   "source": [
    "<div class=\"alert alert-success\">  \n",
    "    \n",
    "## <span style=\"color:darkgreen\">Exploration Summary:</span>\n",
    "    \n",
    "* There are no specific words associated with a particular type of response in company responses.\n",
    "* The most common words in company responses include account, credit, report, information, payment, loan, time, debt, company, and day.\n",
    "* The response type \"Closed with explanation\" has the highest word count among the top words, suggesting that companies provide more detailed explanations in their responses.\n",
    "* Companies tend to use fewer words in their responses when the response type is \"Untimely response,\" possibly indicating less detailed explanations.\n",
    "* The sentiment of consumer complaints/narratives correlates with the corresponding responses from companies across different industry sectors.\n",
    "* Different product categories receive different types of responses based on the sentiment of the complaints/narratives.\n",
    "* The analysis of words used in complaints and company responses suggests that specific words can be associated with certain product categories and used to predict the type of response."
   ]
  },
  {
   "cell_type": "markdown",
   "metadata": {
    "cell_id": "9e8cd22252ae47219f9db426140e1921",
    "deepnote_cell_type": "markdown",
    "deepnote_to_be_reexecuted": false,
    "execution_millis": 21,
    "execution_start": 1689004677738,
    "source_hash": "acbafe96"
   },
   "source": [
    "# <span style=\"color:green\">Modeling</span>\n",
    "\n",
    "---"
   ]
  },
  {
   "cell_type": "markdown",
   "metadata": {
    "cell_id": "787b93405bea40e2b3cf4c44a1fe4107",
    "deepnote_cell_type": "code"
   },
   "source": [
    "<div class=\"alert alert-success\">  \n",
    "\n",
    "### <span style=\"color:darkslategray\">Data Sample:</span>\n",
    "- Calculated the sample size for each class category using a 20% sampling rate.\n",
    "\n",
    "- Created smaller datasets by sampling the specified number of samples from each class category.\n",
    "\n",
    "### <span style=\"color:darkslategray\">Term Frequencies used</span>\n",
    "- TF-IDF w/ monograms, bigrams, and trigrams\n",
    "\n",
    "### <span style=\"color:darkslategray\">Selected Classification Models:</span>\n",
    "- Decision Tree\n",
    "- Linear Support Vector Classification\n",
    "- Multi-Layer Perceptron\n",
    "\n",
    "### <span style=\"color:darkslategray\">Evaluation Metrics:</span>\n",
    "- Recall\n",
    "- Accuracy\n",
    "    * **<span style=\"color:blue\">Baseline: 79.31%</span>**\n",
    "\n",
    "### <span style=\"color:darkslategray\">Features Sent In:</span>\n",
    "- Top 2,900 words in 'lemon' column\n",
    "\n",
    "### <span style=\"color:darkslategray\">Data Sample:</span>\n",
    "- Calculated the sample size for each class category using a 20% sampling rate.\n",
    "\n",
    "- Created smaller datasets by sampling the specified number of samples from each class category.\n",
    "\n",
    "\n",
    "</div>"
   ]
  },
  {
   "cell_type": "code",
   "execution_count": null,
   "metadata": {},
   "outputs": [],
   "source": [
    "# Split into samples/ Split in x and y variables\n",
    "X_train, y_train, X_val, y_val, X_test, y_test = mo.process_data_modeling(train, validate, test)"
   ]
  },
  {
   "cell_type": "code",
   "execution_count": null,
   "metadata": {},
   "outputs": [],
   "source": [
    "#Count Vectorizer & TD-IDF\n",
    "#merge with encoded df\n",
    "X_train_cv, X_val_cv, X_train_tfe, X_val_tfe, X_test_tfe = mo.process_vector_merge(X_train,X_val,X_test) "
   ]
  },
  {
   "cell_type": "code",
   "execution_count": null,
   "metadata": {},
   "outputs": [],
   "source": [
    "#baseline visualization\n",
    "mo.baseline(y_train)"
   ]
  },
  {
   "cell_type": "code",
   "execution_count": null,
   "metadata": {},
   "outputs": [],
   "source": [
    "# Model 1: Logistic Regression  avg runtime 7 min\n",
    "# 2900 monograms TDF-IDF + encoded features\n",
    "mo.log_monogram_model(X_train_tfe,y_train,X_val_tfe,y_val)"
   ]
  },
  {
   "cell_type": "code",
   "execution_count": null,
   "metadata": {},
   "outputs": [],
   "source": [
    "# Model 2: Logistic Regression  avg runtime 17 min\n",
    "# 2900 mono, bi, & trigrams TDF-IDF + encoded features\n",
    "mo.log_multigram_model(X_train_tfe,y_train,X_val_tfe,y_val)"
   ]
  },
  {
   "cell_type": "code",
   "execution_count": null,
   "metadata": {},
   "outputs": [],
   "source": [
    "# Model 3: Random Forest    avg runtime 30 sec\n",
    "# 2900 mono, bi, & trigrams Count Vectorizer\n",
    "mo.forest_multigram_model(X_train_cv,y_train,X_val_cv,y_val)"
   ]
  },
  {
   "cell_type": "code",
   "execution_count": null,
   "metadata": {},
   "outputs": [],
   "source": [
    "# Model 4: Decision Tree    avg runtime 25 sec\n",
    "# 2900 mono, bi, & trigrams TDF-IDF + encoded features\n",
    "mo.tree_multigram_model(X_train_tfe,y_train,X_val_tfe,y_val)"
   ]
  },
  {
   "cell_type": "markdown",
   "metadata": {},
   "source": [
    "### <span style=\"color:lightblue\">Test Data Run:<span>"
   ]
  },
  {
   "cell_type": "code",
   "execution_count": null,
   "metadata": {},
   "outputs": [],
   "source": [
    "# running best model on test data   avg runtime 25 sec\n",
    "mo.test_tree(X_train_tfe,y_train,X_test_tfe,y_test)"
   ]
  },
  {
   "cell_type": "markdown",
   "metadata": {
    "cell_id": "f10b0b2178c448a8914d28964a822b5e",
    "deepnote_cell_type": "markdown"
   },
   "source": [
    "<div class=\"alert alert-success\">    \n",
    "\n",
    "### Insight: \n",
    "   - All models did not exceed our expectations.\n",
    "   \n",
    "- The best-performing model on our train and validate data is a Decision Tree Classifier with a max depth of 9 and minimum sample leaf of 11.\n",
    "- The validate data score was 79.35%. We decided to run it on the test data, and it gave us a score of 79.36%.\n",
    "- We plan to experiment with different features, types of grams combinations, and metrics to improve our model's prediction percentage.\n",
    "    \n",
    "''\n",
    "</div>"
   ]
  },
  {
   "cell_type": "markdown",
   "metadata": {
    "cell_id": "f10b0b2178c448a8914d28964a822b5e",
    "deepnote_cell_type": "markdown"
   },
   "source": [
    "<div class=\"alert alert-success\">  \n",
    "    \n",
    "## <span style=\"color:darkgreen\">Modeling Summary:</span>\n",
    "    \n",
    "* We found that a Decision Tree Classifier with a max depth of 9 and minimum sample leaf of 11 performed the best on our train, validate and test data. However, all models fell short of our expectations, prompting us to explore different feature combinations, types of grams, and evaluation metrics to enhance our model's prediction accuracy."
   ]
  },
  {
   "cell_type": "markdown",
   "metadata": {
    "cell_id": "995bb2ff3e6042b1824bcff6ca576413",
    "deepnote_cell_type": "markdown"
   },
   "source": [
    "# <span style=\"color:green\">Conclusion</span>\n",
    "\n",
    "---"
   ]
  },
  {
   "cell_type": "markdown",
   "metadata": {},
   "source": [
    "<div class=\"alert alert-warning\">  \n",
    "\n",
    "<div class=\"alert alert-success\"> \n",
    "\n",
    "\n",
    "# Project Summary:\n",
    "\n",
    "* No specific words are associated with a particular type of response in company responses.\n",
    "* Common words in company responses include account, credit, report, information, payment, loan, time, debt, company, and day.\n",
    "* \"Closed with explanation\" response type has the highest word count among the top words, indicating more detailed explanations from companies.\n",
    "* \"Untimely response\" tends to have fewer words, suggesting less detailed explanations.\n",
    "* Sentiment in consumer complaints aligns with corresponding company responses across industry sectors.\n",
    "* Different product categories receive distinct response types based on complaint sentiment.\n",
    "* Analysis of complaint and response words suggests predictive potential for response type based on associated product categories.\n",
    "* A Decision Tree Classifier with a max depth of 9 and minimum sample leaf of 11 performed best on train, validate, and test data, but all models fell short of expectations.\n",
    "* Further exploration of feature combinations, n-gram types, and evaluation metrics is underway to enhance prediction accuracy.\n",
    " \n",
    "</div>"
   ]
  },
  {
   "cell_type": "markdown",
   "metadata": {
    "cell_id": "f10b0b2178c448a8914d28964a822b5e",
    "deepnote_cell_type": "markdown"
   },
   "source": [
    "<div class=\"alert alert-success\">    \n",
    "\n",
    "## Recommendations & Next Steps\n",
    "* **Enhance Response Analysis**: The project highlights the need to analyze company responses to consumer complaints. Consider investing in natural language processing (NLP) techniques to extract meaningful insights from response data. By understanding the patterns and sentiments in responses, it might be possible to identify areas for improvement and optimize customer interactions.\n",
    "* **Monitor Sentiment and Product Categories**: Pay attention to sentiment analysis of consumer complaints across different product categories. Identify trends in sentiment and response types to understand customer expectations and tailor the response strategies accordingly. This can help to improve the overall customer experience and target specific pain points in different product categories.\n",
    "* **Address Discrimination and Bias**: Conduct further analysis on zip codes, states, and company responses to identify potential discrimination or bias in the complaint resolution process. Ensure fairness and equality by addressing any disparities and taking appropriate actions to eliminate discriminatory practices.\n",
    "* **Identify Industry Trends**: Look for industry-specific trends by analyzing complaints related to specific companies, such as Silicon Valley Bank and Bank of America. This analysis can help identify emerging issues, detect patterns of non-compliance, and proactively address potential risks.\n",
    "* **Continuous Improvement**: Treat the project as a starting point and continuously refine the complaint resolution processes. Regularly review customer feedback, complaints, and company responses to identify areas for improvement. Implement a feedback loop to integrate customer insights into operations and drive continuous improvement initiatives.\n",
    "\n",
    "</div>"
   ]
  },
  {
   "cell_type": "markdown",
   "metadata": {
    "cell_id": "7c6d32a08ace409285566694aef0167d",
    "deepnote_cell_type": "markdown"
   },
   "source": []
  }
 ],
 "metadata": {
  "deepnote": {},
  "deepnote_execution_queue": [],
  "deepnote_notebook_id": "6e76cfdb7dfe4f4caf85c9305effad9d",
  "kernelspec": {
   "display_name": "Python 3 (ipykernel)",
   "language": "python",
   "name": "python3"
  },
  "language_info": {
   "codemirror_mode": {
    "name": "ipython",
    "version": 3
   },
   "file_extension": ".py",
   "mimetype": "text/x-python",
   "name": "python",
   "nbconvert_exporter": "python",
   "pygments_lexer": "ipython3",
   "version": "3.9.16"
  }
 },
 "nbformat": 4,
 "nbformat_minor": 4
}
