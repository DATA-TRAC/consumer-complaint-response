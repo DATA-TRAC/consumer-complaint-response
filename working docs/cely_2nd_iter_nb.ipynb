{
 "cells": [
  {
   "cell_type": "code",
   "execution_count": 1,
   "metadata": {},
   "outputs": [
    {
     "name": "stdout",
     "output_type": "stream",
     "text": [
      "imports loaded successfully, awaiting commands...\n"
     ]
    }
   ],
   "source": [
    "#my modules\n",
    "import wrangle as wr\n",
    "import explore as ex\n",
    "import model as m\n",
    "\n",
    "#Imports\n",
    "import pandas as pd\n",
    "import numpy as np\n",
    "\n",
    "import nltk\n",
    "# nltk.download('words')\n",
    "# words = set(nltk.corpus.words.words())"
   ]
  },
  {
   "cell_type": "code",
   "execution_count": 2,
   "metadata": {},
   "outputs": [],
   "source": [
    "df = pd.read_parquet('df_prep.parquet')"
   ]
  },
  {
   "cell_type": "code",
   "execution_count": 3,
   "metadata": {},
   "outputs": [
    {
     "name": "stdout",
     "output_type": "stream",
     "text": [
      "<class 'pandas.core.frame.DataFrame'>\n",
      "RangeIndex: 1246736 entries, 0 to 1246735\n",
      "Data columns (total 8 columns):\n",
      " #   Column                        Non-Null Count    Dtype         \n",
      "---  ------                        --------------    -----         \n",
      " 0   date_received                 1246736 non-null  datetime64[ns]\n",
      " 1   company_name                  1246736 non-null  object        \n",
      " 2   state                         1246736 non-null  object        \n",
      " 3   tags                          1246736 non-null  object        \n",
      " 4   company_response_to_consumer  1246736 non-null  object        \n",
      " 5   product_bins                  1246736 non-null  object        \n",
      " 6   clean                         1246736 non-null  object        \n",
      " 7   lemon                         1246736 non-null  object        \n",
      "dtypes: datetime64[ns](1), object(7)\n",
      "memory usage: 76.1+ MB\n"
     ]
    }
   ],
   "source": [
    "df.info()"
   ]
  },
  {
   "cell_type": "code",
   "execution_count": 4,
   "metadata": {},
   "outputs": [],
   "source": [
    "relief = ['Closed with monetary relief', 'Closed with non-monetary relief']\n",
    "no_relief = ['Closed with explanation']\n",
    "df = df[df['company_response_to_consumer'] != \"Untimely response\"]\n",
    "df = df[df['company_response_to_consumer'] != \"Closed\"]\n",
    "df['response'] = np.where(df['company_response_to_consumer'].isin(relief),'relief','')\n",
    "df['response'] = np.where(df['company_response_to_consumer'].isin(no_relief),'no_relief',df['response'])\n",
    "df = df.drop(columns='company_response_to_consumer')"
   ]
  },
  {
   "cell_type": "code",
   "execution_count": 5,
   "metadata": {},
   "outputs": [
    {
     "name": "stdout",
     "output_type": "stream",
     "text": [
      "Prepared DF: (1238536, 8)\n",
      "Train: (743121, 8)\n",
      "Validate: (247707, 8)\n",
      "Test: (247708, 8)\n"
     ]
    }
   ],
   "source": [
    "# split\n",
    "train, validate, test = wr.split_data(df, 'response')"
   ]
  },
  {
   "cell_type": "code",
   "execution_count": 6,
   "metadata": {},
   "outputs": [],
   "source": [
    "sentiment_df= wr.sentiment_analysis(train)"
   ]
  },
  {
   "cell_type": "code",
   "execution_count": 9,
   "metadata": {},
   "outputs": [],
   "source": [
    "grouped_df = sentiment_df.groupby(['product_bins', 'response'])\n"
   ]
  },
  {
   "cell_type": "code",
   "execution_count": 10,
   "metadata": {},
   "outputs": [
    {
     "data": {
      "text/plain": [
       "product_bins     response \n",
       "bank             no_relief   -0.064332\n",
       "                 relief      -0.025203\n",
       "credit_card      no_relief    0.228293\n",
       "                 relief       0.203661\n",
       "credit_report    no_relief    0.127576\n",
       "                 relief       0.093646\n",
       "debt_collection  no_relief   -0.154207\n",
       "                 relief      -0.148750\n",
       "loans            no_relief    0.168811\n",
       "                 relief       0.186377\n",
       "money_service    no_relief    0.016596\n",
       "                 relief      -0.015807\n",
       "mortgage         no_relief    0.136263\n",
       "                 relief       0.190315\n",
       "Name: sentiment, dtype: float64"
      ]
     },
     "execution_count": 10,
     "metadata": {},
     "output_type": "execute_result"
    }
   ],
   "source": [
    "result = grouped_df['sentiment'].mean()\n",
    "result"
   ]
  },
  {
   "cell_type": "code",
   "execution_count": null,
   "metadata": {},
   "outputs": [],
   "source": []
  }
 ],
 "metadata": {
  "kernelspec": {
   "display_name": "base",
   "language": "python",
   "name": "python3"
  },
  "language_info": {
   "codemirror_mode": {
    "name": "ipython",
    "version": 3
   },
   "file_extension": ".py",
   "mimetype": "text/x-python",
   "name": "python",
   "nbconvert_exporter": "python",
   "pygments_lexer": "ipython3",
   "version": "3.9.13"
  },
  "orig_nbformat": 4
 },
 "nbformat": 4,
 "nbformat_minor": 2
}
