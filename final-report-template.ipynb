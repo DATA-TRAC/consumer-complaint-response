{
 "cells": [
  {
   "cell_type": "markdown",
   "metadata": {
    "cell_id": "4d20436fa6a64bc9b7f1d8040b9bdbb2",
    "deepnote_cell_type": "markdown",
    "tags": []
   },
   "source": [
    "<div class=\"alert alert-warning\"> \n",
    "    \n",
    "# Consumer Complaint Response\n",
    "    \n",
    "#### <span style=\"color:teal\">GitHubs: [Tyler Kephart](https://github.com/tkephart96), [Chellyan Moreno](https://github.com/chellyan-moreno), [Rosendo Lugo](https://github.com/rosendo-lugo), [Alexia Lewis](https://github.com/lewisalexia)</span>\n",
    "    \n",
    "</div>"
   ]
  },
  {
   "cell_type": "markdown",
   "metadata": {
    "cell_id": "9256d39675cd441bb50f004e817e6aa1",
    "deepnote_cell_type": "markdown"
   },
   "source": [
    "<div class=\"alert alert-success\">    \n",
    "    \n",
    "## Goal: \n",
    "This classification NLP project aims to provide an accurate prediction of company response based on the language of a consumer's complaint.\n",
    "\n",
    "## Description:\n",
    "\n",
    "Our project involves analyzing 3.5 million consumer complaints to the Consumer Financial Protection Bureau (CFPB) from 2011 to 2023. We'll use Natural language Processing to analyze how the wording of complaints affects a company's response. Our goal is to provide insights on complaint language and its impact, helping companies improve their responses and enhancing the outcomes for consumers and businesses.\n",
    "  \n",
    "</div>"
   ]
  },
  {
   "cell_type": "markdown",
   "metadata": {
    "cell_id": "093d90dd38e04eeeb2042b39ec8860a3",
    "deepnote_cell_type": "markdown",
    "tags": []
   },
   "source": [
    "<div class=\"alert alert-warning\"> \n",
    "    \n",
    "# Imports\n",
    "    \n",
    "### <span style=\"color:teal\">Libraries Used: google.oauth2, Pandas_gbq, os, ...</span>\n",
    "\n",
    "</div>"
   ]
  },
  {
   "cell_type": "code",
   "execution_count": null,
   "metadata": {
    "cell_id": "b076c25abc214e2ca956e0ba387521b0",
    "deepnote_cell_type": "code"
   },
   "outputs": [],
   "source": [
    "# #.py modules\n",
    "import wrangle as wr\n",
    "import explore as ex\n",
    "import model as mo\n",
    "\n",
    "#standard\n",
    "import pandas as pd\n",
    "import numpy as np\n",
    "import re\n",
    "\n",
    "#file\n",
    "import os\n",
    "import json\n",
    "\n",
    "#vizz\n",
    "import seaborn as sns\n",
    "import matplotlib.pyplot as plt\n",
    "from wordcloud import WordCloud\n",
    "\n",
    "#preprocess\n",
    "from sklearn.feature_extraction.text import CountVectorizer, TfidfVectorizer\n",
    "\n",
    "#split and model\n",
    "from sklearn.model_selection import train_test_split\n",
    "from sklearn.tree import DecisionTreeClassifier\n",
    "from sklearn.neighbors import KNeighborsClassifier\n",
    "\n",
    "#set random state\n",
    "random_state=123\n",
    "\n",
    "#ignore warnings\n",
    "import warnings\n",
    "warnings.filterwarnings(\"ignore\")\n",
    "\n",
    "pd.set_option(\"display.max_colwidth\", 250)\n",
    "\n",
    "random_state = 123"
   ]
  },
  {
   "cell_type": "markdown",
   "metadata": {
    "cell_id": "847202ed27164ed9b3d11d931c0a1d6b",
    "deepnote_cell_type": "markdown",
    "tags": []
   },
   "source": [
    "<div class=\"alert alert-warning\"> \n",
    "\n",
    "# Wrangle\n",
    "    \n",
    "---\n",
    "    \n",
    "## Acquire\n",
    "\n",
    "### <span style=\"color:teal\">Libraries Used: google.oauth2, Pandas_gbq, os, ...</span>\n",
    "\n",
    "</div>\n",
    "\n",
    "* Data acquired from [Google BigQuery](https://console.cloud.google.com/marketplace/product/cfpb/complaint-database)\n",
    "* 3,458,906 rows × 18 columns *before* cleaning\n",
    "* 1,246,736 rows x 8 columns *after* cleaning"
   ]
  },
  {
   "cell_type": "markdown",
   "metadata": {
    "cell_id": "e28b340f83d3466896df99eb4b0d3ae9",
    "deepnote_cell_type": "markdown"
   },
   "source": [
    "\n",
    "### Data Dictionary"
   ]
  },
  {
   "cell_type": "markdown",
   "metadata": {
    "cell_id": "1c190b1550fc42d0a7207cd7dca8479f",
    "deepnote_cell_type": "markdown"
   },
   "source": [
    "| Feature                               | Definition                                                                                  |\n",
    "| :------------------------------------ | :------------------------------------------------------------------------------------------ |\n",
    "| date_received                         | Date the complaint was received by the CFPB                                                 |\n",
    "| product                               | The type of product the consumer identified in the complaint                                |\n",
    "| subproduct                            | The type of sub-product the consumer identified in the complaint                            |\n",
    "| issue                                 | The issue the consumer identified in the complaint                                          |\n",
    "| subissue                              | The sub-issue the consumer identified in the complaint                                      |\n",
    "| consumer_complaint_narrative          | A description of the complaint provided by the consumer                                     |\n",
    "| company_public_response               | The company's optional public-facing response to a consumer's complaint                     |\n",
    "| company_name                          | Name of the company identified in the complaint by the consumer                             |\n",
    "| state                                 | Two-letter postal abbreviation of the state of the mailing address provided by the consumer |\n",
    "| zip_code                              | The mailing ZIP code provided by the consumer                                               |\n",
    "| tags                                  | Older American is aged 62 and older, Servicemember is Active/Guard/Reserve member or spouse |\n",
    "| consumer_consent_provided             | Identifies whether the consumer opted in to publish their complaint narrative               |\n",
    "| submitted_via                         | How the complaint was submitted to the CFPB                                                 |\n",
    "| date_sent_to_company                  | The date the CFPB sent the complaint to the company                                         |\n",
    "| company_response_to_consumer (target) | The response from the company about this complaint                                          |\n",
    "| timely_response                       | Indicates whether the company gave a timely response or not                                 |\n",
    "| consumer_disputed                     | Whether the consumer disputed the company's response                                        |\n",
    "| complaint_id                          | Unique ID for complaints registered with the CFPB                                           |"
   ]
  },
  {
   "cell_type": "code",
   "execution_count": null,
   "metadata": {},
   "outputs": [],
   "source": [
    "# Acquire and write/read CSV\n",
    "df = wr.check_file_exists_gbq('cfpb.csv', 'service_key.json')"
   ]
  },
  {
   "cell_type": "markdown",
   "metadata": {
    "cell_id": "b1bd204735124722bc7543694d9fdf67",
    "deepnote_cell_type": "markdown"
   },
   "source": [
    "<div class=\"alert alert-success\">    \n",
    "\n",
    "### Insight: \n",
    "    \n",
    "* **Quick run**\n",
    "    * Verify `import wrangle as w` is in the imports section \n",
    "    * Run final report\n",
    "    * This will use a pre-built and cleaned parquet file\n",
    "<br>\n",
    "<br>\n",
    "* **For the longer run: ⚠️WARNING⚠️:** These are almost the same steps we took to originally acquire the data. The steps take a lot of time (and space) and may not even be the best way of doing it. We highly recommend doing the quick run above unless you want to know how we got the data.\n",
    "    * Verify `import big_wrangle as w` is in the imports section\n",
    "    * Install the pandas-gbq package\n",
    "        * `pip install pandas-gbq`\n",
    "    * Go to Google BigQuery and create a project\n",
    "    * Copy the `'long-SQL queries found in big_wrangle.py`\n",
    "        * Run in [Google BigQuery](https://cloud.google.com/bigquery/public-data)\n",
    "    * Click on 'Go to Datasets in Cloud Marketplace' and search for 'CFPB'\n",
    "        * View the dataset to open a quick SQL prompt to query in\n",
    "    * Save each result as a BigQuery table in your project\n",
    "    * You can look in `big_wrangle.py for what we named our project, database, and tables`\n",
    "    * Edit and save the `'small-SQL query variables found in big_wrangle.py` to the respective table names in your BigQuery project using this format: \n",
    "        * ***FROM 'database. table' and edit the 'project_ID' variable to your project's ID***\n",
    "    * Run final report\n",
    "    * It may ask for authentication when it tries to query Google BigQuery\n",
    "        * Try to run again if it stopped\n",
    "    * This will run through the longer pathway of getting the datasets from the source and merging/cleaning/prep\n",
    "    * It will probably take a while **(3+ millions of rows, +2GB)**\n",
    "\n",
    "</div>"
   ]
  },
  {
   "cell_type": "markdown",
   "metadata": {
    "cell_id": "3ee16d073c2f426b95f4050a2414ce09",
    "deepnote_cell_type": "markdown",
    "jp-MarkdownHeadingCollapsed": true,
    "tags": []
   },
   "source": [
    "<div class=\"alert alert-warning\"> \n",
    "\n",
    "# Prepare\n",
    "\n",
    "### **<span style=\"color:teal\">Libraries Used: Regex, NLTK, Unicode, Pandas...</span>**\n",
    "\n",
    "---\n",
    "</div>"
   ]
  },
  {
   "cell_type": "markdown",
   "metadata": {
    "cell_id": "916f2a7dc0344637be7a88256fc70aae",
    "deepnote_cell_type": "markdown",
    "jp-MarkdownHeadingCollapsed": true,
    "tags": []
   },
   "source": [
    "* **date_received**\n",
    "  * changed date to DateTime\n",
    "  * no nulls\n",
    "  * 2015 to 2023\n",
    "    <br>\n",
    "  <br>\n",
    "  \n",
    "* **product**\n",
    "  * no nulls\n",
    "  * credit related\n",
    "  * *<span style=\"color:orange\">ENGINEERED FEATURE</span>*\n",
    "    * **<span style=\"color:orange\">bin related products/services together</span>**\n",
    "        * <span style=\"color:orange\">bins = credit_report, credit_card, debt_collection, mortgage, bank, loans, and money_service</span>\n",
    "    * **<span style=\"color:red\">drop after engineering</span>**\n",
    "  <br>\n",
    "  <br>\n",
    "* **subproduct**\n",
    "  * 7% null\n",
    "  * top value = credit reporting\n",
    "  * fill nulls with the product\n",
    "  * what does subproduct correlate with?\n",
    "    * **<span style=\"color:red\">drop column</span>**\n",
    "      <br>\n",
    "  <br>\n",
    "* **issue**\n",
    "  * no nulls\n",
    "  * 165 unique values\n",
    "  * concat into consumer_complaint_narrative column to address those nulls and then drop the issue\n",
    "    * **<span style=\"color:red\">drop column</span>**\n",
    "      <br>\n",
    "  <br>\n",
    "* **subissue**\n",
    "  * 20% null\n",
    "  * 221 unique\n",
    "    * **<span style=\"color:red\">drop column</span>**    \n",
    "      <br>\n",
    "  <br>\n",
    "* **consumer_complaint_narrative**\n",
    "  * 64% null\n",
    "  * renamed to narrative\n",
    "    * **<span style=\"color:orange\">drop all null values</span>**\n",
    "    * **<span style=\"color:red\">drop column after NLTK cleaning</span>**  \n",
    "       <br>\n",
    "  <br>\n",
    "* **company_public_response**\n",
    "  * 56% null\n",
    "    * **<span style=\"color:red\">drop column</span>**\n",
    "    * **<span style=\"color:blue\">nice-to-have: second iteration</span>**\n",
    "      <br>\n",
    "  <br>\n",
    "* **company_name**\n",
    "  * no nulls\n",
    "  * 6,694 Companies\n",
    "  <br>\n",
    "  <br>\n",
    "* **state**\n",
    "  * 1% null\n",
    "  * keep for purposes of exploration\n",
    "  * do not broad bin (causes manipulation)\n",
    "    * **<span style=\"color:orange\">bin 1% null into UNKNOWN label</span>**\n",
    "      <br>\n",
    "  <br>\n",
    "* **zip code**\n",
    "  * 1% null\n",
    "  * located a string buried in the data\n",
    "    * **<span style=\"color:red\">drop column</span>**    \n",
    "    * **<span style=\"color:blue\">nice-to-have: second iteration</span>**\n",
    "      <br>\n",
    "  <br>\n",
    "* **tags**\n",
    "  * 89% null\n",
    "  * domain knowledge: 62 and older accounted for senior - pulled straight from the source\n",
    "      * **<span style=\"color:orange\">impute nulls with \"Average Person label</span>**\n",
    "      <br>\n",
    "  <br>\n",
    "* **consumer_consent_provided**\n",
    "  * does not relate to the target\n",
    "    * **<span style=\"color:red\">drop column</span>**    \n",
    "      <br>\n",
    "  <br>\n",
    "* **submitted_via**\n",
    "  * no nulls\n",
    "    * **<span style=\"color:red\">drop column</span>**    \n",
    "      <br>\n",
    "  <br>\n",
    "* **date_sent_to_company**\n",
    "  * no nulls\n",
    "    * **<span style=\"color:red\">drop column</span>**    \n",
    "      <br>\n",
    "  <br>\n",
    "* **company_response_to_consumer**\n",
    "  * 4 nulls = 0%\n",
    "    * **<span style=\"color:orange\">drop these 4 rows because this is the target column</span>**\n",
    "  * 8 unique values\n",
    "    * **<span style=\"color:blue\">nice to have: apply the model to in_progress complaints and see what it predicts based on the language</span>**\n",
    "    * **<span style=\"color:orange\">drop 'in progress' response because there is no conclusion</span>**\n",
    "  <br>\n",
    "  <br>\n",
    "* **timely_response**\n",
    "  * no nulls\n",
    "  * boolean\n",
    "    * **<span style=\"color:red\">drop column</span>**    \n",
    "      <br>\n",
    "  <br>\n",
    "* **consumer_disputed**\n",
    "  * 77% null\n",
    "    * **<span style=\"color:red\">drop column</span>**    \n",
    "      <br>\n",
    "  <br>\n",
    "* **complaint_id**\n",
    "  * no nulls\n",
    "    * **<span style=\"color:red\">drop column</span>** \n",
    "    * **<span style=\"color:blue\">nice-to-have: second iteration</span>**\n",
    "      <br>\n",
    "  <br>"
   ]
  },
  {
   "cell_type": "code",
   "execution_count": null,
   "metadata": {},
   "outputs": [],
   "source": [
    "# Clean\n",
    "df_clean = wr.clean_data(df)\n",
    "# Write to Parquet\n",
    "df_clean.to_parquet('df_clean.parquet')\n",
    "# Assign\n",
    "df_clean = pd.read_parquet('df_clean.parquet')\n",
    "\n",
    "# Prep\n",
    "df_prep = wr.prep_narrative(df_clean)\n",
    "# Write to Parquet\n",
    "df_prep.to_parquet('df_prep.parquet')\n",
    "# Assign\n",
    "df_prep = pd.read_parquet('df_prep.parquet')"
   ]
  },
  {
   "cell_type": "markdown",
   "metadata": {
    "cell_id": "5ca865c3ceb844f7b656bb0541e40888",
    "deepnote_cell_type": "markdown"
   },
   "source": [
    "<div class=\"alert alert-success\">    \n",
    "\n",
    "### Insight:\n",
    "    \n",
    "Dropped columns:\n",
    "* product (after engineering new feature)\n",
    "* subproduct\n",
    "* issue\n",
    "* subissue\n",
    "* consumer_complaint_narrative (after NLTK cleaning)\n",
    "* company_public_response\n",
    "* zip_code\n",
    "* consumer_consent_provided\n",
    "* submitted_via\n",
    "* date_sent_to_company\n",
    "* timely_response\n",
    "* consumer_disputed\n",
    "* complaint_id\n",
    "    <br>\n",
    "    <br>\n",
    "    \n",
    "Used NLTK to clean each document resulting in:\n",
    "* 2 new columns: *clean* (removes redacted XXs, and stopwords removed) and *lemon* (lemmatized)\n",
    "    <br>\n",
    "    <br>\n",
    "    \n",
    "Selected columns to proceed with after cleaning:\n",
    "* date_received, product_bins, company_name, state, tags, company_response_to_customer (target), clean, lemon\n",
    "    \n",
    "</div>"
   ]
  },
  {
   "cell_type": "markdown",
   "metadata": {
    "cell_id": "fb82a0fe7a794debb505984fdff6ff38",
    "deepnote_cell_type": "markdown",
    "tags": []
   },
   "source": [
    "<div class=\"alert alert-warning\"> \n",
    "\n",
    "# Explore\n",
    "\n",
    "## <span style=\"color:teal\">Libraries Used: Numpy, Pandas, Seaborn, Matplotlib, Scipy ...</span>\n",
    "\n",
    "---\n",
    "</div>"
   ]
  },
  {
   "cell_type": "markdown",
   "metadata": {},
   "source": [
    "### Split and Parquet"
   ]
  },
  {
   "cell_type": "code",
   "execution_count": null,
   "metadata": {},
   "outputs": [],
   "source": [
    "# Split\n",
    "train, validate, test = wr.split_data(df_prep,\"company_response_to_consumer\")\n",
    "\n",
    "# Write to Parquet\n",
    "train.to_parquet('train.parquet')\n",
    "validate.to_parquet('validate.parquet')\n",
    "test.to_parquet('test.parquet')\n",
    "\n",
    "# Assign \n",
    "train = pd.read_parquet('train.parquet')\n",
    "validate = pd.read_parquet('validate.parquet')\n",
    "test = pd.read_parquet('test.parquet')"
   ]
  },
  {
   "cell_type": "markdown",
   "metadata": {
    "cell_id": "81bd3a3ba7fd444aa60448c5d6f06979",
    "deepnote_cell_type": "markdown",
    "tags": []
   },
   "source": [
    "## Questions To Answer:\n",
    "\n",
    "**1. Are there words that get particular responses and is there a relationship?**\n",
    "* What are the payout words that got a company response of closed with monetary relief?\n",
    "* Are there unique words associated with products? Is there a relationship between unique product words and responses?\n",
    "<br>\n",
    "\n",
    "**2. Do all responses have a negative sentiment?**\n",
    "* Do narratives with a neutral or positive sentiment analysis relating to bank account products lead to a response of closed with monetary relief?\n",
    "<br>\n",
    "\n",
    "**3. Are there unique words associated with the most negative and most positive company responses?**\n",
    "<br>\n",
    "\n",
    "**4. Which product is more likely to have monetary relief?**"
   ]
  },
  {
   "cell_type": "markdown",
   "metadata": {
    "cell_id": "de788727c8b34a9699e11fb7cb914aa7",
    "deepnote_cell_type": "markdown",
    "tags": []
   },
   "source": [
    "### **1. Are there words that get particular company responses and is there a relationship?**\n",
    "* Are there unique words associated with products? Is there a relationship between unique product words and responses?"
   ]
  },
  {
   "cell_type": "markdown",
   "metadata": {},
   "source": [
    "$H_0$: This notebook is not pretty\n",
    "\n",
    "\n",
    "$H_a$: This notebook is pretty"
   ]
  },
  {
   "cell_type": "code",
   "execution_count": null,
   "metadata": {
    "cell_id": "1183737517674afeaedd643c2a9f7022",
    "deepnote_cell_type": "code",
    "tags": []
   },
   "outputs": [],
   "source": [
    "# Get words per company response and per product\n",
    "word_counts = ex.get_words(train).sort_values(by='all',ascending=False)\n",
    "word_counts = word_counts.sort_values(by='all',ascending=False)\n",
    "word_counts_products = ex.get_words_products(train)\n",
    "word_counts_products = word_counts_products.sort_values(by='all',ascending=False)"
   ]
  },
  {
   "cell_type": "code",
   "execution_count": null,
   "metadata": {
    "cell_id": "40b626c6b14e40a7a2bf3cef1da8f4a4",
    "deepnote_cell_type": "code"
   },
   "outputs": [],
   "source": [
    "# Visualize words per company response\n",
    "ex.unique_words(word_counts)"
   ]
  },
  {
   "cell_type": "code",
   "execution_count": null,
   "metadata": {},
   "outputs": [],
   "source": [
    "# Visualize words per product\n",
    "ex.unique_words(word_counts_products)"
   ]
  },
  {
   "cell_type": "markdown",
   "metadata": {
    "cell_id": "154f7fc2cefa4d1881afc8091de13bd1",
    "deepnote_cell_type": "markdown"
   },
   "source": [
    "<div class=\"alert alert-success\">    \n",
    "\n",
    "## Insight:\n",
    "\n",
    "There is a relationship between words used in complaints and company responses. The words used relate to products that consumer's can complain about. There are unique words associated with each product and those words can be used to predict a company response.\n",
    "    \n",
    "### Company Responses and top 5 words:\n",
    "\n",
    "* Explanation\n",
    "    * Account, Credit, Report, Payment, Information\n",
    "        * This type of response looks like it could relate to credit reporting products\n",
    "* Non-Monetary\n",
    "    * Credit, Account, Report, Information, Reporting\n",
    "* **Monetary**\n",
    "    * Account, **Bank**, **Card**, Credit, Payment\n",
    "        * This type of response looks like it could relate to credit card or bank products\n",
    "* **Untimely Reponse**\n",
    "    * **Debt**, Credit, Account, **Company**, **Loan**\n",
    "        * This type of response looks like it could relate to debt products\n",
    "* Closed\n",
    "    * Account, Debt, Credit, Payment, Loan\n",
    "---\n",
    "\n",
    "### Products and top 5 words:\n",
    "* Credit Report\n",
    "    * Credit, Account, Report, Information, Reporting\n",
    "        * matches up with hypothesis where this type of product might get a response of explanation or non-monetary relief\n",
    "* Debt\n",
    "    * **Debt**, Credit, Account, **Collection**, Report\n",
    "        * matches up with hypothesis where this type of product might get an untimely response\n",
    "* Credit Card\n",
    "    * **Card**, Credit, Account, Payment, **Charge**\n",
    "        * matches up with hypothesis where this type of product might get a response of monetary relief\n",
    "* Mortgage\n",
    "    * Payment, Loan, Mortgage, Would, **Time**\n",
    "        * matches up with hypothesis where this type of product might get a response of closed\n",
    "* Loans\n",
    "    * Loan, Payment, Account, Would, Credit\n",
    "        * matches up with hypothesis where this type of product might get a response of closed\n",
    "* Bank\n",
    "    * Account, Bank, **Check**, Money, Would\n",
    "        * matches up with hypothesis where this type of product might get a response of monetary relief\n",
    "* Money Service\n",
    "    * Account, Money, Bank, **Paypal**, **Transaction**\n",
    "        * matches up with hypothesis where this type of product might get a response of monetary relief\n",
    "    \n",
    "\n",
    "</div>"
   ]
  },
  {
   "cell_type": "markdown",
   "metadata": {
    "cell_id": "a3ef2e287a3d490aadfd13ff296541d7",
    "deepnote_cell_type": "markdown",
    "tags": []
   },
   "source": [
    "### **2. Do all responses have a negative sentiment?**\n",
    "* Do narratives with a neutral or positive sentiment analysis relating to bank account products lead to a response of closed with monetary relief? "
   ]
  },
  {
   "cell_type": "markdown",
   "metadata": {},
   "source": [
    "$H_0$: There is no significant effect of sentiment on company response to the consumer.\n",
    "\n",
    "\n",
    "$H_a$: There is a significant effect of sentiment on company response to the consumer."
   ]
  },
  {
   "cell_type": "code",
   "execution_count": null,
   "metadata": {},
   "outputs": [],
   "source": [
    "# visualize data and run statistical analysis\n",
    "ex.analyze_sentiment(train)"
   ]
  },
  {
   "cell_type": "markdown",
   "metadata": {
    "cell_id": "0f6a8c14418a4c26a0fb3bf442db4d4c",
    "deepnote_cell_type": "markdown"
   },
   "source": [
    "<div class=\"alert alert-success\">    \n",
    "\n",
    "### Insight: \n",
    "#### - Overall, there is a strong correlation between the sentiment of consumer complaints/narratives and the corresponding responses from companies.\n",
    "\n",
    "1. **Mortgage**:\n",
    "  - Consumer complaints/narratives exhibit predominantly positive sentiment, and companies provide an equal distribution of responses across different categories.\n",
    "  \n",
    "2. **Credit Report**:\n",
    "  - Consumer complaints/narratives with positive sentiment tend to receive the \"closed with monetary relief\" response most frequently.\n",
    "  - Overall, the sentiment of complaints/narratives is generally neutral to positive.\n",
    "  \n",
    "3. **Debt Collection**:\n",
    "  - All consumer complaints/narratives have negative sentiment scores, and the complaints with the most negative scores typically receive an \"untimely response.\"\n",
    "  \n",
    "4. **Loans**:\n",
    "  - Complaints/narratives regarding loans have sentiment scores ranging from neutral to positive. Companies provide different responses irrespective of the sentiment score.\n",
    "   \n",
    "5. **Bank**:\n",
    "  - Sentiment scores for bank-related complaints/narratives are somewhat mixed, ranging from neutral to negative. The more negative complaints tend to receive a \"closed\" or \"untimely response.\"\n",
    "  \n",
    "6. **Money Service**:\n",
    "  - Sentiment scores for complaints/narratives about money services vary between negative and positive. The most negative complaints receive a \"closed\" response.\n",
    "  \n",
    "7. **Credit Card**:\n",
    " - The majority of sentiment scores for credit card complaints/narratives range from neutral to positive. The most common response received by consumers is \"closed with non-monetary relief.\"\n",
    " \n",
    " \n",
    "#### - These findings indicate that the sentiment of consumer complaints/narratives has an influence on the type of response received from companies across different industry sectors.\n"
   ]
  },
  {
   "cell_type": "markdown",
   "metadata": {
    "cell_id": "069962b4a3fb484ba87278b8685f5272",
    "deepnote_cell_type": "markdown",
    "tags": []
   },
   "source": [
    "### **3. Are there unique words associated with the most negative and most positive company responses?**\n"
   ]
  },
  {
   "cell_type": "markdown",
   "metadata": {},
   "source": [
    "$H_0$: This notebook is not pretty\n",
    "\n",
    "\n",
    "$H_a$: This notebook is pretty"
   ]
  },
  {
   "cell_type": "code",
   "execution_count": null,
   "metadata": {
    "cell_id": "4b7c26b7097440bfa60cdbb2d95b0321",
    "deepnote_cell_type": "code"
   },
   "outputs": [],
   "source": [
    "#visualize\n"
   ]
  },
  {
   "cell_type": "code",
   "execution_count": null,
   "metadata": {
    "cell_id": "59579ba9acd34b79b8df417d16732c6a",
    "deepnote_cell_type": "code",
    "tags": []
   },
   "outputs": [],
   "source": [
    "#analyze\n"
   ]
  },
  {
   "cell_type": "markdown",
   "metadata": {
    "cell_id": "93d31283b1834f3380d103ea66c9cf02",
    "deepnote_cell_type": "markdown"
   },
   "source": [
    "<div class=\"alert alert-success\">    \n",
    "\n",
    "### Insight: \n",
    "    \n",
    "''\n",
    "</div>"
   ]
  },
  {
   "cell_type": "markdown",
   "metadata": {
    "cell_id": "8231a29d029b4659a98e879cd328018b",
    "deepnote_cell_type": "markdown",
    "tags": []
   },
   "source": [
    "### **4. Which product is more likely to have monetary relief?**"
   ]
  },
  {
   "cell_type": "markdown",
   "metadata": {},
   "source": [
    "$H_0$: This notebook is not pretty\n",
    "\n",
    "\n",
    "$H_a$: This notebook is pretty"
   ]
  },
  {
   "cell_type": "code",
   "execution_count": null,
   "metadata": {
    "cell_id": "5e32e170360246448bb61d7bbb061049",
    "deepnote_cell_type": "code"
   },
   "outputs": [],
   "source": [
    "#visualize\n"
   ]
  },
  {
   "cell_type": "code",
   "execution_count": null,
   "metadata": {
    "cell_id": "04bb6436a44c4421949be99761eeb3ae",
    "deepnote_cell_type": "code"
   },
   "outputs": [],
   "source": [
    "#analyze\n"
   ]
  },
  {
   "cell_type": "markdown",
   "metadata": {
    "cell_id": "c13f957f7ab54f76806462f23c0e765d",
    "deepnote_cell_type": "markdown"
   },
   "source": [
    "<div class=\"alert alert-success\">    \n",
    "\n",
    "### Insight: \n",
    "    \n",
    "''\n",
    "</div>"
   ]
  },
  {
   "cell_type": "markdown",
   "metadata": {
    "cell_id": "9e8cd22252ae47219f9db426140e1921",
    "deepnote_cell_type": "markdown",
    "deepnote_to_be_reexecuted": false,
    "execution_millis": 21,
    "execution_start": 1689004677738,
    "source_hash": "acbafe96"
   },
   "source": [
    "<div class=\"alert alert-warning\"> \n",
    "\n",
    "# Modeling\n",
    "\n",
    "## <span style=\"color:teal\">Libraries Used: ...</span>\n",
    "\n",
    "---\n",
    "</div>"
   ]
  },
  {
   "cell_type": "markdown",
   "metadata": {
    "cell_id": "787b93405bea40e2b3cf4c44a1fe4107",
    "deepnote_cell_type": "code"
   },
   "source": [
    "## Selected Classification Models:\n",
    "- Decission Tree\n",
    "- KNN\n",
    "- Multinomial\n",
    "- (?)\n",
    "\n",
    "---\n",
    "\n",
    "### Evaluation Metric:\n",
    "- Accuracy (?)\n",
    "\n",
    "---\n",
    "\n",
    "### Features Sent In:\n",
    "-\n",
    "-\n",
    "-\n",
    "\n",
    "---\n",
    "\n",
    "### Hyperparameters Used:\n",
    "-\n",
    "\n",
    "---\n",
    "\n",
    "### <span style=\"color:blue\">Baseline: 78% (?)</span>\n",
    "\n",
    "--- \n"
   ]
  },
  {
   "cell_type": "markdown",
   "metadata": {
    "cell_id": "f10b0b2178c448a8914d28964a822b5e",
    "deepnote_cell_type": "markdown"
   },
   "source": [
    "<div class=\"alert alert-success\">    \n",
    "\n",
    "### Insight: \n",
    "    \n",
    "''\n",
    "</div>"
   ]
  },
  {
   "cell_type": "markdown",
   "metadata": {
    "cell_id": "995bb2ff3e6042b1824bcff6ca576413",
    "deepnote_cell_type": "markdown"
   },
   "source": [
    "<div class=\"alert alert-warning\"> \n",
    "\n",
    "# Conclusion\n",
    "\n",
    "## <span style=\"color:teal\">Libraries Used: ...</span>\n",
    "\n",
    "---\n",
    "    \n",
    "</div>"
   ]
  },
  {
   "cell_type": "markdown",
   "metadata": {
    "cell_id": "f10b0b2178c448a8914d28964a822b5e",
    "deepnote_cell_type": "markdown"
   },
   "source": [
    "<div class=\"alert alert-success\">    \n",
    "\n",
    "    \n",
    "## Explore\n",
    "\n",
    "* \n",
    "* \n",
    "* \n",
    "* \n",
    "\n",
    "## Modeling\n",
    "* \n",
    "* \n",
    "    \n",
    "\n",
    "</div>"
   ]
  },
  {
   "cell_type": "markdown",
   "metadata": {},
   "source": [
    "<div class=\"alert alert-warning\"> \n",
    "\n",
    "\n",
    "# Project Summary:\n",
    "\n",
    "* The analysis revealed a significant relationship between consumer sentiment in complaints/narratives and the corresponding company responses, indicating the importance of sentiment in consumer-company interactions.\n",
    "* Sentiment patterns varied across industries, with positive sentiment in mortgage complaints, credit report complaints receiving \"closed with monetary relief\" responses, and consistently negative sentiment in debt collection complaints leading to \"untimely response\" from companies. These findings highlight the need to consider sentiment for effective consumer grievance resolution.\n",
    "---\n",
    "    \n",
    "</div>"
   ]
  },
  {
   "cell_type": "markdown",
   "metadata": {
    "cell_id": "a2b5e87f4c1249cb9a70b19f113b6a33",
    "deepnote_cell_type": "markdown"
   },
   "source": [
    "<div class=\"alert alert-warning\"> \n",
    "\n",
    "\n",
    "# Recommendations and Next Steps\n",
    "\n",
    "---\n",
    "    \n",
    "</div>"
   ]
  },
  {
   "cell_type": "markdown",
   "metadata": {
    "cell_id": "f10b0b2178c448a8914d28964a822b5e",
    "deepnote_cell_type": "markdown"
   },
   "source": [
    "<div class=\"alert alert-success\">    \n",
    "\n",
    "    \n",
    "## Recommendations\n",
    "\n",
    "* \n",
    "* \n",
    "* \n",
    "* \n",
    "\n",
    "## Next Steps\n",
    "* \n",
    "* \n",
    "    \n",
    "\n",
    "</div>"
   ]
  },
  {
   "cell_type": "markdown",
   "metadata": {
    "cell_id": "82ed18575af14b909fd37cef11a236e4",
    "deepnote_cell_type": "markdown"
   },
   "source": [
    "<div class=\"alert alert-warning\"> \n",
    "\n",
    "# Recommendations/Next Steps\n",
    "\n",
    "## <span style=\"color:teal\">Libraries Used: Numpy, Pandas, Seaborn, Matplotlib, Scipy ...</span>\n",
    "\n",
    "---\n",
    "</div>\n",
    "\n",
    "* \n",
    "* \n",
    "* "
   ]
  },
  {
   "cell_type": "markdown",
   "metadata": {
    "cell_id": "7c6d32a08ace409285566694aef0167d",
    "deepnote_cell_type": "markdown"
   },
   "source": []
  }
 ],
 "metadata": {
  "deepnote": {},
  "deepnote_execution_queue": [],
  "deepnote_notebook_id": "6e76cfdb7dfe4f4caf85c9305effad9d",
  "kernelspec": {
   "display_name": "Python 3 (ipykernel)",
   "language": "python",
   "name": "python3"
  },
  "language_info": {
   "codemirror_mode": {
    "name": "ipython",
    "version": 3
   },
   "file_extension": ".py",
   "mimetype": "text/x-python",
   "name": "python",
   "nbconvert_exporter": "python",
   "pygments_lexer": "ipython3",
   "version": "3.9.13"
  }
 },
 "nbformat": 4,
 "nbformat_minor": 4
}
