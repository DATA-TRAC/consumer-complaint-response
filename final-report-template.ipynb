{
 "cells": [
  {
   "cell_type": "markdown",
   "id": "9a6b11c4",
   "metadata": {},
   "source": [
    "# TITLE"
   ]
  },
  {
   "cell_type": "markdown",
   "id": "4e9eaaac",
   "metadata": {},
   "source": [
    "## Goals: \n",
    "* The project goal is to predict \n",
    "* This analysis aims to address the listed questions and uncover any additional important findings related goal."
   ]
  },
  {
   "cell_type": "markdown",
   "id": "d4962439",
   "metadata": {},
   "source": [
    "## Imports"
   ]
  },
  {
   "cell_type": "code",
   "execution_count": 1,
   "id": "d815a0f8",
   "metadata": {},
   "outputs": [
    {
     "name": "stdout",
     "output_type": "stream",
     "text": [
      "json file found and loaded\n",
      "imports loaded successfully, awaiting commands...\n"
     ]
    }
   ],
   "source": [
    "# #.py modules\n",
    "# import acquire as ac\n",
    "# import prepare as pp\n",
    "# import explore as ex\n",
    "# import evaluate as ev\n",
    "\n",
    "#standard\n",
    "import pandas as pd\n",
    "import numpy as np\n",
    "import re\n",
    "\n",
    "#scraping\n",
    "import requests\n",
    "from requests import get\n",
    "from bs4 import BeautifulSoup\n",
    "\n",
    "#file\n",
    "import os\n",
    "import json\n",
    "\n",
    "#vizz\n",
    "import seaborn as sns\n",
    "import matplotlib.pyplot as plt\n",
    "from wordcloud import WordCloud\n",
    "\n",
    "#preprocess\n",
    "from sklearn.feature_extraction.text import CountVectorizer, TfidfVectorizer\n",
    "\n",
    "#split and model\n",
    "from sklearn.model_selection import train_test_split\n",
    "from sklearn.tree import DecisionTreeClassifier\n",
    "from sklearn.neighbors import KNeighborsClassifier\n",
    "\n",
    "#set random state\n",
    "random_state=123\n",
    "\n",
    "#ignore warnings\n",
    "import warnings\n",
    "warnings.filterwarnings(\"ignore\")"
   ]
  },
  {
   "cell_type": "markdown",
   "id": "fe383836",
   "metadata": {},
   "source": [
    "> # `Acquire`"
   ]
  },
  {
   "cell_type": "markdown",
   "id": "293fb904",
   "metadata": {
    "jp-MarkdownHeadingCollapsed": true,
    "tags": []
   },
   "source": [
    "### Acquire\n",
    "* Data acquired from \n",
    "* ___ rows × _ column before cleaning\n",
    "* ___ rows × _ columns after cleaning "
   ]
  },
  {
   "cell_type": "markdown",
   "id": "52f349b8",
   "metadata": {},
   "source": [
    "\n",
    "### Data Dictionary"
   ]
  },
  {
   "cell_type": "markdown",
   "id": "5e7af5c5",
   "metadata": {},
   "source": [
    "| Feature | Definition|\n",
    "|:--------|:-----------|\n",
    "|| |\n",
    "|| |\n",
    "|| |"
   ]
  },
  {
   "cell_type": "markdown",
   "id": "8ce5b2ae-7125-42cd-aa37-de136bd6a6b1",
   "metadata": {},
   "source": [
    "<div class=\"alert alert-success\">    \n",
    "\n",
    "### Insight: \n",
    "    \n",
    "</div>"
   ]
  },
  {
   "cell_type": "markdown",
   "id": "35088ea5-7ed2-4abf-b862-96c457659ea6",
   "metadata": {},
   "source": [
    "> # `Prepare`"
   ]
  },
  {
   "cell_type": "markdown",
   "id": "fb256470",
   "metadata": {
    "tags": []
   },
   "source": [
    "### Prepare\n",
    "* \n",
    "* \n",
    "* \n",
    "  \n",
    "* \n",
    "  \n",
    "* "
   ]
  },
  {
   "cell_type": "markdown",
   "id": "5043bf67-c427-4c60-9c73-e7f2ae9eb849",
   "metadata": {},
   "source": [
    "<div class=\"alert alert-success\">    \n",
    "\n",
    "### Insight: \n",
    "    \n",
    "</div>"
   ]
  },
  {
   "cell_type": "markdown",
   "id": "d39e2f6f",
   "metadata": {},
   "source": [
    "> # `Explore`"
   ]
  },
  {
   "cell_type": "markdown",
   "id": "bd991117",
   "metadata": {},
   "source": [
    "### Questions To Answer:\n",
    "1. \n",
    "<br>\n",
    "2. \n",
    "<br>\n",
    "3. \n",
    "<br>\n",
    "4. \n",
    "<br>"
   ]
  },
  {
   "cell_type": "markdown",
   "id": "98864fcb-8775-4586-b1f7-b691d321cd10",
   "metadata": {},
   "source": [
    "<div class=\"alert alert-success\">    \n",
    "\n",
    "### Insight: \n",
    "\n",
    "   \n",
    "</div>"
   ]
  },
  {
   "cell_type": "markdown",
   "id": "e921a975",
   "metadata": {
    "tags": []
   },
   "source": [
    "## 1. "
   ]
  },
  {
   "cell_type": "code",
   "execution_count": null,
   "id": "76f82f8d-efe1-4834-a026-57f5455a32fa",
   "metadata": {
    "tags": []
   },
   "outputs": [],
   "source": [
    "#visualize the most used words\n"
   ]
  },
  {
   "cell_type": "code",
   "execution_count": null,
   "id": "0026ea9c-0b92-4c83-9326-784df8d844f1",
   "metadata": {},
   "outputs": [],
   "source": [
    "#hypothesize\n"
   ]
  },
  {
   "cell_type": "code",
   "execution_count": null,
   "id": "c71f9413-79c2-4036-ad5c-348086468b0f",
   "metadata": {},
   "outputs": [],
   "source": [
    "#analyze?\n"
   ]
  },
  {
   "cell_type": "markdown",
   "id": "84011cfa-eec2-4221-8fc0-179fab6bbb22",
   "metadata": {},
   "source": [
    "<div class=\"alert alert-success\">    \n",
    "\n",
    "### Insight: \n",
    "    \n",
    "\n",
    "</div>"
   ]
  },
  {
   "cell_type": "markdown",
   "id": "07d7f8ba",
   "metadata": {
    "tags": []
   },
   "source": [
    "## 2. "
   ]
  },
  {
   "cell_type": "code",
   "execution_count": null,
   "id": "f9d16d4b-4abc-453f-92e0-eded89a8d27c",
   "metadata": {},
   "outputs": [],
   "source": [
    "#visualize the lengths of readmes against labels\n"
   ]
  },
  {
   "cell_type": "code",
   "execution_count": null,
   "id": "7b2fcc47-8bb6-41ab-9ff2-fe5e69c57447",
   "metadata": {},
   "outputs": [],
   "source": [
    "#hypothesize\n"
   ]
  },
  {
   "cell_type": "code",
   "execution_count": null,
   "id": "70dc8891-30a1-423a-a2c3-a091f3d4a95a",
   "metadata": {},
   "outputs": [],
   "source": [
    "#analyze?\n"
   ]
  },
  {
   "cell_type": "markdown",
   "id": "b13e6bfe-27c1-4f06-b63e-382fe65ae019",
   "metadata": {},
   "source": [
    "<div class=\"alert alert-success\">    \n",
    "\n",
    "### Insight: \n",
    "    \n",
    "''\n",
    "</div>"
   ]
  },
  {
   "cell_type": "markdown",
   "id": "07ee9611",
   "metadata": {
    "tags": []
   },
   "source": [
    "## 3. "
   ]
  },
  {
   "cell_type": "code",
   "execution_count": null,
   "id": "b7eb1142-3693-4a80-bfd9-8d4890862a3c",
   "metadata": {},
   "outputs": [],
   "source": [
    "#visualize number of unique words per label\n"
   ]
  },
  {
   "cell_type": "code",
   "execution_count": null,
   "id": "bd296708-a78f-4a97-ad36-d4f692cc94b6",
   "metadata": {},
   "outputs": [],
   "source": [
    "#hypothesize\n"
   ]
  },
  {
   "cell_type": "code",
   "execution_count": null,
   "id": "38665692-bade-4873-a978-b8f37e7b901c",
   "metadata": {
    "tags": []
   },
   "outputs": [],
   "source": [
    "#analyze?\n"
   ]
  },
  {
   "cell_type": "markdown",
   "id": "de0c2e06-e6fe-4cfd-9a05-1e416737921f",
   "metadata": {},
   "source": [
    "<div class=\"alert alert-success\">    \n",
    "\n",
    "### Insight: \n",
    "    \n",
    "''\n",
    "</div>"
   ]
  },
  {
   "cell_type": "markdown",
   "id": "ba80faee",
   "metadata": {
    "tags": []
   },
   "source": [
    "## 4. "
   ]
  },
  {
   "cell_type": "code",
   "execution_count": null,
   "id": "9b3cb25b-fc09-4294-b1d3-cdb432e0b099",
   "metadata": {},
   "outputs": [],
   "source": [
    "#visualize\n"
   ]
  },
  {
   "cell_type": "code",
   "execution_count": null,
   "id": "d68ebfe9-ec9d-4df7-b853-25bb0a8890cb",
   "metadata": {},
   "outputs": [],
   "source": [
    "#hypothesize\n"
   ]
  },
  {
   "cell_type": "code",
   "execution_count": null,
   "id": "89713ec6-c86f-429d-9c5c-625afbc5510e",
   "metadata": {},
   "outputs": [],
   "source": [
    "#analyze?\n"
   ]
  },
  {
   "cell_type": "markdown",
   "id": "2049268d-1070-45ad-9020-bd1736044d62",
   "metadata": {},
   "source": [
    "<div class=\"alert alert-success\">    \n",
    "\n",
    "### Insight: \n",
    "    \n",
    "''\n",
    "</div>"
   ]
  },
  {
   "cell_type": "markdown",
   "id": "9793db8c",
   "metadata": {},
   "source": [
    "> # `Conclusion`"
   ]
  },
  {
   "cell_type": "markdown",
   "id": "dbcf2845",
   "metadata": {},
   "source": [
    "## Explore\n",
    "\n",
    "* \n",
    "* \n",
    "* \n",
    "* \n",
    "* \n",
    "* "
   ]
  },
  {
   "cell_type": "markdown",
   "id": "7ca1cfe3",
   "metadata": {},
   "source": [
    "> # `Recommendations/Next Steps`\n",
    "\n",
    "* \n",
    "* \n",
    "* "
   ]
  }
 ],
 "metadata": {
  "kernelspec": {
   "display_name": "Python 3 (ipykernel)",
   "language": "python",
   "name": "python3"
  },
  "language_info": {
   "codemirror_mode": {
    "name": "ipython",
    "version": 3
   },
   "file_extension": ".py",
   "mimetype": "text/x-python",
   "name": "python",
   "nbconvert_exporter": "python",
   "pygments_lexer": "ipython3",
   "version": "3.9.13"
  }
 },
 "nbformat": 4,
 "nbformat_minor": 5
}
