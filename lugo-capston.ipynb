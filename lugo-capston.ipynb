{
 "cells": [
  {
   "cell_type": "markdown",
   "id": "0769420c-3cd0-4158-ab53-ea6aed383872",
   "metadata": {},
   "source": [
    "# Import"
   ]
  },
  {
   "cell_type": "code",
   "execution_count": 17,
   "id": "c67a65a7-5814-4363-9605-dd9bc7408105",
   "metadata": {},
   "outputs": [],
   "source": [
    "# #.py modules\n",
    "# import acquire as ac\n",
    "# import prepare as p\n",
    "# import explore as ex\n",
    "# import evaluate as ev\n",
    "import wrangle as w\n",
    "\n",
    "#standard\n",
    "import pandas as pd\n",
    "import numpy as np\n",
    "import re\n",
    "\n",
    "#scraping\n",
    "import requests\n",
    "from requests import get\n",
    "from bs4 import BeautifulSoup\n",
    "\n",
    "#file\n",
    "import os\n",
    "import json\n",
    "from google.oauth2 import service_account\n",
    "import pandas_gbq\n",
    "\n",
    "#vizz\n",
    "import seaborn as sns\n",
    "import matplotlib.pyplot as plt\n",
    "from wordcloud import WordCloud\n",
    "\n",
    "#preprocess\n",
    "from sklearn.feature_extraction.text import CountVectorizer, TfidfVectorizer\n",
    "\n",
    "#split and model\n",
    "from sklearn.model_selection import train_test_split\n",
    "from sklearn.tree import DecisionTreeClassifier\n",
    "from sklearn.neighbors import KNeighborsClassifier\n",
    "\n",
    "#set random state\n",
    "random_state=123\n",
    "\n",
    "#ignore warnings\n",
    "import warnings\n",
    "warnings.filterwarnings(\"ignore\")"
   ]
  },
  {
   "cell_type": "code",
   "execution_count": 18,
   "id": "1c6475db-7fdf-4bd9-b1ce-539dd5f76469",
   "metadata": {},
   "outputs": [],
   "source": [
    "# credentials = service_account.Credentials.from_service_account_file(\n",
    "#     'my-ds-projects-d864a770b51b.json',\n",
    "# )"
   ]
  },
  {
   "cell_type": "code",
   "execution_count": 19,
   "id": "2a86e6b2-9f67-434c-82ae-3ad76ec16a35",
   "metadata": {},
   "outputs": [],
   "source": [
    "# df = pandas_gbq.read_gbq(\"select * from cfpb_complaints.complaint_database\",dialect='standard',project_id=\"my-ds-projects\",use_bqstorage_api=True,credentials=credentials)\n",
    "# df"
   ]
  },
  {
   "cell_type": "code",
   "execution_count": 20,
   "id": "3fa137d0-03f2-481b-b2d2-7fa7fd8a2f4a",
   "metadata": {},
   "outputs": [],
   "source": [
    "# df.to_csv('ccr.csv')"
   ]
  },
  {
   "cell_type": "code",
   "execution_count": 21,
   "id": "0167a1c4-a347-4c19-8dcb-53f4a7c4a776",
   "metadata": {},
   "outputs": [],
   "source": [
    "# df = pd.read_csv('ccr.csv')"
   ]
  },
  {
   "cell_type": "code",
   "execution_count": 22,
   "id": "2cecde93-aaee-4a70-9bea-81d2114b8245",
   "metadata": {},
   "outputs": [
    {
     "name": "stdout",
     "output_type": "stream",
     "text": [
      "csv file found and loaded\n"
     ]
    }
   ],
   "source": [
    "df = w.check_file_exists_gbq('cfpb.csv', 'my-ds-projects-d864a770b51b.json')"
   ]
  },
  {
   "cell_type": "code",
   "execution_count": 23,
   "id": "9df2c394-ccd8-40b0-92a4-e8d60cbadcc3",
   "metadata": {},
   "outputs": [
    {
     "data": {
      "text/html": [
       "<div>\n",
       "<style scoped>\n",
       "    .dataframe tbody tr th:only-of-type {\n",
       "        vertical-align: middle;\n",
       "    }\n",
       "\n",
       "    .dataframe tbody tr th {\n",
       "        vertical-align: top;\n",
       "    }\n",
       "\n",
       "    .dataframe thead th {\n",
       "        text-align: right;\n",
       "    }\n",
       "</style>\n",
       "<table border=\"1\" class=\"dataframe\">\n",
       "  <thead>\n",
       "    <tr style=\"text-align: right;\">\n",
       "      <th></th>\n",
       "      <th>date_received</th>\n",
       "      <th>product</th>\n",
       "      <th>subproduct</th>\n",
       "      <th>issue</th>\n",
       "      <th>subissue</th>\n",
       "      <th>consumer_complaint_narrative</th>\n",
       "      <th>company_public_response</th>\n",
       "      <th>company_name</th>\n",
       "      <th>state</th>\n",
       "      <th>zip_code</th>\n",
       "      <th>tags</th>\n",
       "      <th>consumer_consent_provided</th>\n",
       "      <th>submitted_via</th>\n",
       "      <th>date_sent_to_company</th>\n",
       "      <th>company_response_to_consumer</th>\n",
       "      <th>timely_response</th>\n",
       "      <th>consumer_disputed</th>\n",
       "      <th>complaint_id</th>\n",
       "    </tr>\n",
       "  </thead>\n",
       "  <tbody>\n",
       "    <tr>\n",
       "      <th>0</th>\n",
       "      <td>2022-07-16</td>\n",
       "      <td>Credit reporting, credit repair services, or o...</td>\n",
       "      <td>Credit reporting</td>\n",
       "      <td>Improper use of your report</td>\n",
       "      <td>Reporting company used your report improperly</td>\n",
       "      <td>NaN</td>\n",
       "      <td>Company has responded to the consumer and the ...</td>\n",
       "      <td>Experian Information Solutions Inc.</td>\n",
       "      <td>PA</td>\n",
       "      <td>19136</td>\n",
       "      <td>NaN</td>\n",
       "      <td>Consent not provided</td>\n",
       "      <td>Web</td>\n",
       "      <td>2022-07-16</td>\n",
       "      <td>Closed with explanation</td>\n",
       "      <td>True</td>\n",
       "      <td>NaN</td>\n",
       "      <td>5777486</td>\n",
       "    </tr>\n",
       "    <tr>\n",
       "      <th>1</th>\n",
       "      <td>2023-01-23</td>\n",
       "      <td>Credit reporting, credit repair services, or o...</td>\n",
       "      <td>Credit reporting</td>\n",
       "      <td>Improper use of your report</td>\n",
       "      <td>Reporting company used your report improperly</td>\n",
       "      <td>NaN</td>\n",
       "      <td>Company has responded to the consumer and the ...</td>\n",
       "      <td>Experian Information Solutions Inc.</td>\n",
       "      <td>NV</td>\n",
       "      <td>89139.0</td>\n",
       "      <td>NaN</td>\n",
       "      <td>Consent not provided</td>\n",
       "      <td>Web</td>\n",
       "      <td>2023-01-23</td>\n",
       "      <td>Closed with explanation</td>\n",
       "      <td>True</td>\n",
       "      <td>NaN</td>\n",
       "      <td>6476526</td>\n",
       "    </tr>\n",
       "    <tr>\n",
       "      <th>2</th>\n",
       "      <td>2022-06-15</td>\n",
       "      <td>Credit reporting, credit repair services, or o...</td>\n",
       "      <td>Credit reporting</td>\n",
       "      <td>Improper use of your report</td>\n",
       "      <td>Reporting company used your report improperly</td>\n",
       "      <td>NaN</td>\n",
       "      <td>Company has responded to the consumer and the ...</td>\n",
       "      <td>Experian Information Solutions Inc.</td>\n",
       "      <td>NC</td>\n",
       "      <td>27591.0</td>\n",
       "      <td>NaN</td>\n",
       "      <td>Consent not provided</td>\n",
       "      <td>Web</td>\n",
       "      <td>2022-06-15</td>\n",
       "      <td>Closed with explanation</td>\n",
       "      <td>True</td>\n",
       "      <td>NaN</td>\n",
       "      <td>5675690</td>\n",
       "    </tr>\n",
       "    <tr>\n",
       "      <th>3</th>\n",
       "      <td>2022-10-09</td>\n",
       "      <td>Credit reporting, credit repair services, or o...</td>\n",
       "      <td>Credit reporting</td>\n",
       "      <td>Improper use of your report</td>\n",
       "      <td>Reporting company used your report improperly</td>\n",
       "      <td>NaN</td>\n",
       "      <td>Company has responded to the consumer and the ...</td>\n",
       "      <td>Experian Information Solutions Inc.</td>\n",
       "      <td>OH</td>\n",
       "      <td>44266.0</td>\n",
       "      <td>NaN</td>\n",
       "      <td>Consent not provided</td>\n",
       "      <td>Web</td>\n",
       "      <td>2022-10-09</td>\n",
       "      <td>Closed with non-monetary relief</td>\n",
       "      <td>True</td>\n",
       "      <td>NaN</td>\n",
       "      <td>6064894</td>\n",
       "    </tr>\n",
       "    <tr>\n",
       "      <th>4</th>\n",
       "      <td>2019-03-02</td>\n",
       "      <td>Credit reporting, credit repair services, or o...</td>\n",
       "      <td>Credit reporting</td>\n",
       "      <td>Incorrect information on your report</td>\n",
       "      <td>Information is missing that should be on the r...</td>\n",
       "      <td>I was locked out of my credit report by XXXX, ...</td>\n",
       "      <td>Company has responded to the consumer and the ...</td>\n",
       "      <td>Experian Information Solutions Inc.</td>\n",
       "      <td>IL</td>\n",
       "      <td>62702.0</td>\n",
       "      <td>NaN</td>\n",
       "      <td>Consent provided</td>\n",
       "      <td>Web</td>\n",
       "      <td>2019-03-02</td>\n",
       "      <td>Closed with explanation</td>\n",
       "      <td>True</td>\n",
       "      <td>NaN</td>\n",
       "      <td>3167321</td>\n",
       "    </tr>\n",
       "  </tbody>\n",
       "</table>\n",
       "</div>"
      ],
      "text/plain": [
       "  date_received                                            product  \\\n",
       "0    2022-07-16  Credit reporting, credit repair services, or o...   \n",
       "1    2023-01-23  Credit reporting, credit repair services, or o...   \n",
       "2    2022-06-15  Credit reporting, credit repair services, or o...   \n",
       "3    2022-10-09  Credit reporting, credit repair services, or o...   \n",
       "4    2019-03-02  Credit reporting, credit repair services, or o...   \n",
       "\n",
       "         subproduct                                 issue  \\\n",
       "0  Credit reporting           Improper use of your report   \n",
       "1  Credit reporting           Improper use of your report   \n",
       "2  Credit reporting           Improper use of your report   \n",
       "3  Credit reporting           Improper use of your report   \n",
       "4  Credit reporting  Incorrect information on your report   \n",
       "\n",
       "                                            subissue  \\\n",
       "0      Reporting company used your report improperly   \n",
       "1      Reporting company used your report improperly   \n",
       "2      Reporting company used your report improperly   \n",
       "3      Reporting company used your report improperly   \n",
       "4  Information is missing that should be on the r...   \n",
       "\n",
       "                        consumer_complaint_narrative  \\\n",
       "0                                                NaN   \n",
       "1                                                NaN   \n",
       "2                                                NaN   \n",
       "3                                                NaN   \n",
       "4  I was locked out of my credit report by XXXX, ...   \n",
       "\n",
       "                             company_public_response  \\\n",
       "0  Company has responded to the consumer and the ...   \n",
       "1  Company has responded to the consumer and the ...   \n",
       "2  Company has responded to the consumer and the ...   \n",
       "3  Company has responded to the consumer and the ...   \n",
       "4  Company has responded to the consumer and the ...   \n",
       "\n",
       "                          company_name state zip_code tags  \\\n",
       "0  Experian Information Solutions Inc.    PA    19136  NaN   \n",
       "1  Experian Information Solutions Inc.    NV  89139.0  NaN   \n",
       "2  Experian Information Solutions Inc.    NC  27591.0  NaN   \n",
       "3  Experian Information Solutions Inc.    OH  44266.0  NaN   \n",
       "4  Experian Information Solutions Inc.    IL  62702.0  NaN   \n",
       "\n",
       "  consumer_consent_provided submitted_via date_sent_to_company  \\\n",
       "0      Consent not provided           Web           2022-07-16   \n",
       "1      Consent not provided           Web           2023-01-23   \n",
       "2      Consent not provided           Web           2022-06-15   \n",
       "3      Consent not provided           Web           2022-10-09   \n",
       "4          Consent provided           Web           2019-03-02   \n",
       "\n",
       "      company_response_to_consumer  timely_response consumer_disputed  \\\n",
       "0          Closed with explanation             True               NaN   \n",
       "1          Closed with explanation             True               NaN   \n",
       "2          Closed with explanation             True               NaN   \n",
       "3  Closed with non-monetary relief             True               NaN   \n",
       "4          Closed with explanation             True               NaN   \n",
       "\n",
       "   complaint_id  \n",
       "0       5777486  \n",
       "1       6476526  \n",
       "2       5675690  \n",
       "3       6064894  \n",
       "4       3167321  "
      ]
     },
     "execution_count": 23,
     "metadata": {},
     "output_type": "execute_result"
    }
   ],
   "source": [
    "df.head()"
   ]
  },
  {
   "cell_type": "code",
   "execution_count": 24,
   "id": "62cb7349-bbed-4c1e-b811-80e2358af8f9",
   "metadata": {},
   "outputs": [
    {
     "name": "stdout",
     "output_type": "stream",
     "text": [
      "<class 'pandas.core.frame.DataFrame'>\n",
      "Int64Index: 3458906 entries, 0 to 3458905\n",
      "Data columns (total 18 columns):\n",
      " #   Column                        Dtype \n",
      "---  ------                        ----- \n",
      " 0   date_received                 object\n",
      " 1   product                       object\n",
      " 2   subproduct                    object\n",
      " 3   issue                         object\n",
      " 4   subissue                      object\n",
      " 5   consumer_complaint_narrative  object\n",
      " 6   company_public_response       object\n",
      " 7   company_name                  object\n",
      " 8   state                         object\n",
      " 9   zip_code                      object\n",
      " 10  tags                          object\n",
      " 11  consumer_consent_provided     object\n",
      " 12  submitted_via                 object\n",
      " 13  date_sent_to_company          object\n",
      " 14  company_response_to_consumer  object\n",
      " 15  timely_response               bool  \n",
      " 16  consumer_disputed             object\n",
      " 17  complaint_id                  int64 \n",
      "dtypes: bool(1), int64(1), object(16)\n",
      "memory usage: 478.3+ MB\n"
     ]
    }
   ],
   "source": [
    "df.info()"
   ]
  },
  {
   "cell_type": "code",
   "execution_count": 25,
   "id": "a684ad43-3ed9-4292-ba84-5105fdd2db6f",
   "metadata": {},
   "outputs": [],
   "source": [
    "# df.describe()"
   ]
  },
  {
   "cell_type": "markdown",
   "id": "8a2530cc-c299-40e5-9564-13b5a052c254",
   "metadata": {
    "tags": []
   },
   "source": [
    "## data response is the target"
   ]
  },
  {
   "cell_type": "code",
   "execution_count": 26,
   "id": "9c12bea6-bb04-4e00-b969-f202a27a425f",
   "metadata": {},
   "outputs": [],
   "source": [
    "# p.basic_clean(df)"
   ]
  },
  {
   "cell_type": "code",
   "execution_count": 27,
   "id": "53db6b6b-49ba-435f-8af7-6c290abc1fe3",
   "metadata": {},
   "outputs": [],
   "source": [
    "# import os\n",
    "# from google.cloud import bigquery\n",
    "\n",
    "# # Set the environment variable\n",
    "# os.environ['GOOGLE_APPLICATION_CREDENTIALS'] = 'my-ds-projects-d864a770b51b.json'\n",
    "\n",
    "# # Initialize a BigQuery client\n",
    "# client = bigquery.Client()\n",
    "\n",
    "# # Now you can use the client...\n"
   ]
  },
  {
   "cell_type": "code",
   "execution_count": 28,
   "id": "f4d3a5d4-b6e5-4ebf-843f-3085e96cfcef",
   "metadata": {},
   "outputs": [],
   "source": [
    "# from google.cloud import bigquery\n",
    "\n",
    "# # Initialize a BigQuery client\n",
    "# client = bigquery.Client()\n",
    "\n",
    "# # Define your query\n",
    "# query = \"\"\"\n",
    "#     SELECT *\n",
    "#     FROM `bigquery-public-data.cfpb_complaints.complaint_database`\n",
    "# \"\"\"\n",
    "\n",
    "# # Run the query\n",
    "# query_job = client.query(query)\n",
    "\n",
    "# # Get the results as a pandas DataFrame\n",
    "# df_2 = query_job.to_dataframe()\n",
    "\n",
    "# # Now you can analyze the data using pandas, for example:\n",
    "# summary = df_2.describe(include='all')\n"
   ]
  },
  {
   "cell_type": "code",
   "execution_count": 29,
   "id": "e36d1fba-9598-432c-8d5c-b86739ad69cd",
   "metadata": {},
   "outputs": [],
   "source": [
    "# summary"
   ]
  },
  {
   "cell_type": "code",
   "execution_count": 30,
   "id": "11d0d8ba-2ee5-43ee-b62b-d56b6f8641b8",
   "metadata": {},
   "outputs": [],
   "source": [
    "# df_2.to_csv('cfpb.csv')"
   ]
  },
  {
   "cell_type": "code",
   "execution_count": 31,
   "id": "96a142cd-76e3-4943-b036-349bf1698b22",
   "metadata": {},
   "outputs": [],
   "source": [
    "# Print the first few rows of the DataFrame\n",
    "# df_2.head()"
   ]
  },
  {
   "cell_type": "code",
   "execution_count": 32,
   "id": "f14bc72d-125f-43e5-8872-ec4b3d4473e7",
   "metadata": {},
   "outputs": [],
   "source": [
    "# Print the summary statistics of the DataFrame\n",
    "# print(df_2.describe())"
   ]
  },
  {
   "cell_type": "code",
   "execution_count": 33,
   "id": "dd781345-f7dd-4ec5-9420-3d40afaf270e",
   "metadata": {},
   "outputs": [],
   "source": [
    "# Print the column names\n",
    "# print(df_2.columns)"
   ]
  },
  {
   "cell_type": "code",
   "execution_count": 34,
   "id": "d831ffd1-8833-4a78-a88e-0b09ef1d298a",
   "metadata": {},
   "outputs": [],
   "source": [
    "# Count the number of non-NA values\n",
    "# print(df_2.count())"
   ]
  },
  {
   "cell_type": "code",
   "execution_count": 36,
   "id": "32889ee8-3d45-443c-b3be-345fe94d810e",
   "metadata": {},
   "outputs": [
    {
     "name": "stdout",
     "output_type": "stream",
     "text": [
      "                 timely_response  complaint_id\n",
      "timely_response         1.000000      0.062366\n",
      "complaint_id            0.062366      1.000000\n"
     ]
    }
   ],
   "source": [
    "# Compute pairwise correlation of columns\n",
    "print(df.corr())"
   ]
  },
  {
   "cell_type": "code",
   "execution_count": 37,
   "id": "79b353e6-9bbe-449a-8f35-f35bf612b655",
   "metadata": {},
   "outputs": [],
   "source": [
    "# df.dropna()"
   ]
  },
  {
   "cell_type": "code",
   "execution_count": 38,
   "id": "b220869b-0437-42ee-8dba-fa24a00d73d1",
   "metadata": {},
   "outputs": [],
   "source": [
    "import nltk\n",
    "\n",
    "# nltk.download('vader_lexicon')"
   ]
  },
  {
   "cell_type": "code",
   "execution_count": 39,
   "id": "cb022a8f-7ad1-44aa-a095-c8446274cd22",
   "metadata": {},
   "outputs": [],
   "source": [
    "# df.info()"
   ]
  },
  {
   "cell_type": "code",
   "execution_count": 40,
   "id": "87268745-d3f0-4fe9-b9e7-b2c73076f3de",
   "metadata": {},
   "outputs": [],
   "source": [
    "# df.product()"
   ]
  },
  {
   "cell_type": "code",
   "execution_count": 41,
   "id": "b7993341-9d7a-4100-b3e8-b1cf9c0cf43f",
   "metadata": {},
   "outputs": [],
   "source": [
    "# df.head()"
   ]
  },
  {
   "cell_type": "code",
   "execution_count": 42,
   "id": "b55ba145-ebb6-4c01-838d-700257d2ebab",
   "metadata": {},
   "outputs": [],
   "source": [
    "# w.data_summary(df)"
   ]
  },
  {
   "cell_type": "code",
   "execution_count": null,
   "id": "1c43dffd-f3a2-4247-be94-46a189b065d9",
   "metadata": {},
   "outputs": [],
   "source": []
  },
  {
   "cell_type": "code",
   "execution_count": 43,
   "id": "a6758759-b6c2-4cf7-91c4-cac591ad8f52",
   "metadata": {},
   "outputs": [],
   "source": [
    "# df_2['product'].value_counts()"
   ]
  },
  {
   "cell_type": "code",
   "execution_count": 44,
   "id": "1544e663-2971-4870-9070-15bfc8908fe9",
   "metadata": {},
   "outputs": [],
   "source": [
    "# df_2['subproduct'].value_counts()"
   ]
  },
  {
   "cell_type": "code",
   "execution_count": 45,
   "id": "170ff0d2-eae9-418a-8f43-0c25170c6a58",
   "metadata": {},
   "outputs": [],
   "source": [
    "# df_2['issue'].value_counts()"
   ]
  },
  {
   "cell_type": "code",
   "execution_count": 46,
   "id": "0de9a02b-4e29-44bf-ab6a-09b9c4e760b8",
   "metadata": {},
   "outputs": [],
   "source": [
    "# df_2['company_name'].value_counts()"
   ]
  },
  {
   "cell_type": "code",
   "execution_count": 47,
   "id": "ae7ba93b-8c34-45aa-8259-d2b8bde6f084",
   "metadata": {},
   "outputs": [],
   "source": [
    "# df_2['state'].value_counts()"
   ]
  },
  {
   "cell_type": "code",
   "execution_count": 48,
   "id": "630c7e63-b9dc-494c-bc20-e2d3854bb8eb",
   "metadata": {},
   "outputs": [],
   "source": [
    "# df_2['zip_code'].value_counts()"
   ]
  },
  {
   "cell_type": "code",
   "execution_count": 49,
   "id": "0d5d82d6-be8e-446f-9b5c-e0f473c642d6",
   "metadata": {},
   "outputs": [],
   "source": [
    "# df_2['tags'].value_counts()"
   ]
  },
  {
   "cell_type": "code",
   "execution_count": 50,
   "id": "bf1267d0-4cde-4904-854b-7a76fc4ac533",
   "metadata": {},
   "outputs": [],
   "source": [
    "# df_2['consumer_consent_provided'].value_counts()"
   ]
  },
  {
   "cell_type": "code",
   "execution_count": 51,
   "id": "5c61ab78-5776-4602-9fa6-36c947d54068",
   "metadata": {},
   "outputs": [],
   "source": [
    "# df_2['submitted_via'].value_counts()"
   ]
  },
  {
   "cell_type": "code",
   "execution_count": 52,
   "id": "3fe8c6a6-7a72-49f6-9fca-083beef6bfda",
   "metadata": {},
   "outputs": [],
   "source": [
    "# df_2['company_response_to_consumer'].value_counts()"
   ]
  },
  {
   "cell_type": "code",
   "execution_count": 53,
   "id": "34cc0bad-5132-47b4-aa3a-10a9f2888425",
   "metadata": {},
   "outputs": [],
   "source": [
    "# df_2['timely_response'].value_counts()"
   ]
  },
  {
   "cell_type": "code",
   "execution_count": 54,
   "id": "7720d036-72a6-4b28-9477-a2b5b3a71d06",
   "metadata": {},
   "outputs": [],
   "source": [
    "# df_2['consumer_disputed'].value_counts()"
   ]
  },
  {
   "cell_type": "code",
   "execution_count": 55,
   "id": "7fb7f02e-5452-4742-935b-c68b70926fcf",
   "metadata": {},
   "outputs": [],
   "source": [
    "# df_2['company_public_response'].value_counts()"
   ]
  },
  {
   "cell_type": "code",
   "execution_count": 56,
   "id": "44455083-dfca-4ffb-bec7-ac3904e15e23",
   "metadata": {},
   "outputs": [],
   "source": [
    "df = w.clean_data(df)"
   ]
  },
  {
   "cell_type": "code",
   "execution_count": 57,
   "id": "d6939524-bf19-43b5-872c-850396f488cd",
   "metadata": {},
   "outputs": [
    {
     "data": {
      "text/html": [
       "<div>\n",
       "<style scoped>\n",
       "    .dataframe tbody tr th:only-of-type {\n",
       "        vertical-align: middle;\n",
       "    }\n",
       "\n",
       "    .dataframe tbody tr th {\n",
       "        vertical-align: top;\n",
       "    }\n",
       "\n",
       "    .dataframe thead th {\n",
       "        text-align: right;\n",
       "    }\n",
       "</style>\n",
       "<table border=\"1\" class=\"dataframe\">\n",
       "  <thead>\n",
       "    <tr style=\"text-align: right;\">\n",
       "      <th></th>\n",
       "      <th>date_received</th>\n",
       "      <th>product</th>\n",
       "      <th>narrative</th>\n",
       "      <th>company_name</th>\n",
       "      <th>state</th>\n",
       "      <th>tags</th>\n",
       "      <th>company_response_to_consumer</th>\n",
       "    </tr>\n",
       "  </thead>\n",
       "  <tbody>\n",
       "    <tr>\n",
       "      <th>0</th>\n",
       "      <td>2022-07-16</td>\n",
       "      <td>Credit reporting, credit repair services, or o...</td>\n",
       "      <td>Improper use of your report Reporting company ...</td>\n",
       "      <td>Experian Information Solutions Inc.</td>\n",
       "      <td>PA</td>\n",
       "      <td>Average Person</td>\n",
       "      <td>Closed with explanation</td>\n",
       "    </tr>\n",
       "    <tr>\n",
       "      <th>1</th>\n",
       "      <td>2023-01-23</td>\n",
       "      <td>Credit reporting, credit repair services, or o...</td>\n",
       "      <td>Improper use of your report Reporting company ...</td>\n",
       "      <td>Experian Information Solutions Inc.</td>\n",
       "      <td>NV</td>\n",
       "      <td>Average Person</td>\n",
       "      <td>Closed with explanation</td>\n",
       "    </tr>\n",
       "    <tr>\n",
       "      <th>2</th>\n",
       "      <td>2022-06-15</td>\n",
       "      <td>Credit reporting, credit repair services, or o...</td>\n",
       "      <td>Improper use of your report Reporting company ...</td>\n",
       "      <td>Experian Information Solutions Inc.</td>\n",
       "      <td>NC</td>\n",
       "      <td>Average Person</td>\n",
       "      <td>Closed with explanation</td>\n",
       "    </tr>\n",
       "    <tr>\n",
       "      <th>3</th>\n",
       "      <td>2022-10-09</td>\n",
       "      <td>Credit reporting, credit repair services, or o...</td>\n",
       "      <td>Improper use of your report Reporting company ...</td>\n",
       "      <td>Experian Information Solutions Inc.</td>\n",
       "      <td>OH</td>\n",
       "      <td>Average Person</td>\n",
       "      <td>Closed with non-monetary relief</td>\n",
       "    </tr>\n",
       "    <tr>\n",
       "      <th>4</th>\n",
       "      <td>2019-03-02</td>\n",
       "      <td>Credit reporting, credit repair services, or o...</td>\n",
       "      <td>Incorrect information on your report Informati...</td>\n",
       "      <td>Experian Information Solutions Inc.</td>\n",
       "      <td>IL</td>\n",
       "      <td>Average Person</td>\n",
       "      <td>Closed with explanation</td>\n",
       "    </tr>\n",
       "  </tbody>\n",
       "</table>\n",
       "</div>"
      ],
      "text/plain": [
       "  date_received                                            product  \\\n",
       "0    2022-07-16  Credit reporting, credit repair services, or o...   \n",
       "1    2023-01-23  Credit reporting, credit repair services, or o...   \n",
       "2    2022-06-15  Credit reporting, credit repair services, or o...   \n",
       "3    2022-10-09  Credit reporting, credit repair services, or o...   \n",
       "4    2019-03-02  Credit reporting, credit repair services, or o...   \n",
       "\n",
       "                                           narrative  \\\n",
       "0  Improper use of your report Reporting company ...   \n",
       "1  Improper use of your report Reporting company ...   \n",
       "2  Improper use of your report Reporting company ...   \n",
       "3  Improper use of your report Reporting company ...   \n",
       "4  Incorrect information on your report Informati...   \n",
       "\n",
       "                          company_name state            tags  \\\n",
       "0  Experian Information Solutions Inc.    PA  Average Person   \n",
       "1  Experian Information Solutions Inc.    NV  Average Person   \n",
       "2  Experian Information Solutions Inc.    NC  Average Person   \n",
       "3  Experian Information Solutions Inc.    OH  Average Person   \n",
       "4  Experian Information Solutions Inc.    IL  Average Person   \n",
       "\n",
       "      company_response_to_consumer  \n",
       "0          Closed with explanation  \n",
       "1          Closed with explanation  \n",
       "2          Closed with explanation  \n",
       "3  Closed with non-monetary relief  \n",
       "4          Closed with explanation  "
      ]
     },
     "execution_count": 57,
     "metadata": {},
     "output_type": "execute_result"
    }
   ],
   "source": [
    "df.head()"
   ]
  },
  {
   "cell_type": "code",
   "execution_count": 58,
   "id": "25b04a01-36b9-4158-aea2-871273939ee8",
   "metadata": {},
   "outputs": [],
   "source": [
    "from nltk.sentiment import SentimentIntensityAnalyzer\n",
    "\n",
    "# Initialize the sentiment intensity analyzer\n",
    "sia = SentimentIntensityAnalyzer()\n",
    "\n",
    "# # Replace None with '' (empty string)\n",
    "# df_2['narrative'] = df_2['narrative'].fillna('')\n",
    "\n",
    "# Apply the sentiment intensity analyzer to the 'narrative' column\n",
    "df['sentiment'] = df['narrative'].apply(lambda complaint: sia.polarity_scores(complaint))\n",
    "\n",
    "# Now each complaint has a sentiment score\n"
   ]
  },
  {
   "cell_type": "code",
   "execution_count": 59,
   "id": "9e1105b3-ac14-4c56-9e41-4b98636caf91",
   "metadata": {},
   "outputs": [
    {
     "data": {
      "text/plain": [
       "0          {'neg': 0.0, 'neu': 1.0, 'pos': 0.0, 'compound...\n",
       "1          {'neg': 0.0, 'neu': 1.0, 'pos': 0.0, 'compound...\n",
       "2          {'neg': 0.0, 'neu': 1.0, 'pos': 0.0, 'compound...\n",
       "3          {'neg': 0.0, 'neu': 1.0, 'pos': 0.0, 'compound...\n",
       "4          {'neg': 0.113, 'neu': 0.828, 'pos': 0.06, 'com...\n",
       "                                 ...                        \n",
       "3458901    {'neg': 0.0, 'neu': 0.935, 'pos': 0.065, 'comp...\n",
       "3458902    {'neg': 0.184, 'neu': 0.661, 'pos': 0.155, 'co...\n",
       "3458903    {'neg': 0.191, 'neu': 0.659, 'pos': 0.15, 'com...\n",
       "3458904    {'neg': 0.092, 'neu': 0.753, 'pos': 0.155, 'co...\n",
       "3458905    {'neg': 0.145, 'neu': 0.785, 'pos': 0.07, 'com...\n",
       "Name: sentiment, Length: 3355342, dtype: object"
      ]
     },
     "execution_count": 59,
     "metadata": {},
     "output_type": "execute_result"
    }
   ],
   "source": [
    "df['sentiment']"
   ]
  },
  {
   "cell_type": "code",
   "execution_count": null,
   "id": "4f373190-7b4b-4dd1-8786-7524b487ae6e",
   "metadata": {},
   "outputs": [],
   "source": []
  }
 ],
 "metadata": {
  "kernelspec": {
   "display_name": "Python 3 (ipykernel)",
   "language": "python",
   "name": "python3"
  },
  "language_info": {
   "codemirror_mode": {
    "name": "ipython",
    "version": 3
   },
   "file_extension": ".py",
   "mimetype": "text/x-python",
   "name": "python",
   "nbconvert_exporter": "python",
   "pygments_lexer": "ipython3",
   "version": "3.9.13"
  }
 },
 "nbformat": 4,
 "nbformat_minor": 5
}
