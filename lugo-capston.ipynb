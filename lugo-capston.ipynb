{
 "cells": [
  {
   "cell_type": "markdown",
   "id": "0769420c-3cd0-4158-ab53-ea6aed383872",
   "metadata": {},
   "source": [
    "# Import"
   ]
  },
  {
   "cell_type": "code",
   "execution_count": 1,
   "id": "c67a65a7-5814-4363-9605-dd9bc7408105",
   "metadata": {},
   "outputs": [
    {
     "name": "stdout",
     "output_type": "stream",
     "text": [
      "imports loaded successfully, awaiting commands...\n"
     ]
    }
   ],
   "source": [
    "# #.py modules\n",
    "# import acquire as ac\n",
    "# import prepare as p\n",
    "# import explore as ex\n",
    "# import evaluate as ev\n",
    "import wrangle as w\n",
    "\n",
    "#standard\n",
    "import pandas as pd\n",
    "import numpy as np\n",
    "import re\n",
    "\n",
    "#scraping\n",
    "import requests\n",
    "from requests import get\n",
    "from bs4 import BeautifulSoup\n",
    "\n",
    "#file\n",
    "import os\n",
    "import json\n",
    "from google.oauth2 import service_account\n",
    "import pandas_gbq\n",
    "\n",
    "#vizz\n",
    "import seaborn as sns\n",
    "import matplotlib.pyplot as plt\n",
    "from wordcloud import WordCloud\n",
    "\n",
    "#preprocess\n",
    "from sklearn.feature_extraction.text import CountVectorizer, TfidfVectorizer\n",
    "\n",
    "#split and model\n",
    "from sklearn.model_selection import train_test_split\n",
    "from sklearn.tree import DecisionTreeClassifier\n",
    "from sklearn.neighbors import KNeighborsClassifier\n",
    "\n",
    "#set random state\n",
    "random_state=123\n",
    "\n",
    "#ignore warnings\n",
    "import warnings\n",
    "warnings.filterwarnings(\"ignore\")"
   ]
  },
  {
   "cell_type": "code",
   "execution_count": 2,
   "id": "1c6475db-7fdf-4bd9-b1ce-539dd5f76469",
   "metadata": {},
   "outputs": [],
   "source": [
    "# credentials = service_account.Credentials.from_service_account_file(\n",
    "#     'my-ds-projects-d864a770b51b.json',\n",
    "# )"
   ]
  },
  {
   "cell_type": "code",
   "execution_count": 3,
   "id": "2a86e6b2-9f67-434c-82ae-3ad76ec16a35",
   "metadata": {},
   "outputs": [],
   "source": [
    "# df = pandas_gbq.read_gbq(\"select * from cfpb_complaints.complaint_database\",dialect='standard',project_id=\"my-ds-projects\",use_bqstorage_api=True,credentials=credentials)\n",
    "# df"
   ]
  },
  {
   "cell_type": "code",
   "execution_count": 4,
   "id": "3fa137d0-03f2-481b-b2d2-7fa7fd8a2f4a",
   "metadata": {},
   "outputs": [],
   "source": [
    "# df.to_csv('ccr.csv')"
   ]
  },
  {
   "cell_type": "code",
   "execution_count": 5,
   "id": "0167a1c4-a347-4c19-8dcb-53f4a7c4a776",
   "metadata": {},
   "outputs": [],
   "source": [
    "# df = pd.read_csv('ccr.csv')"
   ]
  },
  {
   "cell_type": "code",
   "execution_count": 6,
   "id": "a684ad43-3ed9-4292-ba84-5105fdd2db6f",
   "metadata": {},
   "outputs": [],
   "source": [
    "# df.describe()"
   ]
  },
  {
   "cell_type": "code",
   "execution_count": 7,
   "id": "9c12bea6-bb04-4e00-b969-f202a27a425f",
   "metadata": {},
   "outputs": [],
   "source": [
    "# p.basic_clean(df)"
   ]
  },
  {
   "cell_type": "code",
   "execution_count": 8,
   "id": "53db6b6b-49ba-435f-8af7-6c290abc1fe3",
   "metadata": {},
   "outputs": [],
   "source": [
    "# import os\n",
    "# from google.cloud import bigquery\n",
    "\n",
    "# # Set the environment variable\n",
    "# os.environ['GOOGLE_APPLICATION_CREDENTIALS'] = 'my-ds-projects-d864a770b51b.json'\n",
    "\n",
    "# # Initialize a BigQuery client\n",
    "# client = bigquery.Client()\n",
    "\n",
    "# # Now you can use the client...\n"
   ]
  },
  {
   "cell_type": "code",
   "execution_count": 9,
   "id": "f4d3a5d4-b6e5-4ebf-843f-3085e96cfcef",
   "metadata": {},
   "outputs": [],
   "source": [
    "# from google.cloud import bigquery\n",
    "\n",
    "# # Initialize a BigQuery client\n",
    "# client = bigquery.Client()\n",
    "\n",
    "# # Define your query\n",
    "# query = \"\"\"\n",
    "#     SELECT *\n",
    "#     FROM `bigquery-public-data.cfpb_complaints.complaint_database`\n",
    "# \"\"\"\n",
    "\n",
    "# # Run the query\n",
    "# query_job = client.query(query)\n",
    "\n",
    "# # Get the results as a pandas DataFrame\n",
    "# df_2 = query_job.to_dataframe()\n",
    "\n",
    "# # Now you can analyze the data using pandas, for example:\n",
    "# summary = df_2.describe(include='all')\n"
   ]
  },
  {
   "cell_type": "code",
   "execution_count": 10,
   "id": "e36d1fba-9598-432c-8d5c-b86739ad69cd",
   "metadata": {},
   "outputs": [],
   "source": [
    "# summary"
   ]
  },
  {
   "cell_type": "code",
   "execution_count": 11,
   "id": "11d0d8ba-2ee5-43ee-b62b-d56b6f8641b8",
   "metadata": {},
   "outputs": [],
   "source": [
    "# df_2.to_csv('cfpb.csv')"
   ]
  },
  {
   "cell_type": "code",
   "execution_count": 12,
   "id": "96a142cd-76e3-4943-b036-349bf1698b22",
   "metadata": {},
   "outputs": [],
   "source": [
    "# Print the first few rows of the DataFrame\n",
    "# df_2.head()"
   ]
  },
  {
   "cell_type": "code",
   "execution_count": 13,
   "id": "f14bc72d-125f-43e5-8872-ec4b3d4473e7",
   "metadata": {},
   "outputs": [],
   "source": [
    "# Print the summary statistics of the DataFrame\n",
    "# print(df_2.describe())"
   ]
  },
  {
   "cell_type": "code",
   "execution_count": 14,
   "id": "dd781345-f7dd-4ec5-9420-3d40afaf270e",
   "metadata": {},
   "outputs": [],
   "source": [
    "# Print the column names\n",
    "# print(df_2.columns)"
   ]
  },
  {
   "cell_type": "code",
   "execution_count": 15,
   "id": "d831ffd1-8833-4a78-a88e-0b09ef1d298a",
   "metadata": {},
   "outputs": [],
   "source": [
    "# Count the number of non-NA values\n",
    "# print(df_2.count())"
   ]
  },
  {
   "cell_type": "code",
   "execution_count": 16,
   "id": "32889ee8-3d45-443c-b3be-345fe94d810e",
   "metadata": {},
   "outputs": [],
   "source": [
    "# Compute pairwise correlation of columns\n",
    "# print(df.corr())"
   ]
  },
  {
   "cell_type": "code",
   "execution_count": 17,
   "id": "79b353e6-9bbe-449a-8f35-f35bf612b655",
   "metadata": {},
   "outputs": [],
   "source": [
    "# df.dropna()"
   ]
  },
  {
   "cell_type": "code",
   "execution_count": 18,
   "id": "b220869b-0437-42ee-8dba-fa24a00d73d1",
   "metadata": {},
   "outputs": [],
   "source": [
    "# import nltk\n",
    "\n",
    "# nltk.download('vader_lexicon')"
   ]
  },
  {
   "cell_type": "code",
   "execution_count": 19,
   "id": "cb022a8f-7ad1-44aa-a095-c8446274cd22",
   "metadata": {},
   "outputs": [],
   "source": [
    "# df.info()"
   ]
  },
  {
   "cell_type": "code",
   "execution_count": 20,
   "id": "87268745-d3f0-4fe9-b9e7-b2c73076f3de",
   "metadata": {},
   "outputs": [],
   "source": [
    "# df.product()"
   ]
  },
  {
   "cell_type": "code",
   "execution_count": 21,
   "id": "b7993341-9d7a-4100-b3e8-b1cf9c0cf43f",
   "metadata": {},
   "outputs": [],
   "source": [
    "# df.head()"
   ]
  },
  {
   "cell_type": "code",
   "execution_count": 22,
   "id": "b55ba145-ebb6-4c01-838d-700257d2ebab",
   "metadata": {},
   "outputs": [],
   "source": [
    "# w.data_summary(df)"
   ]
  },
  {
   "cell_type": "code",
   "execution_count": 23,
   "id": "a6758759-b6c2-4cf7-91c4-cac591ad8f52",
   "metadata": {},
   "outputs": [],
   "source": [
    "# df_2['product'].value_counts()"
   ]
  },
  {
   "cell_type": "code",
   "execution_count": 24,
   "id": "1544e663-2971-4870-9070-15bfc8908fe9",
   "metadata": {},
   "outputs": [],
   "source": [
    "# df_2['subproduct'].value_counts()"
   ]
  },
  {
   "cell_type": "code",
   "execution_count": 25,
   "id": "170ff0d2-eae9-418a-8f43-0c25170c6a58",
   "metadata": {},
   "outputs": [],
   "source": [
    "# df_2['issue'].value_counts()"
   ]
  },
  {
   "cell_type": "code",
   "execution_count": 26,
   "id": "0de9a02b-4e29-44bf-ab6a-09b9c4e760b8",
   "metadata": {},
   "outputs": [],
   "source": [
    "# df_2['company_name'].value_counts()"
   ]
  },
  {
   "cell_type": "code",
   "execution_count": 27,
   "id": "ae7ba93b-8c34-45aa-8259-d2b8bde6f084",
   "metadata": {},
   "outputs": [],
   "source": [
    "# df_2['state'].value_counts()"
   ]
  },
  {
   "cell_type": "code",
   "execution_count": 28,
   "id": "630c7e63-b9dc-494c-bc20-e2d3854bb8eb",
   "metadata": {},
   "outputs": [],
   "source": [
    "# df_2['zip_code'].value_counts()"
   ]
  },
  {
   "cell_type": "code",
   "execution_count": 29,
   "id": "0d5d82d6-be8e-446f-9b5c-e0f473c642d6",
   "metadata": {},
   "outputs": [],
   "source": [
    "# df_2['tags'].value_counts()"
   ]
  },
  {
   "cell_type": "code",
   "execution_count": 30,
   "id": "bf1267d0-4cde-4904-854b-7a76fc4ac533",
   "metadata": {},
   "outputs": [],
   "source": [
    "# df_2['consumer_consent_provided'].value_counts()"
   ]
  },
  {
   "cell_type": "code",
   "execution_count": 31,
   "id": "5c61ab78-5776-4602-9fa6-36c947d54068",
   "metadata": {},
   "outputs": [],
   "source": [
    "# df_2['submitted_via'].value_counts()"
   ]
  },
  {
   "cell_type": "code",
   "execution_count": 32,
   "id": "3fe8c6a6-7a72-49f6-9fca-083beef6bfda",
   "metadata": {},
   "outputs": [],
   "source": [
    "# df_2['company_response_to_consumer'].value_counts()"
   ]
  },
  {
   "cell_type": "code",
   "execution_count": 33,
   "id": "34cc0bad-5132-47b4-aa3a-10a9f2888425",
   "metadata": {},
   "outputs": [],
   "source": [
    "# df_2['timely_response'].value_counts()"
   ]
  },
  {
   "cell_type": "code",
   "execution_count": 34,
   "id": "7720d036-72a6-4b28-9477-a2b5b3a71d06",
   "metadata": {},
   "outputs": [],
   "source": [
    "# df_2['consumer_disputed'].value_counts()"
   ]
  },
  {
   "cell_type": "code",
   "execution_count": 35,
   "id": "7fb7f02e-5452-4742-935b-c68b70926fcf",
   "metadata": {},
   "outputs": [],
   "source": [
    "# df_2['company_public_response'].value_counts()"
   ]
  },
  {
   "cell_type": "code",
   "execution_count": 36,
   "id": "63d8b673-3cbd-4ec4-8700-6a037cc337f6",
   "metadata": {},
   "outputs": [],
   "source": [
    "# import nltk\n",
    "# nltk.download('stopwords')"
   ]
  },
  {
   "cell_type": "code",
   "execution_count": 37,
   "id": "6c96a174-56a1-4b1f-97e1-32fab5b72468",
   "metadata": {},
   "outputs": [],
   "source": [
    "# import nltk\n",
    "# nltk.download('wordnet')"
   ]
  },
  {
   "cell_type": "code",
   "execution_count": 38,
   "id": "7b3e1483-b88b-4567-b7ac-2203b5d23fbe",
   "metadata": {},
   "outputs": [],
   "source": [
    "# import nltk\n",
    "# nltk.download('omw-1.4')"
   ]
  },
  {
   "cell_type": "code",
   "execution_count": 39,
   "id": "03cb9438-9335-4b58-b71c-48ff2013d1d9",
   "metadata": {},
   "outputs": [],
   "source": [
    "# sample_df = word_df.sample(frac=0.1)"
   ]
  },
  {
   "cell_type": "code",
   "execution_count": 40,
   "id": "2cecde93-aaee-4a70-9bea-81d2114b8245",
   "metadata": {
    "tags": []
   },
   "outputs": [
    {
     "name": "stdout",
     "output_type": "stream",
     "text": [
      "csv file found and loaded\n"
     ]
    }
   ],
   "source": [
    "df = w.check_file_exists_gbq('cfpb.csv', 'my-ds-projects-d864a770b51b.json')"
   ]
  },
  {
   "cell_type": "code",
   "execution_count": 41,
   "id": "1088bc7b-525f-4b0d-b6b8-052ddab14fe2",
   "metadata": {},
   "outputs": [],
   "source": [
    "# df['issue'].value_counts()"
   ]
  },
  {
   "cell_type": "code",
   "execution_count": 42,
   "id": "a97f2bc7-89ed-4f56-8d1f-b42598d0e2d2",
   "metadata": {},
   "outputs": [],
   "source": [
    "# df_clean = w.clean_data(df)"
   ]
  },
  {
   "cell_type": "code",
   "execution_count": 43,
   "id": "b7efd906-9498-4ef3-862b-31924f8c70d5",
   "metadata": {},
   "outputs": [],
   "source": [
    "# df_clean.to_parquet('df_clean.parquet')"
   ]
  },
  {
   "cell_type": "code",
   "execution_count": 44,
   "id": "0774657b-6054-4164-8ff3-a12ef2d14e1c",
   "metadata": {},
   "outputs": [],
   "source": [
    "df_clean = pd.read_parquet('df_clean.parquet')"
   ]
  },
  {
   "cell_type": "code",
   "execution_count": 45,
   "id": "9df2c394-ccd8-40b0-92a4-e8d60cbadcc3",
   "metadata": {},
   "outputs": [
    {
     "data": {
      "text/html": [
       "<div>\n",
       "<style scoped>\n",
       "    .dataframe tbody tr th:only-of-type {\n",
       "        vertical-align: middle;\n",
       "    }\n",
       "\n",
       "    .dataframe tbody tr th {\n",
       "        vertical-align: top;\n",
       "    }\n",
       "\n",
       "    .dataframe thead th {\n",
       "        text-align: right;\n",
       "    }\n",
       "</style>\n",
       "<table border=\"1\" class=\"dataframe\">\n",
       "  <thead>\n",
       "    <tr style=\"text-align: right;\">\n",
       "      <th></th>\n",
       "      <th>date_received</th>\n",
       "      <th>narrative</th>\n",
       "      <th>company_name</th>\n",
       "      <th>state</th>\n",
       "      <th>tags</th>\n",
       "      <th>company_response_to_consumer</th>\n",
       "      <th>product_bins</th>\n",
       "    </tr>\n",
       "  </thead>\n",
       "  <tbody>\n",
       "    <tr>\n",
       "      <th>0</th>\n",
       "      <td>2019-03-02</td>\n",
       "      <td>I was locked out of my credit report by XXXX, ...</td>\n",
       "      <td>Experian Information Solutions Inc.</td>\n",
       "      <td>IL</td>\n",
       "      <td>Average Person</td>\n",
       "      <td>Closed with explanation</td>\n",
       "      <td>credit_report</td>\n",
       "    </tr>\n",
       "    <tr>\n",
       "      <th>1</th>\n",
       "      <td>2022-12-11</td>\n",
       "      <td>I asked that the credit agency remove negative...</td>\n",
       "      <td>Experian Information Solutions Inc.</td>\n",
       "      <td>MS</td>\n",
       "      <td>Average Person</td>\n",
       "      <td>Closed with non-monetary relief</td>\n",
       "      <td>credit_report</td>\n",
       "    </tr>\n",
       "    <tr>\n",
       "      <th>2</th>\n",
       "      <td>2017-07-26</td>\n",
       "      <td>Dear XXXX XXXX XXXX ( Citibank/The Student Loa...</td>\n",
       "      <td>CITIBANK, N.A.</td>\n",
       "      <td>CT</td>\n",
       "      <td>Average Person</td>\n",
       "      <td>Closed with explanation</td>\n",
       "      <td>debt_collection</td>\n",
       "    </tr>\n",
       "    <tr>\n",
       "      <th>3</th>\n",
       "      <td>2017-12-14</td>\n",
       "      <td>Dear CFPB Attached below is a copy of my corre...</td>\n",
       "      <td>Coinbase, Inc.</td>\n",
       "      <td>UNKNOWN</td>\n",
       "      <td>Average Person</td>\n",
       "      <td>Closed with explanation</td>\n",
       "      <td>money_service</td>\n",
       "    </tr>\n",
       "    <tr>\n",
       "      <th>4</th>\n",
       "      <td>2021-07-08</td>\n",
       "      <td>I have submitted multiple requests by mail to ...</td>\n",
       "      <td>Experian Information Solutions Inc.</td>\n",
       "      <td>KY</td>\n",
       "      <td>Average Person</td>\n",
       "      <td>Closed with non-monetary relief</td>\n",
       "      <td>credit_report</td>\n",
       "    </tr>\n",
       "  </tbody>\n",
       "</table>\n",
       "</div>"
      ],
      "text/plain": [
       "  date_received                                          narrative  \\\n",
       "0    2019-03-02  I was locked out of my credit report by XXXX, ...   \n",
       "1    2022-12-11  I asked that the credit agency remove negative...   \n",
       "2    2017-07-26  Dear XXXX XXXX XXXX ( Citibank/The Student Loa...   \n",
       "3    2017-12-14  Dear CFPB Attached below is a copy of my corre...   \n",
       "4    2021-07-08  I have submitted multiple requests by mail to ...   \n",
       "\n",
       "                          company_name    state            tags  \\\n",
       "0  Experian Information Solutions Inc.       IL  Average Person   \n",
       "1  Experian Information Solutions Inc.       MS  Average Person   \n",
       "2                       CITIBANK, N.A.       CT  Average Person   \n",
       "3                       Coinbase, Inc.  UNKNOWN  Average Person   \n",
       "4  Experian Information Solutions Inc.       KY  Average Person   \n",
       "\n",
       "      company_response_to_consumer     product_bins  \n",
       "0          Closed with explanation    credit_report  \n",
       "1  Closed with non-monetary relief    credit_report  \n",
       "2          Closed with explanation  debt_collection  \n",
       "3          Closed with explanation    money_service  \n",
       "4  Closed with non-monetary relief    credit_report  "
      ]
     },
     "execution_count": 45,
     "metadata": {},
     "output_type": "execute_result"
    }
   ],
   "source": [
    "df_clean.head()"
   ]
  },
  {
   "cell_type": "code",
   "execution_count": 46,
   "id": "62cb7349-bbed-4c1e-b811-80e2358af8f9",
   "metadata": {},
   "outputs": [
    {
     "name": "stdout",
     "output_type": "stream",
     "text": [
      "<class 'pandas.core.frame.DataFrame'>\n",
      "RangeIndex: 1246736 entries, 0 to 1246735\n",
      "Data columns (total 7 columns):\n",
      " #   Column                        Non-Null Count    Dtype         \n",
      "---  ------                        --------------    -----         \n",
      " 0   date_received                 1246736 non-null  datetime64[ns]\n",
      " 1   narrative                     1246736 non-null  object        \n",
      " 2   company_name                  1246736 non-null  object        \n",
      " 3   state                         1246736 non-null  object        \n",
      " 4   tags                          1246736 non-null  object        \n",
      " 5   company_response_to_consumer  1246736 non-null  object        \n",
      " 6   product_bins                  1246736 non-null  object        \n",
      "dtypes: datetime64[ns](1), object(6)\n",
      "memory usage: 66.6+ MB\n"
     ]
    }
   ],
   "source": [
    "df_clean.info()"
   ]
  },
  {
   "cell_type": "code",
   "execution_count": 47,
   "id": "c1ca385e-c0c0-448b-9802-11d9e0fdfdf0",
   "metadata": {},
   "outputs": [],
   "source": [
    "# df_prep = w.prep_narrative(df_clean)"
   ]
  },
  {
   "cell_type": "code",
   "execution_count": 48,
   "id": "97cdf8d4-364d-403d-9307-f66b0919c2f5",
   "metadata": {},
   "outputs": [],
   "source": [
    "# df_prep.to_parquet('df_prep.parquet')"
   ]
  },
  {
   "cell_type": "code",
   "execution_count": 49,
   "id": "d94f0582-51ab-4268-818d-6df9cfdd8795",
   "metadata": {},
   "outputs": [],
   "source": [
    "df_prep = pd.read_parquet('df_prep.parquet')"
   ]
  },
  {
   "cell_type": "code",
   "execution_count": 50,
   "id": "26bc4c14-c50c-4af4-b923-0bdbc9c81be4",
   "metadata": {},
   "outputs": [
    {
     "name": "stdout",
     "output_type": "stream",
     "text": [
      "<class 'pandas.core.frame.DataFrame'>\n",
      "RangeIndex: 1246736 entries, 0 to 1246735\n",
      "Data columns (total 9 columns):\n",
      " #   Column                        Non-Null Count    Dtype         \n",
      "---  ------                        --------------    -----         \n",
      " 0   date_received                 1246736 non-null  datetime64[ns]\n",
      " 1   narrative                     1246736 non-null  object        \n",
      " 2   company_name                  1246736 non-null  object        \n",
      " 3   state                         1246736 non-null  object        \n",
      " 4   tags                          1246736 non-null  object        \n",
      " 5   company_response_to_consumer  1246736 non-null  object        \n",
      " 6   product_bins                  1246736 non-null  object        \n",
      " 7   clean                         1246736 non-null  object        \n",
      " 8   lemon                         1246736 non-null  object        \n",
      "dtypes: datetime64[ns](1), object(8)\n",
      "memory usage: 85.6+ MB\n"
     ]
    }
   ],
   "source": [
    "df_prep.info()"
   ]
  },
  {
   "cell_type": "code",
   "execution_count": 51,
   "id": "9d8ceec1-a4a9-4090-b78f-be667b327f8c",
   "metadata": {},
   "outputs": [],
   "source": [
    "# train, validate, test = w.split_data(df_prep,\"company_response_to_consumer\")\n",
    "\n",
    "# Prepared DF: (1246736, 10)\n",
    "# Train: (748041, 10)\n",
    "# Validate: (249347, 10)\n",
    "# Test: (249348, 10)"
   ]
  },
  {
   "cell_type": "code",
   "execution_count": 52,
   "id": "4a5bdfa3-93a0-45e4-87f7-4f24f4d5c50c",
   "metadata": {},
   "outputs": [],
   "source": [
    "# train.to_parquet('train.parquet')\n",
    "# validate.to_parquet('validate.parquet')\n",
    "# test.to_parquet('test.parquet')"
   ]
  },
  {
   "cell_type": "code",
   "execution_count": 53,
   "id": "91ee2375-7906-4705-8e5c-f0075fae4d04",
   "metadata": {},
   "outputs": [],
   "source": [
    "train = pd.read_parquet('train.parquet')\n",
    "validate = pd.read_parquet('validate.parquet')\n",
    "test = pd.read_parquet('test.parquet')"
   ]
  },
  {
   "cell_type": "code",
   "execution_count": 54,
   "id": "d6939524-bf19-43b5-872c-850396f488cd",
   "metadata": {},
   "outputs": [
    {
     "data": {
      "text/html": [
       "<div>\n",
       "<style scoped>\n",
       "    .dataframe tbody tr th:only-of-type {\n",
       "        vertical-align: middle;\n",
       "    }\n",
       "\n",
       "    .dataframe tbody tr th {\n",
       "        vertical-align: top;\n",
       "    }\n",
       "\n",
       "    .dataframe thead th {\n",
       "        text-align: right;\n",
       "    }\n",
       "</style>\n",
       "<table border=\"1\" class=\"dataframe\">\n",
       "  <thead>\n",
       "    <tr style=\"text-align: right;\">\n",
       "      <th></th>\n",
       "      <th>date_received</th>\n",
       "      <th>narrative</th>\n",
       "      <th>company_name</th>\n",
       "      <th>state</th>\n",
       "      <th>tags</th>\n",
       "      <th>company_response_to_consumer</th>\n",
       "      <th>product_bins</th>\n",
       "      <th>clean</th>\n",
       "      <th>lemon</th>\n",
       "    </tr>\n",
       "  </thead>\n",
       "  <tbody>\n",
       "    <tr>\n",
       "      <th>943705</th>\n",
       "      <td>2020-03-10</td>\n",
       "      <td>I clicked on a link that was advertised as a f...</td>\n",
       "      <td>TRANSUNION INTERMEDIATE HOLDINGS, INC.</td>\n",
       "      <td>UNKNOWN</td>\n",
       "      <td>Average Person</td>\n",
       "      <td>Closed with monetary relief</td>\n",
       "      <td>credit_report</td>\n",
       "      <td>i clicked on a link that was advertised as a f...</td>\n",
       "      <td>clicked link advertised free online credit rep...</td>\n",
       "    </tr>\n",
       "    <tr>\n",
       "      <th>575036</th>\n",
       "      <td>2020-12-31</td>\n",
       "      <td>After looking over my credit reports. I notice...</td>\n",
       "      <td>TRANSUNION INTERMEDIATE HOLDINGS, INC.</td>\n",
       "      <td>OH</td>\n",
       "      <td>Average Person</td>\n",
       "      <td>Closed with explanation</td>\n",
       "      <td>credit_report</td>\n",
       "      <td>after looking over my credit reports i noticed...</td>\n",
       "      <td>looking credit report noticed fraudulent accou...</td>\n",
       "    </tr>\n",
       "    <tr>\n",
       "      <th>528231</th>\n",
       "      <td>2022-03-26</td>\n",
       "      <td>Sometime within the past year I applied for an...</td>\n",
       "      <td>ENOVA INTERNATIONAL, INC.</td>\n",
       "      <td>NJ</td>\n",
       "      <td>Average Person</td>\n",
       "      <td>Closed with explanation</td>\n",
       "      <td>debt_collection</td>\n",
       "      <td>sometime within the past year i applied for an...</td>\n",
       "      <td>sometime within past year applied account netc...</td>\n",
       "    </tr>\n",
       "    <tr>\n",
       "      <th>753525</th>\n",
       "      <td>2015-12-11</td>\n",
       "      <td>The debt was opened in error by the Provider, ...</td>\n",
       "      <td>Collection Management Company</td>\n",
       "      <td>PA</td>\n",
       "      <td>Average Person</td>\n",
       "      <td>Closed with explanation</td>\n",
       "      <td>debt_collection</td>\n",
       "      <td>the debt was opened in error by the provider w...</td>\n",
       "      <td>debt opened error provider knew opened error n...</td>\n",
       "    </tr>\n",
       "    <tr>\n",
       "      <th>1006881</th>\n",
       "      <td>2022-08-18</td>\n",
       "      <td>I have ( 2 ) loans with One Main Financial in ...</td>\n",
       "      <td>OneMain Finance Corporation</td>\n",
       "      <td>OH</td>\n",
       "      <td>Servicemember</td>\n",
       "      <td>Closed with explanation</td>\n",
       "      <td>loans</td>\n",
       "      <td>i have loans with one main financial in ohio i...</td>\n",
       "      <td>loan one main financial ohio paying loan sever...</td>\n",
       "    </tr>\n",
       "  </tbody>\n",
       "</table>\n",
       "</div>"
      ],
      "text/plain": [
       "        date_received                                          narrative  \\\n",
       "943705     2020-03-10  I clicked on a link that was advertised as a f...   \n",
       "575036     2020-12-31  After looking over my credit reports. I notice...   \n",
       "528231     2022-03-26  Sometime within the past year I applied for an...   \n",
       "753525     2015-12-11  The debt was opened in error by the Provider, ...   \n",
       "1006881    2022-08-18  I have ( 2 ) loans with One Main Financial in ...   \n",
       "\n",
       "                                   company_name    state            tags  \\\n",
       "943705   TRANSUNION INTERMEDIATE HOLDINGS, INC.  UNKNOWN  Average Person   \n",
       "575036   TRANSUNION INTERMEDIATE HOLDINGS, INC.       OH  Average Person   \n",
       "528231                ENOVA INTERNATIONAL, INC.       NJ  Average Person   \n",
       "753525            Collection Management Company       PA  Average Person   \n",
       "1006881             OneMain Finance Corporation       OH   Servicemember   \n",
       "\n",
       "        company_response_to_consumer     product_bins  \\\n",
       "943705   Closed with monetary relief    credit_report   \n",
       "575036       Closed with explanation    credit_report   \n",
       "528231       Closed with explanation  debt_collection   \n",
       "753525       Closed with explanation  debt_collection   \n",
       "1006881      Closed with explanation            loans   \n",
       "\n",
       "                                                     clean  \\\n",
       "943705   i clicked on a link that was advertised as a f...   \n",
       "575036   after looking over my credit reports i noticed...   \n",
       "528231   sometime within the past year i applied for an...   \n",
       "753525   the debt was opened in error by the provider w...   \n",
       "1006881  i have loans with one main financial in ohio i...   \n",
       "\n",
       "                                                     lemon  \n",
       "943705   clicked link advertised free online credit rep...  \n",
       "575036   looking credit report noticed fraudulent accou...  \n",
       "528231   sometime within past year applied account netc...  \n",
       "753525   debt opened error provider knew opened error n...  \n",
       "1006881  loan one main financial ohio paying loan sever...  "
      ]
     },
     "execution_count": 54,
     "metadata": {},
     "output_type": "execute_result"
    }
   ],
   "source": [
    "train.head()"
   ]
  },
  {
   "cell_type": "code",
   "execution_count": 55,
   "id": "7f8d5fcf-a38c-4b37-96fc-083c53f91682",
   "metadata": {},
   "outputs": [
    {
     "data": {
      "text/html": [
       "<div>\n",
       "<style scoped>\n",
       "    .dataframe tbody tr th:only-of-type {\n",
       "        vertical-align: middle;\n",
       "    }\n",
       "\n",
       "    .dataframe tbody tr th {\n",
       "        vertical-align: top;\n",
       "    }\n",
       "\n",
       "    .dataframe thead th {\n",
       "        text-align: right;\n",
       "    }\n",
       "</style>\n",
       "<table border=\"1\" class=\"dataframe\">\n",
       "  <thead>\n",
       "    <tr style=\"text-align: right;\">\n",
       "      <th></th>\n",
       "      <th>date_received</th>\n",
       "      <th>narrative</th>\n",
       "      <th>company_name</th>\n",
       "      <th>state</th>\n",
       "      <th>tags</th>\n",
       "      <th>company_response_to_consumer</th>\n",
       "      <th>product_bins</th>\n",
       "      <th>clean</th>\n",
       "      <th>lemon</th>\n",
       "    </tr>\n",
       "  </thead>\n",
       "  <tbody>\n",
       "    <tr>\n",
       "      <th>count</th>\n",
       "      <td>748041</td>\n",
       "      <td>748041</td>\n",
       "      <td>748041</td>\n",
       "      <td>748041</td>\n",
       "      <td>748041</td>\n",
       "      <td>748041</td>\n",
       "      <td>748041</td>\n",
       "      <td>748041</td>\n",
       "      <td>748041</td>\n",
       "    </tr>\n",
       "    <tr>\n",
       "      <th>unique</th>\n",
       "      <td>2907</td>\n",
       "      <td>665660</td>\n",
       "      <td>4925</td>\n",
       "      <td>64</td>\n",
       "      <td>4</td>\n",
       "      <td>5</td>\n",
       "      <td>7</td>\n",
       "      <td>624217</td>\n",
       "      <td>616173</td>\n",
       "    </tr>\n",
       "    <tr>\n",
       "      <th>top</th>\n",
       "      <td>2023-01-20 00:00:00</td>\n",
       "      <td>My credit reports are inaccurate. These inaccu...</td>\n",
       "      <td>EQUIFAX, INC.</td>\n",
       "      <td>CA</td>\n",
       "      <td>Average Person</td>\n",
       "      <td>Closed with explanation</td>\n",
       "      <td>credit_report</td>\n",
       "      <td>in accordance with the fair credit reporting a...</td>\n",
       "      <td>accordance fair credit reporting act account v...</td>\n",
       "    </tr>\n",
       "    <tr>\n",
       "      <th>freq</th>\n",
       "      <td>1272</td>\n",
       "      <td>1084</td>\n",
       "      <td>117214</td>\n",
       "      <td>92628</td>\n",
       "      <td>640169</td>\n",
       "      <td>589373</td>\n",
       "      <td>384123</td>\n",
       "      <td>2335</td>\n",
       "      <td>3702</td>\n",
       "    </tr>\n",
       "    <tr>\n",
       "      <th>first</th>\n",
       "      <td>2015-03-19 00:00:00</td>\n",
       "      <td>NaN</td>\n",
       "      <td>NaN</td>\n",
       "      <td>NaN</td>\n",
       "      <td>NaN</td>\n",
       "      <td>NaN</td>\n",
       "      <td>NaN</td>\n",
       "      <td>NaN</td>\n",
       "      <td>NaN</td>\n",
       "    </tr>\n",
       "    <tr>\n",
       "      <th>last</th>\n",
       "      <td>2023-03-09 00:00:00</td>\n",
       "      <td>NaN</td>\n",
       "      <td>NaN</td>\n",
       "      <td>NaN</td>\n",
       "      <td>NaN</td>\n",
       "      <td>NaN</td>\n",
       "      <td>NaN</td>\n",
       "      <td>NaN</td>\n",
       "      <td>NaN</td>\n",
       "    </tr>\n",
       "  </tbody>\n",
       "</table>\n",
       "</div>"
      ],
      "text/plain": [
       "              date_received  \\\n",
       "count                748041   \n",
       "unique                 2907   \n",
       "top     2023-01-20 00:00:00   \n",
       "freq                   1272   \n",
       "first   2015-03-19 00:00:00   \n",
       "last    2023-03-09 00:00:00   \n",
       "\n",
       "                                                narrative   company_name  \\\n",
       "count                                              748041         748041   \n",
       "unique                                             665660           4925   \n",
       "top     My credit reports are inaccurate. These inaccu...  EQUIFAX, INC.   \n",
       "freq                                                 1084         117214   \n",
       "first                                                 NaN            NaN   \n",
       "last                                                  NaN            NaN   \n",
       "\n",
       "         state            tags company_response_to_consumer   product_bins  \\\n",
       "count   748041          748041                       748041         748041   \n",
       "unique      64               4                            5              7   \n",
       "top         CA  Average Person      Closed with explanation  credit_report   \n",
       "freq     92628          640169                       589373         384123   \n",
       "first      NaN             NaN                          NaN            NaN   \n",
       "last       NaN             NaN                          NaN            NaN   \n",
       "\n",
       "                                                    clean  \\\n",
       "count                                              748041   \n",
       "unique                                             624217   \n",
       "top     in accordance with the fair credit reporting a...   \n",
       "freq                                                 2335   \n",
       "first                                                 NaN   \n",
       "last                                                  NaN   \n",
       "\n",
       "                                                    lemon  \n",
       "count                                              748041  \n",
       "unique                                             616173  \n",
       "top     accordance fair credit reporting act account v...  \n",
       "freq                                                 3702  \n",
       "first                                                 NaN  \n",
       "last                                                  NaN  "
      ]
     },
     "execution_count": 55,
     "metadata": {},
     "output_type": "execute_result"
    }
   ],
   "source": [
    "# Print the summary statistics of the DataFrame\n",
    "train.describe()"
   ]
  },
  {
   "cell_type": "code",
   "execution_count": 56,
   "id": "50f9a795-6066-4b62-8bda-7025f0ad842a",
   "metadata": {},
   "outputs": [
    {
     "name": "stdout",
     "output_type": "stream",
     "text": [
      "Index(['date_received', 'narrative', 'company_name', 'state', 'tags',\n",
      "       'company_response_to_consumer', 'product_bins', 'clean', 'lemon'],\n",
      "      dtype='object')\n"
     ]
    }
   ],
   "source": [
    "# Print the column names\n",
    "print(train.columns)"
   ]
  },
  {
   "cell_type": "code",
   "execution_count": 57,
   "id": "88bee67d-148a-4b72-8e99-4781434d97dc",
   "metadata": {},
   "outputs": [
    {
     "name": "stdout",
     "output_type": "stream",
     "text": [
      "date_received                   748041\n",
      "narrative                       748041\n",
      "company_name                    748041\n",
      "state                           748041\n",
      "tags                            748041\n",
      "company_response_to_consumer    748041\n",
      "product_bins                    748041\n",
      "clean                           748041\n",
      "lemon                           748041\n",
      "dtype: int64\n"
     ]
    }
   ],
   "source": [
    "# Count the number of non-NA values\n",
    "print(train.count())"
   ]
  },
  {
   "cell_type": "code",
   "execution_count": 58,
   "id": "fdef6827-3c51-4002-870a-cacc25db5119",
   "metadata": {},
   "outputs": [
    {
     "name": "stdout",
     "output_type": "stream",
     "text": [
      "<class 'pandas.core.frame.DataFrame'>\n",
      "Int64Index: 748041 entries, 943705 to 842779\n",
      "Data columns (total 9 columns):\n",
      " #   Column                        Non-Null Count   Dtype         \n",
      "---  ------                        --------------   -----         \n",
      " 0   date_received                 748041 non-null  datetime64[ns]\n",
      " 1   narrative                     748041 non-null  object        \n",
      " 2   company_name                  748041 non-null  object        \n",
      " 3   state                         748041 non-null  object        \n",
      " 4   tags                          748041 non-null  object        \n",
      " 5   company_response_to_consumer  748041 non-null  object        \n",
      " 6   product_bins                  748041 non-null  object        \n",
      " 7   clean                         748041 non-null  object        \n",
      " 8   lemon                         748041 non-null  object        \n",
      "dtypes: datetime64[ns](1), object(8)\n",
      "memory usage: 57.1+ MB\n"
     ]
    }
   ],
   "source": [
    "train.info()"
   ]
  },
  {
   "cell_type": "raw",
   "id": "bb5cc0fe-7cd9-47a6-aa0f-77ac278d4375",
   "metadata": {},
   "source": []
  },
  {
   "cell_type": "markdown",
   "id": "0dfe3bae-1c34-4e4b-a7b0-56c062b770a0",
   "metadata": {},
   "source": [
    "# Do specific issues tend to receive specific responses? For example, do issues related to fraud tend to receive more \"closed with relief\" responses compared to other issues?"
   ]
  },
  {
   "cell_type": "code",
   "execution_count": 59,
   "id": "8d5a30a6-0ee1-4d9b-9866-e94357be4de3",
   "metadata": {},
   "outputs": [
    {
     "data": {
      "text/html": [
       "<div>\n",
       "<style scoped>\n",
       "    .dataframe tbody tr th:only-of-type {\n",
       "        vertical-align: middle;\n",
       "    }\n",
       "\n",
       "    .dataframe tbody tr th {\n",
       "        vertical-align: top;\n",
       "    }\n",
       "\n",
       "    .dataframe thead th {\n",
       "        text-align: right;\n",
       "    }\n",
       "</style>\n",
       "<table border=\"1\" class=\"dataframe\">\n",
       "  <thead>\n",
       "    <tr style=\"text-align: right;\">\n",
       "      <th></th>\n",
       "      <th>date_received</th>\n",
       "      <th>product</th>\n",
       "      <th>subproduct</th>\n",
       "      <th>issue</th>\n",
       "      <th>subissue</th>\n",
       "      <th>consumer_complaint_narrative</th>\n",
       "      <th>company_public_response</th>\n",
       "      <th>company_name</th>\n",
       "      <th>state</th>\n",
       "      <th>zip_code</th>\n",
       "      <th>tags</th>\n",
       "      <th>consumer_consent_provided</th>\n",
       "      <th>submitted_via</th>\n",
       "      <th>date_sent_to_company</th>\n",
       "      <th>company_response_to_consumer</th>\n",
       "      <th>timely_response</th>\n",
       "      <th>consumer_disputed</th>\n",
       "      <th>complaint_id</th>\n",
       "    </tr>\n",
       "  </thead>\n",
       "  <tbody>\n",
       "    <tr>\n",
       "      <th>0</th>\n",
       "      <td>2022-07-16</td>\n",
       "      <td>Credit reporting, credit repair services, or o...</td>\n",
       "      <td>Credit reporting</td>\n",
       "      <td>Improper use of your report</td>\n",
       "      <td>Reporting company used your report improperly</td>\n",
       "      <td>NaN</td>\n",
       "      <td>Company has responded to the consumer and the ...</td>\n",
       "      <td>Experian Information Solutions Inc.</td>\n",
       "      <td>PA</td>\n",
       "      <td>19136</td>\n",
       "      <td>NaN</td>\n",
       "      <td>Consent not provided</td>\n",
       "      <td>Web</td>\n",
       "      <td>2022-07-16</td>\n",
       "      <td>Closed with explanation</td>\n",
       "      <td>True</td>\n",
       "      <td>NaN</td>\n",
       "      <td>5777486</td>\n",
       "    </tr>\n",
       "    <tr>\n",
       "      <th>1</th>\n",
       "      <td>2023-01-23</td>\n",
       "      <td>Credit reporting, credit repair services, or o...</td>\n",
       "      <td>Credit reporting</td>\n",
       "      <td>Improper use of your report</td>\n",
       "      <td>Reporting company used your report improperly</td>\n",
       "      <td>NaN</td>\n",
       "      <td>Company has responded to the consumer and the ...</td>\n",
       "      <td>Experian Information Solutions Inc.</td>\n",
       "      <td>NV</td>\n",
       "      <td>89139.0</td>\n",
       "      <td>NaN</td>\n",
       "      <td>Consent not provided</td>\n",
       "      <td>Web</td>\n",
       "      <td>2023-01-23</td>\n",
       "      <td>Closed with explanation</td>\n",
       "      <td>True</td>\n",
       "      <td>NaN</td>\n",
       "      <td>6476526</td>\n",
       "    </tr>\n",
       "    <tr>\n",
       "      <th>2</th>\n",
       "      <td>2022-06-15</td>\n",
       "      <td>Credit reporting, credit repair services, or o...</td>\n",
       "      <td>Credit reporting</td>\n",
       "      <td>Improper use of your report</td>\n",
       "      <td>Reporting company used your report improperly</td>\n",
       "      <td>NaN</td>\n",
       "      <td>Company has responded to the consumer and the ...</td>\n",
       "      <td>Experian Information Solutions Inc.</td>\n",
       "      <td>NC</td>\n",
       "      <td>27591.0</td>\n",
       "      <td>NaN</td>\n",
       "      <td>Consent not provided</td>\n",
       "      <td>Web</td>\n",
       "      <td>2022-06-15</td>\n",
       "      <td>Closed with explanation</td>\n",
       "      <td>True</td>\n",
       "      <td>NaN</td>\n",
       "      <td>5675690</td>\n",
       "    </tr>\n",
       "    <tr>\n",
       "      <th>3</th>\n",
       "      <td>2022-10-09</td>\n",
       "      <td>Credit reporting, credit repair services, or o...</td>\n",
       "      <td>Credit reporting</td>\n",
       "      <td>Improper use of your report</td>\n",
       "      <td>Reporting company used your report improperly</td>\n",
       "      <td>NaN</td>\n",
       "      <td>Company has responded to the consumer and the ...</td>\n",
       "      <td>Experian Information Solutions Inc.</td>\n",
       "      <td>OH</td>\n",
       "      <td>44266.0</td>\n",
       "      <td>NaN</td>\n",
       "      <td>Consent not provided</td>\n",
       "      <td>Web</td>\n",
       "      <td>2022-10-09</td>\n",
       "      <td>Closed with non-monetary relief</td>\n",
       "      <td>True</td>\n",
       "      <td>NaN</td>\n",
       "      <td>6064894</td>\n",
       "    </tr>\n",
       "    <tr>\n",
       "      <th>4</th>\n",
       "      <td>2019-03-02</td>\n",
       "      <td>Credit reporting, credit repair services, or o...</td>\n",
       "      <td>Credit reporting</td>\n",
       "      <td>Incorrect information on your report</td>\n",
       "      <td>Information is missing that should be on the r...</td>\n",
       "      <td>I was locked out of my credit report by XXXX, ...</td>\n",
       "      <td>Company has responded to the consumer and the ...</td>\n",
       "      <td>Experian Information Solutions Inc.</td>\n",
       "      <td>IL</td>\n",
       "      <td>62702.0</td>\n",
       "      <td>NaN</td>\n",
       "      <td>Consent provided</td>\n",
       "      <td>Web</td>\n",
       "      <td>2019-03-02</td>\n",
       "      <td>Closed with explanation</td>\n",
       "      <td>True</td>\n",
       "      <td>NaN</td>\n",
       "      <td>3167321</td>\n",
       "    </tr>\n",
       "    <tr>\n",
       "      <th>...</th>\n",
       "      <td>...</td>\n",
       "      <td>...</td>\n",
       "      <td>...</td>\n",
       "      <td>...</td>\n",
       "      <td>...</td>\n",
       "      <td>...</td>\n",
       "      <td>...</td>\n",
       "      <td>...</td>\n",
       "      <td>...</td>\n",
       "      <td>...</td>\n",
       "      <td>...</td>\n",
       "      <td>...</td>\n",
       "      <td>...</td>\n",
       "      <td>...</td>\n",
       "      <td>...</td>\n",
       "      <td>...</td>\n",
       "      <td>...</td>\n",
       "      <td>...</td>\n",
       "    </tr>\n",
       "    <tr>\n",
       "      <th>3458901</th>\n",
       "      <td>2022-09-10</td>\n",
       "      <td>Vehicle loan or lease</td>\n",
       "      <td>Loan</td>\n",
       "      <td>Getting a loan or lease</td>\n",
       "      <td>Credit denial</td>\n",
       "      <td>I did an application for a consumer credit tra...</td>\n",
       "      <td>NaN</td>\n",
       "      <td>Consumer Portfolio Services, Inc.</td>\n",
       "      <td>IL</td>\n",
       "      <td>60426.0</td>\n",
       "      <td>NaN</td>\n",
       "      <td>Consent provided</td>\n",
       "      <td>Web</td>\n",
       "      <td>2022-09-10</td>\n",
       "      <td>Closed with explanation</td>\n",
       "      <td>True</td>\n",
       "      <td>NaN</td>\n",
       "      <td>5968205</td>\n",
       "    </tr>\n",
       "    <tr>\n",
       "      <th>3458902</th>\n",
       "      <td>2022-08-04</td>\n",
       "      <td>Debt collection</td>\n",
       "      <td>Other debt</td>\n",
       "      <td>Attempts to collect debt not owed</td>\n",
       "      <td>Debt is not yours</td>\n",
       "      <td>NaN</td>\n",
       "      <td>NaN</td>\n",
       "      <td>Credence Resource Management, LLC</td>\n",
       "      <td>IL</td>\n",
       "      <td>60827.0</td>\n",
       "      <td>NaN</td>\n",
       "      <td>Consent not provided</td>\n",
       "      <td>Web</td>\n",
       "      <td>2022-08-04</td>\n",
       "      <td>Closed with non-monetary relief</td>\n",
       "      <td>True</td>\n",
       "      <td>NaN</td>\n",
       "      <td>5844025</td>\n",
       "    </tr>\n",
       "    <tr>\n",
       "      <th>3458903</th>\n",
       "      <td>2018-05-30</td>\n",
       "      <td>Credit reporting, credit repair services, or o...</td>\n",
       "      <td>Credit reporting</td>\n",
       "      <td>Problem with a credit reporting company's inve...</td>\n",
       "      <td>Investigation took more than 30 days</td>\n",
       "      <td>I sent the following correspondence to credenc...</td>\n",
       "      <td>NaN</td>\n",
       "      <td>Credence Resource Management, LLC</td>\n",
       "      <td>LA</td>\n",
       "      <td>70122.0</td>\n",
       "      <td>NaN</td>\n",
       "      <td>Consent provided</td>\n",
       "      <td>Web</td>\n",
       "      <td>2018-05-30</td>\n",
       "      <td>Closed with explanation</td>\n",
       "      <td>True</td>\n",
       "      <td>NaN</td>\n",
       "      <td>2922074</td>\n",
       "    </tr>\n",
       "    <tr>\n",
       "      <th>3458904</th>\n",
       "      <td>2019-10-17</td>\n",
       "      <td>Debt collection</td>\n",
       "      <td>Medical debt</td>\n",
       "      <td>Attempts to collect debt not owed</td>\n",
       "      <td>Debt is not yours</td>\n",
       "      <td>{$2600.00} I do not owe this debt and it does ...</td>\n",
       "      <td>NaN</td>\n",
       "      <td>PORTFOLIO RECOVERY ASSOCIATES INC</td>\n",
       "      <td>GA</td>\n",
       "      <td>30357.0</td>\n",
       "      <td>NaN</td>\n",
       "      <td>Consent provided</td>\n",
       "      <td>Web</td>\n",
       "      <td>2019-10-17</td>\n",
       "      <td>Closed with non-monetary relief</td>\n",
       "      <td>True</td>\n",
       "      <td>NaN</td>\n",
       "      <td>3408261</td>\n",
       "    </tr>\n",
       "    <tr>\n",
       "      <th>3458905</th>\n",
       "      <td>2019-02-11</td>\n",
       "      <td>Debt collection</td>\n",
       "      <td>Credit card debt</td>\n",
       "      <td>Attempts to collect debt not owed</td>\n",
       "      <td>Debt was result of identity theft</td>\n",
       "      <td>I am an ID Theft Victim and reported my consum...</td>\n",
       "      <td>NaN</td>\n",
       "      <td>PORTFOLIO RECOVERY ASSOCIATES INC</td>\n",
       "      <td>HI</td>\n",
       "      <td>96822.0</td>\n",
       "      <td>NaN</td>\n",
       "      <td>Consent provided</td>\n",
       "      <td>Web</td>\n",
       "      <td>2019-02-11</td>\n",
       "      <td>Closed with non-monetary relief</td>\n",
       "      <td>True</td>\n",
       "      <td>NaN</td>\n",
       "      <td>3148231</td>\n",
       "    </tr>\n",
       "  </tbody>\n",
       "</table>\n",
       "<p>3458906 rows × 18 columns</p>\n",
       "</div>"
      ],
      "text/plain": [
       "        date_received                                            product  \\\n",
       "0          2022-07-16  Credit reporting, credit repair services, or o...   \n",
       "1          2023-01-23  Credit reporting, credit repair services, or o...   \n",
       "2          2022-06-15  Credit reporting, credit repair services, or o...   \n",
       "3          2022-10-09  Credit reporting, credit repair services, or o...   \n",
       "4          2019-03-02  Credit reporting, credit repair services, or o...   \n",
       "...               ...                                                ...   \n",
       "3458901    2022-09-10                              Vehicle loan or lease   \n",
       "3458902    2022-08-04                                    Debt collection   \n",
       "3458903    2018-05-30  Credit reporting, credit repair services, or o...   \n",
       "3458904    2019-10-17                                    Debt collection   \n",
       "3458905    2019-02-11                                    Debt collection   \n",
       "\n",
       "               subproduct                                              issue  \\\n",
       "0        Credit reporting                        Improper use of your report   \n",
       "1        Credit reporting                        Improper use of your report   \n",
       "2        Credit reporting                        Improper use of your report   \n",
       "3        Credit reporting                        Improper use of your report   \n",
       "4        Credit reporting               Incorrect information on your report   \n",
       "...                   ...                                                ...   \n",
       "3458901              Loan                            Getting a loan or lease   \n",
       "3458902        Other debt                  Attempts to collect debt not owed   \n",
       "3458903  Credit reporting  Problem with a credit reporting company's inve...   \n",
       "3458904      Medical debt                  Attempts to collect debt not owed   \n",
       "3458905  Credit card debt                  Attempts to collect debt not owed   \n",
       "\n",
       "                                                  subissue  \\\n",
       "0            Reporting company used your report improperly   \n",
       "1            Reporting company used your report improperly   \n",
       "2            Reporting company used your report improperly   \n",
       "3            Reporting company used your report improperly   \n",
       "4        Information is missing that should be on the r...   \n",
       "...                                                    ...   \n",
       "3458901                                      Credit denial   \n",
       "3458902                                  Debt is not yours   \n",
       "3458903               Investigation took more than 30 days   \n",
       "3458904                                  Debt is not yours   \n",
       "3458905                  Debt was result of identity theft   \n",
       "\n",
       "                              consumer_complaint_narrative  \\\n",
       "0                                                      NaN   \n",
       "1                                                      NaN   \n",
       "2                                                      NaN   \n",
       "3                                                      NaN   \n",
       "4        I was locked out of my credit report by XXXX, ...   \n",
       "...                                                    ...   \n",
       "3458901  I did an application for a consumer credit tra...   \n",
       "3458902                                                NaN   \n",
       "3458903  I sent the following correspondence to credenc...   \n",
       "3458904  {$2600.00} I do not owe this debt and it does ...   \n",
       "3458905  I am an ID Theft Victim and reported my consum...   \n",
       "\n",
       "                                   company_public_response  \\\n",
       "0        Company has responded to the consumer and the ...   \n",
       "1        Company has responded to the consumer and the ...   \n",
       "2        Company has responded to the consumer and the ...   \n",
       "3        Company has responded to the consumer and the ...   \n",
       "4        Company has responded to the consumer and the ...   \n",
       "...                                                    ...   \n",
       "3458901                                                NaN   \n",
       "3458902                                                NaN   \n",
       "3458903                                                NaN   \n",
       "3458904                                                NaN   \n",
       "3458905                                                NaN   \n",
       "\n",
       "                                company_name state zip_code tags  \\\n",
       "0        Experian Information Solutions Inc.    PA    19136  NaN   \n",
       "1        Experian Information Solutions Inc.    NV  89139.0  NaN   \n",
       "2        Experian Information Solutions Inc.    NC  27591.0  NaN   \n",
       "3        Experian Information Solutions Inc.    OH  44266.0  NaN   \n",
       "4        Experian Information Solutions Inc.    IL  62702.0  NaN   \n",
       "...                                      ...   ...      ...  ...   \n",
       "3458901    Consumer Portfolio Services, Inc.    IL  60426.0  NaN   \n",
       "3458902    Credence Resource Management, LLC    IL  60827.0  NaN   \n",
       "3458903    Credence Resource Management, LLC    LA  70122.0  NaN   \n",
       "3458904    PORTFOLIO RECOVERY ASSOCIATES INC    GA  30357.0  NaN   \n",
       "3458905    PORTFOLIO RECOVERY ASSOCIATES INC    HI  96822.0  NaN   \n",
       "\n",
       "        consumer_consent_provided submitted_via date_sent_to_company  \\\n",
       "0            Consent not provided           Web           2022-07-16   \n",
       "1            Consent not provided           Web           2023-01-23   \n",
       "2            Consent not provided           Web           2022-06-15   \n",
       "3            Consent not provided           Web           2022-10-09   \n",
       "4                Consent provided           Web           2019-03-02   \n",
       "...                           ...           ...                  ...   \n",
       "3458901          Consent provided           Web           2022-09-10   \n",
       "3458902      Consent not provided           Web           2022-08-04   \n",
       "3458903          Consent provided           Web           2018-05-30   \n",
       "3458904          Consent provided           Web           2019-10-17   \n",
       "3458905          Consent provided           Web           2019-02-11   \n",
       "\n",
       "            company_response_to_consumer  timely_response consumer_disputed  \\\n",
       "0                Closed with explanation             True               NaN   \n",
       "1                Closed with explanation             True               NaN   \n",
       "2                Closed with explanation             True               NaN   \n",
       "3        Closed with non-monetary relief             True               NaN   \n",
       "4                Closed with explanation             True               NaN   \n",
       "...                                  ...              ...               ...   \n",
       "3458901          Closed with explanation             True               NaN   \n",
       "3458902  Closed with non-monetary relief             True               NaN   \n",
       "3458903          Closed with explanation             True               NaN   \n",
       "3458904  Closed with non-monetary relief             True               NaN   \n",
       "3458905  Closed with non-monetary relief             True               NaN   \n",
       "\n",
       "         complaint_id  \n",
       "0             5777486  \n",
       "1             6476526  \n",
       "2             5675690  \n",
       "3             6064894  \n",
       "4             3167321  \n",
       "...               ...  \n",
       "3458901       5968205  \n",
       "3458902       5844025  \n",
       "3458903       2922074  \n",
       "3458904       3408261  \n",
       "3458905       3148231  \n",
       "\n",
       "[3458906 rows x 18 columns]"
      ]
     },
     "execution_count": 59,
     "metadata": {},
     "output_type": "execute_result"
    }
   ],
   "source": [
    "df"
   ]
  },
  {
   "cell_type": "code",
   "execution_count": 60,
   "id": "cc39aec8-9942-4f2b-bf4d-c66aee54fcfd",
   "metadata": {},
   "outputs": [
    {
     "data": {
      "text/plain": [
       "issue                             company_response_to_consumer   \n",
       "APR or interest rate              Closed                               40\n",
       "                                  Closed with explanation            2898\n",
       "                                  Closed with monetary relief        1313\n",
       "                                  Closed with non-monetary relief     486\n",
       "                                  Closed with relief                  342\n",
       "                                                                     ... \n",
       "Wrong amount charged or received  Closed with explanation             853\n",
       "                                  Closed with monetary relief         207\n",
       "                                  Closed with non-monetary relief      28\n",
       "                                  In progress                           3\n",
       "                                  Untimely response                     1\n",
       "Length: 874, dtype: int64"
      ]
     },
     "execution_count": 60,
     "metadata": {},
     "output_type": "execute_result"
    }
   ],
   "source": [
    "# Group by 'issue' and 'company_response_to_consumer', then count the number of occurrences\n",
    "issue_response_counts = df.groupby(['issue', 'company_response_to_consumer']).size()\n",
    "issue_response_counts"
   ]
  },
  {
   "cell_type": "code",
   "execution_count": 61,
   "id": "19ebc94b-dfc3-475e-b372-26281df0ce73",
   "metadata": {},
   "outputs": [],
   "source": [
    "# Convert the counts to a DataFrame and reset the index\n",
    "issue_response_df = issue_response_counts.to_frame(name='count').reset_index()"
   ]
  },
  {
   "cell_type": "code",
   "execution_count": 62,
   "id": "2b5b2172-5aec-45dd-bd29-ba0a591fd783",
   "metadata": {},
   "outputs": [
    {
     "data": {
      "text/html": [
       "<div>\n",
       "<style scoped>\n",
       "    .dataframe tbody tr th:only-of-type {\n",
       "        vertical-align: middle;\n",
       "    }\n",
       "\n",
       "    .dataframe tbody tr th {\n",
       "        vertical-align: top;\n",
       "    }\n",
       "\n",
       "    .dataframe thead th {\n",
       "        text-align: right;\n",
       "    }\n",
       "</style>\n",
       "<table border=\"1\" class=\"dataframe\">\n",
       "  <thead>\n",
       "    <tr style=\"text-align: right;\">\n",
       "      <th></th>\n",
       "      <th>issue</th>\n",
       "      <th>company_response_to_consumer</th>\n",
       "      <th>count</th>\n",
       "    </tr>\n",
       "  </thead>\n",
       "  <tbody>\n",
       "    <tr>\n",
       "      <th>420</th>\n",
       "      <td>Incorrect information on your report</td>\n",
       "      <td>Closed with explanation</td>\n",
       "      <td>643764</td>\n",
       "    </tr>\n",
       "    <tr>\n",
       "      <th>617</th>\n",
       "      <td>Problem with a credit reporting company's inve...</td>\n",
       "      <td>Closed with explanation</td>\n",
       "      <td>333207</td>\n",
       "    </tr>\n",
       "    <tr>\n",
       "      <th>404</th>\n",
       "      <td>Improper use of your report</td>\n",
       "      <td>Closed with explanation</td>\n",
       "      <td>229020</td>\n",
       "    </tr>\n",
       "    <tr>\n",
       "      <th>422</th>\n",
       "      <td>Incorrect information on your report</td>\n",
       "      <td>Closed with non-monetary relief</td>\n",
       "      <td>180511</td>\n",
       "    </tr>\n",
       "    <tr>\n",
       "      <th>75</th>\n",
       "      <td>Attempts to collect debt not owed</td>\n",
       "      <td>Closed with explanation</td>\n",
       "      <td>142435</td>\n",
       "    </tr>\n",
       "    <tr>\n",
       "      <th>...</th>\n",
       "      <td>...</td>\n",
       "      <td>...</td>\n",
       "      <td>...</td>\n",
       "    </tr>\n",
       "    <tr>\n",
       "      <th>472</th>\n",
       "      <td>Lost or stolen money order</td>\n",
       "      <td>Untimely response</td>\n",
       "      <td>1</td>\n",
       "    </tr>\n",
       "    <tr>\n",
       "      <th>443</th>\n",
       "      <td>Lender sold the property</td>\n",
       "      <td>Untimely response</td>\n",
       "      <td>1</td>\n",
       "    </tr>\n",
       "    <tr>\n",
       "      <th>438</th>\n",
       "      <td>Lender repossessed or sold the vehicle</td>\n",
       "      <td>Closed</td>\n",
       "      <td>1</td>\n",
       "    </tr>\n",
       "    <tr>\n",
       "      <th>414</th>\n",
       "      <td>Incorrect exchange rate</td>\n",
       "      <td>Untimely response</td>\n",
       "      <td>1</td>\n",
       "    </tr>\n",
       "    <tr>\n",
       "      <th>873</th>\n",
       "      <td>Wrong amount charged or received</td>\n",
       "      <td>Untimely response</td>\n",
       "      <td>1</td>\n",
       "    </tr>\n",
       "  </tbody>\n",
       "</table>\n",
       "<p>874 rows × 3 columns</p>\n",
       "</div>"
      ],
      "text/plain": [
       "                                                 issue  \\\n",
       "420               Incorrect information on your report   \n",
       "617  Problem with a credit reporting company's inve...   \n",
       "404                        Improper use of your report   \n",
       "422               Incorrect information on your report   \n",
       "75                   Attempts to collect debt not owed   \n",
       "..                                                 ...   \n",
       "472                         Lost or stolen money order   \n",
       "443                           Lender sold the property   \n",
       "438             Lender repossessed or sold the vehicle   \n",
       "414                            Incorrect exchange rate   \n",
       "873                   Wrong amount charged or received   \n",
       "\n",
       "        company_response_to_consumer   count  \n",
       "420          Closed with explanation  643764  \n",
       "617          Closed with explanation  333207  \n",
       "404          Closed with explanation  229020  \n",
       "422  Closed with non-monetary relief  180511  \n",
       "75           Closed with explanation  142435  \n",
       "..                               ...     ...  \n",
       "472                Untimely response       1  \n",
       "443                Untimely response       1  \n",
       "438                           Closed       1  \n",
       "414                Untimely response       1  \n",
       "873                Untimely response       1  \n",
       "\n",
       "[874 rows x 3 columns]"
      ]
     },
     "execution_count": 62,
     "metadata": {},
     "output_type": "execute_result"
    }
   ],
   "source": [
    "# Sort the DataFrame by 'count' in descending order to see which combinations of issue and response are most common\n",
    "issue_response_df = issue_response_df.sort_values('count', ascending=False)\n",
    "\n",
    "# Print the DataFrame\n",
    "issue_response_df"
   ]
  },
  {
   "cell_type": "markdown",
   "id": "cce2c23f-8498-484d-95ab-624a84af3f86",
   "metadata": {},
   "source": [
    "## Do specific words tend to receive specific responses? For example, do words related to fraud tend to receive more \"closed with relief\" responses compared to other issues?\n",
    "\n",
    "## Or do specific responses are associated with specific words from the narrative?"
   ]
  },
  {
   "cell_type": "markdown",
   "id": "b50172c1-f62d-4e33-99f5-8b72adc91e81",
   "metadata": {},
   "source": [
    "Invistigation:\n",
    "* will be separation each word by row and then will be doing a count of how many times the word appears in the narrative (lemon)\n",
    "* will be only doing it on a max_features of 20,000\n",
    "* once we have the count of each word will be comparing it with the specific response to "
   ]
  },
  {
   "cell_type": "code",
   "execution_count": 63,
   "id": "0a92ca55-deea-4175-998f-fff6405bd614",
   "metadata": {},
   "outputs": [],
   "source": [
    "from sklearn.feature_extraction.text import CountVectorizer, TfidfVectorizer\n",
    "\n",
    "# Initialize a CountVectorizer (or TfidfVectorizer)\n",
    "vectorizer = CountVectorizer(max_features=20000)\n",
    "\n",
    "# Fit the vectorizer to the 'lemon' column and transform the column into a matrix\n",
    "word_matrix = vectorizer.fit_transform(train['lemon'])\n",
    "\n",
    "# Convert the sparse matrix to a DataFrame\n",
    "# word_df = pd.DataFrame.sparse.from_spmatrix(word_matrix, columns=vectorizer.get_feature_names_out())"
   ]
  },
  {
   "cell_type": "code",
   "execution_count": 64,
   "id": "ca6e4123-4437-4815-b367-8e9524c5dbcb",
   "metadata": {
    "scrolled": true,
    "tags": []
   },
   "outputs": [],
   "source": [
    "# Convert the sparse matrix to a DataFrame\n",
    "words_df = pd.DataFrame.sparse.from_spmatrix(word_matrix, columns=vectorizer.get_feature_names_out())"
   ]
  },
  {
   "cell_type": "code",
   "execution_count": 65,
   "id": "181bebb9-49e2-41d3-b041-7e0a1c39a770",
   "metadata": {},
   "outputs": [
    {
     "data": {
      "text/html": [
       "<div>\n",
       "<style scoped>\n",
       "    .dataframe tbody tr th:only-of-type {\n",
       "        vertical-align: middle;\n",
       "    }\n",
       "\n",
       "    .dataframe tbody tr th {\n",
       "        vertical-align: top;\n",
       "    }\n",
       "\n",
       "    .dataframe thead th {\n",
       "        text-align: right;\n",
       "    }\n",
       "</style>\n",
       "<table border=\"1\" class=\"dataframe\">\n",
       "  <thead>\n",
       "    <tr style=\"text-align: right;\">\n",
       "      <th></th>\n",
       "      <th>aa</th>\n",
       "      <th>aaa</th>\n",
       "      <th>aaccount</th>\n",
       "      <th>aadvantage</th>\n",
       "      <th>aafes</th>\n",
       "      <th>aag</th>\n",
       "      <th>aams</th>\n",
       "      <th>aan</th>\n",
       "      <th>aand</th>\n",
       "      <th>aargon</th>\n",
       "      <th>...</th>\n",
       "      <th>zion</th>\n",
       "      <th>zip</th>\n",
       "      <th>zipcode</th>\n",
       "      <th>zombie</th>\n",
       "      <th>zone</th>\n",
       "      <th>zoned</th>\n",
       "      <th>zoning</th>\n",
       "      <th>zoom</th>\n",
       "      <th>zuntafi</th>\n",
       "      <th>zwicker</th>\n",
       "    </tr>\n",
       "  </thead>\n",
       "  <tbody>\n",
       "    <tr>\n",
       "      <th>0</th>\n",
       "      <td>0</td>\n",
       "      <td>0</td>\n",
       "      <td>0</td>\n",
       "      <td>0</td>\n",
       "      <td>0</td>\n",
       "      <td>0</td>\n",
       "      <td>0</td>\n",
       "      <td>0</td>\n",
       "      <td>0</td>\n",
       "      <td>0</td>\n",
       "      <td>...</td>\n",
       "      <td>0</td>\n",
       "      <td>0</td>\n",
       "      <td>0</td>\n",
       "      <td>0</td>\n",
       "      <td>0</td>\n",
       "      <td>0</td>\n",
       "      <td>0</td>\n",
       "      <td>0</td>\n",
       "      <td>0</td>\n",
       "      <td>0</td>\n",
       "    </tr>\n",
       "    <tr>\n",
       "      <th>1</th>\n",
       "      <td>0</td>\n",
       "      <td>0</td>\n",
       "      <td>0</td>\n",
       "      <td>0</td>\n",
       "      <td>0</td>\n",
       "      <td>0</td>\n",
       "      <td>0</td>\n",
       "      <td>0</td>\n",
       "      <td>0</td>\n",
       "      <td>0</td>\n",
       "      <td>...</td>\n",
       "      <td>0</td>\n",
       "      <td>0</td>\n",
       "      <td>0</td>\n",
       "      <td>0</td>\n",
       "      <td>0</td>\n",
       "      <td>0</td>\n",
       "      <td>0</td>\n",
       "      <td>0</td>\n",
       "      <td>0</td>\n",
       "      <td>0</td>\n",
       "    </tr>\n",
       "    <tr>\n",
       "      <th>2</th>\n",
       "      <td>0</td>\n",
       "      <td>0</td>\n",
       "      <td>0</td>\n",
       "      <td>0</td>\n",
       "      <td>0</td>\n",
       "      <td>0</td>\n",
       "      <td>0</td>\n",
       "      <td>0</td>\n",
       "      <td>0</td>\n",
       "      <td>0</td>\n",
       "      <td>...</td>\n",
       "      <td>0</td>\n",
       "      <td>0</td>\n",
       "      <td>0</td>\n",
       "      <td>0</td>\n",
       "      <td>0</td>\n",
       "      <td>0</td>\n",
       "      <td>0</td>\n",
       "      <td>0</td>\n",
       "      <td>0</td>\n",
       "      <td>0</td>\n",
       "    </tr>\n",
       "    <tr>\n",
       "      <th>3</th>\n",
       "      <td>0</td>\n",
       "      <td>0</td>\n",
       "      <td>0</td>\n",
       "      <td>0</td>\n",
       "      <td>0</td>\n",
       "      <td>0</td>\n",
       "      <td>0</td>\n",
       "      <td>0</td>\n",
       "      <td>0</td>\n",
       "      <td>0</td>\n",
       "      <td>...</td>\n",
       "      <td>0</td>\n",
       "      <td>0</td>\n",
       "      <td>0</td>\n",
       "      <td>0</td>\n",
       "      <td>0</td>\n",
       "      <td>0</td>\n",
       "      <td>0</td>\n",
       "      <td>0</td>\n",
       "      <td>0</td>\n",
       "      <td>0</td>\n",
       "    </tr>\n",
       "    <tr>\n",
       "      <th>4</th>\n",
       "      <td>0</td>\n",
       "      <td>0</td>\n",
       "      <td>0</td>\n",
       "      <td>0</td>\n",
       "      <td>0</td>\n",
       "      <td>0</td>\n",
       "      <td>0</td>\n",
       "      <td>0</td>\n",
       "      <td>0</td>\n",
       "      <td>0</td>\n",
       "      <td>...</td>\n",
       "      <td>0</td>\n",
       "      <td>0</td>\n",
       "      <td>0</td>\n",
       "      <td>0</td>\n",
       "      <td>0</td>\n",
       "      <td>0</td>\n",
       "      <td>0</td>\n",
       "      <td>0</td>\n",
       "      <td>0</td>\n",
       "      <td>0</td>\n",
       "    </tr>\n",
       "    <tr>\n",
       "      <th>...</th>\n",
       "      <td>...</td>\n",
       "      <td>...</td>\n",
       "      <td>...</td>\n",
       "      <td>...</td>\n",
       "      <td>...</td>\n",
       "      <td>...</td>\n",
       "      <td>...</td>\n",
       "      <td>...</td>\n",
       "      <td>...</td>\n",
       "      <td>...</td>\n",
       "      <td>...</td>\n",
       "      <td>...</td>\n",
       "      <td>...</td>\n",
       "      <td>...</td>\n",
       "      <td>...</td>\n",
       "      <td>...</td>\n",
       "      <td>...</td>\n",
       "      <td>...</td>\n",
       "      <td>...</td>\n",
       "      <td>...</td>\n",
       "      <td>...</td>\n",
       "    </tr>\n",
       "    <tr>\n",
       "      <th>748036</th>\n",
       "      <td>0</td>\n",
       "      <td>0</td>\n",
       "      <td>0</td>\n",
       "      <td>0</td>\n",
       "      <td>0</td>\n",
       "      <td>0</td>\n",
       "      <td>0</td>\n",
       "      <td>0</td>\n",
       "      <td>0</td>\n",
       "      <td>0</td>\n",
       "      <td>...</td>\n",
       "      <td>0</td>\n",
       "      <td>0</td>\n",
       "      <td>0</td>\n",
       "      <td>0</td>\n",
       "      <td>0</td>\n",
       "      <td>0</td>\n",
       "      <td>0</td>\n",
       "      <td>0</td>\n",
       "      <td>0</td>\n",
       "      <td>0</td>\n",
       "    </tr>\n",
       "    <tr>\n",
       "      <th>748037</th>\n",
       "      <td>0</td>\n",
       "      <td>0</td>\n",
       "      <td>0</td>\n",
       "      <td>0</td>\n",
       "      <td>0</td>\n",
       "      <td>0</td>\n",
       "      <td>0</td>\n",
       "      <td>0</td>\n",
       "      <td>0</td>\n",
       "      <td>0</td>\n",
       "      <td>...</td>\n",
       "      <td>0</td>\n",
       "      <td>0</td>\n",
       "      <td>0</td>\n",
       "      <td>0</td>\n",
       "      <td>0</td>\n",
       "      <td>0</td>\n",
       "      <td>0</td>\n",
       "      <td>0</td>\n",
       "      <td>0</td>\n",
       "      <td>0</td>\n",
       "    </tr>\n",
       "    <tr>\n",
       "      <th>748038</th>\n",
       "      <td>0</td>\n",
       "      <td>0</td>\n",
       "      <td>0</td>\n",
       "      <td>0</td>\n",
       "      <td>0</td>\n",
       "      <td>0</td>\n",
       "      <td>0</td>\n",
       "      <td>0</td>\n",
       "      <td>0</td>\n",
       "      <td>0</td>\n",
       "      <td>...</td>\n",
       "      <td>0</td>\n",
       "      <td>0</td>\n",
       "      <td>0</td>\n",
       "      <td>0</td>\n",
       "      <td>0</td>\n",
       "      <td>0</td>\n",
       "      <td>0</td>\n",
       "      <td>0</td>\n",
       "      <td>0</td>\n",
       "      <td>0</td>\n",
       "    </tr>\n",
       "    <tr>\n",
       "      <th>748039</th>\n",
       "      <td>0</td>\n",
       "      <td>0</td>\n",
       "      <td>0</td>\n",
       "      <td>0</td>\n",
       "      <td>0</td>\n",
       "      <td>0</td>\n",
       "      <td>0</td>\n",
       "      <td>0</td>\n",
       "      <td>0</td>\n",
       "      <td>0</td>\n",
       "      <td>...</td>\n",
       "      <td>0</td>\n",
       "      <td>0</td>\n",
       "      <td>0</td>\n",
       "      <td>0</td>\n",
       "      <td>0</td>\n",
       "      <td>0</td>\n",
       "      <td>0</td>\n",
       "      <td>0</td>\n",
       "      <td>0</td>\n",
       "      <td>0</td>\n",
       "    </tr>\n",
       "    <tr>\n",
       "      <th>748040</th>\n",
       "      <td>0</td>\n",
       "      <td>0</td>\n",
       "      <td>0</td>\n",
       "      <td>0</td>\n",
       "      <td>0</td>\n",
       "      <td>0</td>\n",
       "      <td>0</td>\n",
       "      <td>0</td>\n",
       "      <td>0</td>\n",
       "      <td>0</td>\n",
       "      <td>...</td>\n",
       "      <td>0</td>\n",
       "      <td>0</td>\n",
       "      <td>0</td>\n",
       "      <td>0</td>\n",
       "      <td>0</td>\n",
       "      <td>0</td>\n",
       "      <td>0</td>\n",
       "      <td>0</td>\n",
       "      <td>0</td>\n",
       "      <td>0</td>\n",
       "    </tr>\n",
       "  </tbody>\n",
       "</table>\n",
       "<p>748041 rows × 20000 columns</p>\n",
       "</div>"
      ],
      "text/plain": [
       "        aa  aaa  aaccount  aadvantage  aafes  aag  aams  aan  aand  aargon  \\\n",
       "0        0    0         0           0      0    0     0    0     0       0   \n",
       "1        0    0         0           0      0    0     0    0     0       0   \n",
       "2        0    0         0           0      0    0     0    0     0       0   \n",
       "3        0    0         0           0      0    0     0    0     0       0   \n",
       "4        0    0         0           0      0    0     0    0     0       0   \n",
       "...     ..  ...       ...         ...    ...  ...   ...  ...   ...     ...   \n",
       "748036   0    0         0           0      0    0     0    0     0       0   \n",
       "748037   0    0         0           0      0    0     0    0     0       0   \n",
       "748038   0    0         0           0      0    0     0    0     0       0   \n",
       "748039   0    0         0           0      0    0     0    0     0       0   \n",
       "748040   0    0         0           0      0    0     0    0     0       0   \n",
       "\n",
       "        ...  zion  zip  zipcode  zombie  zone  zoned  zoning  zoom  zuntafi  \\\n",
       "0       ...     0    0        0       0     0      0       0     0        0   \n",
       "1       ...     0    0        0       0     0      0       0     0        0   \n",
       "2       ...     0    0        0       0     0      0       0     0        0   \n",
       "3       ...     0    0        0       0     0      0       0     0        0   \n",
       "4       ...     0    0        0       0     0      0       0     0        0   \n",
       "...     ...   ...  ...      ...     ...   ...    ...     ...   ...      ...   \n",
       "748036  ...     0    0        0       0     0      0       0     0        0   \n",
       "748037  ...     0    0        0       0     0      0       0     0        0   \n",
       "748038  ...     0    0        0       0     0      0       0     0        0   \n",
       "748039  ...     0    0        0       0     0      0       0     0        0   \n",
       "748040  ...     0    0        0       0     0      0       0     0        0   \n",
       "\n",
       "        zwicker  \n",
       "0             0  \n",
       "1             0  \n",
       "2             0  \n",
       "3             0  \n",
       "4             0  \n",
       "...         ...  \n",
       "748036        0  \n",
       "748037        0  \n",
       "748038        0  \n",
       "748039        0  \n",
       "748040        0  \n",
       "\n",
       "[748041 rows x 20000 columns]"
      ]
     },
     "execution_count": 65,
     "metadata": {},
     "output_type": "execute_result"
    }
   ],
   "source": [
    "words_df"
   ]
  },
  {
   "cell_type": "code",
   "execution_count": 66,
   "id": "a845bb7f-704d-43bc-b93d-d1b677a2c9f2",
   "metadata": {
    "scrolled": true,
    "tags": []
   },
   "outputs": [],
   "source": [
    "# merge the word DataFrame with the 'company_response_to_consumer' column\n",
    "df_with_words = words_df.merge(train['company_response_to_consumer'], left_index=True, right_index=True)"
   ]
  },
  {
   "cell_type": "code",
   "execution_count": 67,
   "id": "06d2dc6c-dc2b-40ad-8ae4-c5dcc0c1b730",
   "metadata": {},
   "outputs": [
    {
     "data": {
      "text/html": [
       "<div>\n",
       "<style scoped>\n",
       "    .dataframe tbody tr th:only-of-type {\n",
       "        vertical-align: middle;\n",
       "    }\n",
       "\n",
       "    .dataframe tbody tr th {\n",
       "        vertical-align: top;\n",
       "    }\n",
       "\n",
       "    .dataframe thead th {\n",
       "        text-align: right;\n",
       "    }\n",
       "</style>\n",
       "<table border=\"1\" class=\"dataframe\">\n",
       "  <thead>\n",
       "    <tr style=\"text-align: right;\">\n",
       "      <th></th>\n",
       "      <th>aa</th>\n",
       "      <th>aaa</th>\n",
       "      <th>aaccount</th>\n",
       "      <th>aadvantage</th>\n",
       "      <th>aafes</th>\n",
       "      <th>aag</th>\n",
       "      <th>aams</th>\n",
       "      <th>aan</th>\n",
       "      <th>aand</th>\n",
       "      <th>aargon</th>\n",
       "      <th>...</th>\n",
       "      <th>zip</th>\n",
       "      <th>zipcode</th>\n",
       "      <th>zombie</th>\n",
       "      <th>zone</th>\n",
       "      <th>zoned</th>\n",
       "      <th>zoning</th>\n",
       "      <th>zoom</th>\n",
       "      <th>zuntafi</th>\n",
       "      <th>zwicker</th>\n",
       "      <th>company_response_to_consumer</th>\n",
       "    </tr>\n",
       "  </thead>\n",
       "  <tbody>\n",
       "    <tr>\n",
       "      <th>0</th>\n",
       "      <td>0</td>\n",
       "      <td>0</td>\n",
       "      <td>0</td>\n",
       "      <td>0</td>\n",
       "      <td>0</td>\n",
       "      <td>0</td>\n",
       "      <td>0</td>\n",
       "      <td>0</td>\n",
       "      <td>0</td>\n",
       "      <td>0</td>\n",
       "      <td>...</td>\n",
       "      <td>0</td>\n",
       "      <td>0</td>\n",
       "      <td>0</td>\n",
       "      <td>0</td>\n",
       "      <td>0</td>\n",
       "      <td>0</td>\n",
       "      <td>0</td>\n",
       "      <td>0</td>\n",
       "      <td>0</td>\n",
       "      <td>Closed with explanation</td>\n",
       "    </tr>\n",
       "    <tr>\n",
       "      <th>1</th>\n",
       "      <td>0</td>\n",
       "      <td>0</td>\n",
       "      <td>0</td>\n",
       "      <td>0</td>\n",
       "      <td>0</td>\n",
       "      <td>0</td>\n",
       "      <td>0</td>\n",
       "      <td>0</td>\n",
       "      <td>0</td>\n",
       "      <td>0</td>\n",
       "      <td>...</td>\n",
       "      <td>0</td>\n",
       "      <td>0</td>\n",
       "      <td>0</td>\n",
       "      <td>0</td>\n",
       "      <td>0</td>\n",
       "      <td>0</td>\n",
       "      <td>0</td>\n",
       "      <td>0</td>\n",
       "      <td>0</td>\n",
       "      <td>Closed with non-monetary relief</td>\n",
       "    </tr>\n",
       "    <tr>\n",
       "      <th>4</th>\n",
       "      <td>0</td>\n",
       "      <td>0</td>\n",
       "      <td>0</td>\n",
       "      <td>0</td>\n",
       "      <td>0</td>\n",
       "      <td>0</td>\n",
       "      <td>0</td>\n",
       "      <td>0</td>\n",
       "      <td>0</td>\n",
       "      <td>0</td>\n",
       "      <td>...</td>\n",
       "      <td>0</td>\n",
       "      <td>0</td>\n",
       "      <td>0</td>\n",
       "      <td>0</td>\n",
       "      <td>0</td>\n",
       "      <td>0</td>\n",
       "      <td>0</td>\n",
       "      <td>0</td>\n",
       "      <td>0</td>\n",
       "      <td>Closed with non-monetary relief</td>\n",
       "    </tr>\n",
       "    <tr>\n",
       "      <th>5</th>\n",
       "      <td>0</td>\n",
       "      <td>0</td>\n",
       "      <td>0</td>\n",
       "      <td>0</td>\n",
       "      <td>0</td>\n",
       "      <td>0</td>\n",
       "      <td>0</td>\n",
       "      <td>0</td>\n",
       "      <td>0</td>\n",
       "      <td>0</td>\n",
       "      <td>...</td>\n",
       "      <td>0</td>\n",
       "      <td>0</td>\n",
       "      <td>0</td>\n",
       "      <td>0</td>\n",
       "      <td>0</td>\n",
       "      <td>0</td>\n",
       "      <td>0</td>\n",
       "      <td>0</td>\n",
       "      <td>0</td>\n",
       "      <td>Closed with explanation</td>\n",
       "    </tr>\n",
       "    <tr>\n",
       "      <th>11</th>\n",
       "      <td>0</td>\n",
       "      <td>0</td>\n",
       "      <td>0</td>\n",
       "      <td>0</td>\n",
       "      <td>0</td>\n",
       "      <td>0</td>\n",
       "      <td>0</td>\n",
       "      <td>0</td>\n",
       "      <td>0</td>\n",
       "      <td>0</td>\n",
       "      <td>...</td>\n",
       "      <td>0</td>\n",
       "      <td>0</td>\n",
       "      <td>0</td>\n",
       "      <td>0</td>\n",
       "      <td>0</td>\n",
       "      <td>0</td>\n",
       "      <td>0</td>\n",
       "      <td>0</td>\n",
       "      <td>0</td>\n",
       "      <td>Closed with non-monetary relief</td>\n",
       "    </tr>\n",
       "    <tr>\n",
       "      <th>...</th>\n",
       "      <td>...</td>\n",
       "      <td>...</td>\n",
       "      <td>...</td>\n",
       "      <td>...</td>\n",
       "      <td>...</td>\n",
       "      <td>...</td>\n",
       "      <td>...</td>\n",
       "      <td>...</td>\n",
       "      <td>...</td>\n",
       "      <td>...</td>\n",
       "      <td>...</td>\n",
       "      <td>...</td>\n",
       "      <td>...</td>\n",
       "      <td>...</td>\n",
       "      <td>...</td>\n",
       "      <td>...</td>\n",
       "      <td>...</td>\n",
       "      <td>...</td>\n",
       "      <td>...</td>\n",
       "      <td>...</td>\n",
       "      <td>...</td>\n",
       "    </tr>\n",
       "    <tr>\n",
       "      <th>748033</th>\n",
       "      <td>0</td>\n",
       "      <td>0</td>\n",
       "      <td>0</td>\n",
       "      <td>0</td>\n",
       "      <td>0</td>\n",
       "      <td>0</td>\n",
       "      <td>0</td>\n",
       "      <td>0</td>\n",
       "      <td>0</td>\n",
       "      <td>0</td>\n",
       "      <td>...</td>\n",
       "      <td>0</td>\n",
       "      <td>0</td>\n",
       "      <td>0</td>\n",
       "      <td>0</td>\n",
       "      <td>0</td>\n",
       "      <td>0</td>\n",
       "      <td>0</td>\n",
       "      <td>0</td>\n",
       "      <td>0</td>\n",
       "      <td>Closed with explanation</td>\n",
       "    </tr>\n",
       "    <tr>\n",
       "      <th>748034</th>\n",
       "      <td>0</td>\n",
       "      <td>0</td>\n",
       "      <td>0</td>\n",
       "      <td>0</td>\n",
       "      <td>0</td>\n",
       "      <td>0</td>\n",
       "      <td>0</td>\n",
       "      <td>0</td>\n",
       "      <td>0</td>\n",
       "      <td>0</td>\n",
       "      <td>...</td>\n",
       "      <td>0</td>\n",
       "      <td>0</td>\n",
       "      <td>0</td>\n",
       "      <td>0</td>\n",
       "      <td>0</td>\n",
       "      <td>0</td>\n",
       "      <td>0</td>\n",
       "      <td>0</td>\n",
       "      <td>0</td>\n",
       "      <td>Closed with explanation</td>\n",
       "    </tr>\n",
       "    <tr>\n",
       "      <th>748037</th>\n",
       "      <td>0</td>\n",
       "      <td>0</td>\n",
       "      <td>0</td>\n",
       "      <td>0</td>\n",
       "      <td>0</td>\n",
       "      <td>0</td>\n",
       "      <td>0</td>\n",
       "      <td>0</td>\n",
       "      <td>0</td>\n",
       "      <td>0</td>\n",
       "      <td>...</td>\n",
       "      <td>0</td>\n",
       "      <td>0</td>\n",
       "      <td>0</td>\n",
       "      <td>0</td>\n",
       "      <td>0</td>\n",
       "      <td>0</td>\n",
       "      <td>0</td>\n",
       "      <td>0</td>\n",
       "      <td>0</td>\n",
       "      <td>Closed with monetary relief</td>\n",
       "    </tr>\n",
       "    <tr>\n",
       "      <th>748038</th>\n",
       "      <td>0</td>\n",
       "      <td>0</td>\n",
       "      <td>0</td>\n",
       "      <td>0</td>\n",
       "      <td>0</td>\n",
       "      <td>0</td>\n",
       "      <td>0</td>\n",
       "      <td>0</td>\n",
       "      <td>0</td>\n",
       "      <td>0</td>\n",
       "      <td>...</td>\n",
       "      <td>0</td>\n",
       "      <td>0</td>\n",
       "      <td>0</td>\n",
       "      <td>0</td>\n",
       "      <td>0</td>\n",
       "      <td>0</td>\n",
       "      <td>0</td>\n",
       "      <td>0</td>\n",
       "      <td>0</td>\n",
       "      <td>Closed with explanation</td>\n",
       "    </tr>\n",
       "    <tr>\n",
       "      <th>748039</th>\n",
       "      <td>0</td>\n",
       "      <td>0</td>\n",
       "      <td>0</td>\n",
       "      <td>0</td>\n",
       "      <td>0</td>\n",
       "      <td>0</td>\n",
       "      <td>0</td>\n",
       "      <td>0</td>\n",
       "      <td>0</td>\n",
       "      <td>0</td>\n",
       "      <td>...</td>\n",
       "      <td>0</td>\n",
       "      <td>0</td>\n",
       "      <td>0</td>\n",
       "      <td>0</td>\n",
       "      <td>0</td>\n",
       "      <td>0</td>\n",
       "      <td>0</td>\n",
       "      <td>0</td>\n",
       "      <td>0</td>\n",
       "      <td>Closed with monetary relief</td>\n",
       "    </tr>\n",
       "  </tbody>\n",
       "</table>\n",
       "<p>449429 rows × 20001 columns</p>\n",
       "</div>"
      ],
      "text/plain": [
       "        aa  aaa  aaccount  aadvantage  aafes  aag  aams  aan  aand  aargon  \\\n",
       "0        0    0         0           0      0    0     0    0     0       0   \n",
       "1        0    0         0           0      0    0     0    0     0       0   \n",
       "4        0    0         0           0      0    0     0    0     0       0   \n",
       "5        0    0         0           0      0    0     0    0     0       0   \n",
       "11       0    0         0           0      0    0     0    0     0       0   \n",
       "...     ..  ...       ...         ...    ...  ...   ...  ...   ...     ...   \n",
       "748033   0    0         0           0      0    0     0    0     0       0   \n",
       "748034   0    0         0           0      0    0     0    0     0       0   \n",
       "748037   0    0         0           0      0    0     0    0     0       0   \n",
       "748038   0    0         0           0      0    0     0    0     0       0   \n",
       "748039   0    0         0           0      0    0     0    0     0       0   \n",
       "\n",
       "        ...  zip  zipcode  zombie  zone  zoned  zoning  zoom  zuntafi  \\\n",
       "0       ...    0        0       0     0      0       0     0        0   \n",
       "1       ...    0        0       0     0      0       0     0        0   \n",
       "4       ...    0        0       0     0      0       0     0        0   \n",
       "5       ...    0        0       0     0      0       0     0        0   \n",
       "11      ...    0        0       0     0      0       0     0        0   \n",
       "...     ...  ...      ...     ...   ...    ...     ...   ...      ...   \n",
       "748033  ...    0        0       0     0      0       0     0        0   \n",
       "748034  ...    0        0       0     0      0       0     0        0   \n",
       "748037  ...    0        0       0     0      0       0     0        0   \n",
       "748038  ...    0        0       0     0      0       0     0        0   \n",
       "748039  ...    0        0       0     0      0       0     0        0   \n",
       "\n",
       "        zwicker     company_response_to_consumer  \n",
       "0             0          Closed with explanation  \n",
       "1             0  Closed with non-monetary relief  \n",
       "4             0  Closed with non-monetary relief  \n",
       "5             0          Closed with explanation  \n",
       "11            0  Closed with non-monetary relief  \n",
       "...         ...                              ...  \n",
       "748033        0          Closed with explanation  \n",
       "748034        0          Closed with explanation  \n",
       "748037        0      Closed with monetary relief  \n",
       "748038        0          Closed with explanation  \n",
       "748039        0      Closed with monetary relief  \n",
       "\n",
       "[449429 rows x 20001 columns]"
      ]
     },
     "execution_count": 67,
     "metadata": {},
     "output_type": "execute_result"
    }
   ],
   "source": [
    "df_with_words"
   ]
  },
  {
   "cell_type": "code",
   "execution_count": null,
   "id": "240cacad-4477-4fea-9239-f990f2d80477",
   "metadata": {},
   "outputs": [],
   "source": [
    "# For each word, calculate the mean 'company_response_to_consumer'\n",
    "word_means = df_with_words.groupby('company_response_to_consumer').mean()"
   ]
  },
  {
   "cell_type": "code",
   "execution_count": null,
   "id": "6d9a48e6-fbe7-46a4-a2ca-dc4c666b3b45",
   "metadata": {},
   "outputs": [],
   "source": [
    "word_means"
   ]
  },
  {
   "cell_type": "code",
   "execution_count": null,
   "id": "a20b35bd-bd3d-4c4e-8e6c-c243ade2b3fe",
   "metadata": {},
   "outputs": [],
   "source": [
    "# Filter out rows (axis=0) where all values are zero\n",
    "word_means = word_means.loc[word_means.any(axis=1)]"
   ]
  },
  {
   "cell_type": "code",
   "execution_count": null,
   "id": "9f1fefd2-5d9d-41ba-a8ee-b5f26a17d59f",
   "metadata": {},
   "outputs": [],
   "source": [
    "# Filter out rows (axis=0) where all values are zero\n",
    "word_means"
   ]
  },
  {
   "cell_type": "code",
   "execution_count": null,
   "id": "4040d227-3ec5-4a4a-b529-121930df0d54",
   "metadata": {},
   "outputs": [],
   "source": [
    "# Filter out columns (axis=1) where all values are zero\n",
    "word_means_ones = word_means.loc[:, word_means.any(axis=0)]"
   ]
  },
  {
   "cell_type": "code",
   "execution_count": null,
   "id": "7d0620dd-128c-456a-9ed4-d5730b2345ac",
   "metadata": {},
   "outputs": [],
   "source": [
    "word_means_ones"
   ]
  },
  {
   "cell_type": "code",
   "execution_count": null,
   "id": "7eb1e2a4-185b-43c9-aa8d-908dd7c85e00",
   "metadata": {},
   "outputs": [],
   "source": [
    "word_means_ones_v2 = word_means.loc[:, (word_means == 1).any(axis=0)]"
   ]
  },
  {
   "cell_type": "code",
   "execution_count": null,
   "id": "07a83ac0-c9db-4e26-aacd-02c8238d84b3",
   "metadata": {},
   "outputs": [],
   "source": [
    "word_means_ones_v2"
   ]
  },
  {
   "cell_type": "markdown",
   "id": "4eda9502-76d8-4a2e-a0df-7089219e0a71",
   "metadata": {},
   "source": [
    "# Second approach to the above question. "
   ]
  },
  {
   "cell_type": "code",
   "execution_count": null,
   "id": "ae62aa9c-3f2f-4585-b922-34668787fd6f",
   "metadata": {},
   "outputs": [],
   "source": [
    "from sklearn.feature_extraction.text import CountVectorizer\n",
    "\n",
    "# Initialize a CountVectorizer\n",
    "vectorizer = CountVectorizer(max_features=20000)\n",
    "\n",
    "# Fit the vectorizer to the 'lemon' column and transform the column into a matrix\n",
    "word_matrix = vectorizer.fit_transform(train['lemon'])\n",
    "\n",
    "# Convert the sparse matrix to a DataFrame\n",
    "word_df = pd.DataFrame.sparse.from_spmatrix(word_matrix, columns=vectorizer.get_feature_names_out())\n",
    "\n",
    "# merge the word DataFrame with the 'company_response_to_consumer' column\n",
    "df_with_words = word_df.merge(train['company_response_to_consumer'], left_index=True, right_index=True)\n",
    "\n",
    "# For each response type, count the frequency of each word\n",
    "word_counts = df_with_words.groupby('company_response_to_consumer').sum()\n",
    "\n",
    "# Filter out columns (axis=1) where all values are zero\n",
    "word_counts_ones = word_counts.loc[:, word_counts.any(axis=0)]"
   ]
  },
  {
   "cell_type": "code",
   "execution_count": null,
   "id": "d787449e-803a-4c37-94ab-3c5a5ab28bb4",
   "metadata": {},
   "outputs": [],
   "source": [
    "word_counts_ones"
   ]
  },
  {
   "cell_type": "code",
   "execution_count": null,
   "id": "afd4e499-9208-42a8-9759-72605e8912e2",
   "metadata": {},
   "outputs": [],
   "source": [
    "#This will give you the 10 words that appear most frequently in narratives associated with the \"Closed with explanation\" response. \n",
    "word_counts_ones.loc['Closed with explanation'].nlargest(10)\n",
    "\n",
    "#This will give you the 10 words that appear most frequently in narratives associated with the \"Closed with explanation\" response. \n",
    "word_counts_ones.loc['Closed'].nlargest(10)\n",
    "\n",
    "#This will give you the 10 words that appear most frequently in narratives associated with the \"Closed with explanation\" response. \n",
    "word_counts_ones.loc['Closed with monetary relief'].nlargest(10)\n",
    "\n",
    "#This will give you the 10 words that appear most frequently in narratives associated with the \"Closed with explanation\" response. \n",
    "word_counts_ones.loc['Closed with non-monetary relief'].nlargest(10)\n",
    "\n",
    "#This will give you the 10 words that appear most frequently in narratives associated with the \"Closed with explanation\" response. \n",
    "word_counts_ones.loc['Untimely response'].nlargest(10)"
   ]
  },
  {
   "cell_type": "code",
   "execution_count": null,
   "id": "78c2fa4e-0a40-4b2b-ac37-0c90e62d14e4",
   "metadata": {},
   "outputs": [],
   "source": [
    "# Define the responses\n",
    "responses = ['Closed with explanation', 'Closed', 'Closed with monetary relief', 'Closed with non-monetary relief', 'Untimely response']\n",
    "\n",
    "# Initialize an empty DataFrame to store the results\n",
    "top_words_df = pd.DataFrame()\n",
    "\n",
    "# Loop over the responses\n",
    "for response in responses:\n",
    "    # Get the 10 words that appear most frequently in narratives associated with the current response\n",
    "    top_words = word_counts_ones.loc[response].nlargest(10)\n",
    "    \n",
    "    # Convert the Series to a DataFrame and transpose it\n",
    "    top_words_df_temp = pd.DataFrame(top_words).transpose()\n",
    "    \n",
    "    # Append the temporary DataFrame to the main DataFrame\n",
    "    top_words_df = pd.concat([top_words_df, top_words_df_temp])\n",
    "\n",
    "# Set the index of the DataFrame to the responses\n",
    "top_words_df.index = responses\n",
    "\n",
    "top_words_df\n"
   ]
  },
  {
   "cell_type": "code",
   "execution_count": null,
   "id": "40d6287b-af7d-43df-957b-88caefb08922",
   "metadata": {},
   "outputs": [],
   "source": [
    "# Get the unique response types\n",
    "response_types = df_with_words['company_response_to_consumer'].unique()\n",
    "\n",
    "# Initialize an empty dictionary to store the unique words for each response type\n",
    "unique_words = {}\n",
    "\n",
    "# For each response type\n",
    "for response in response_types:\n",
    "    # Get the words associated with this response type\n",
    "    words = word_counts_ones.loc[response]\n",
    "    \n",
    "    # Get the words that are unique to this response type\n",
    "    unique = words[~words.index.isin(np.concatenate([word_counts_ones.loc[other].index for other in response_types if other != response]))]\n",
    "    \n",
    "    # Add the unique words to the dictionary\n",
    "    unique_words[response] = unique.index.tolist()\n",
    "\n",
    "# Print the unique words for each response type\n",
    "for response, words in unique_words.items():\n",
    "    print(f'Unique words for \"{response}\" response:')\n",
    "    print(words)\n",
    "    print('\\n')\n"
   ]
  },
  {
   "cell_type": "code",
   "execution_count": null,
   "id": "2199a362-4724-47c6-9205-0cc80f618645",
   "metadata": {
    "tags": []
   },
   "outputs": [],
   "source": [
    "import matplotlib.pyplot as plt\n",
    "\n",
    "# Get the unique response types\n",
    "response_types = df_with_words['company_response_to_consumer'].unique()\n",
    "\n",
    "# For each response type\n",
    "for response in response_types:\n",
    "    # Get the top 10 words\n",
    "    top_words = word_counts_ones.loc[response].nlargest(10)\n",
    "    \n",
    "    # Create a bar plot\n",
    "    plt.figure(figsize=(10, 5))\n",
    "    plt.bar(top_words.index, top_words.values)\n",
    "    plt.title(f'Top 10 words for \"{response}\" response')\n",
    "    plt.xlabel('Words')\n",
    "    plt.ylabel('Frequency')\n",
    "    plt.show()"
   ]
  },
  {
   "cell_type": "markdown",
   "id": "e4cc4356-c07e-49fb-a226-cbdadeac81be",
   "metadata": {},
   "source": [
    "# Word analyze"
   ]
  },
  {
   "cell_type": "code",
   "execution_count": null,
   "id": "fb9f2db1-ef34-4cf4-a32d-1c396881793f",
   "metadata": {},
   "outputs": [],
   "source": []
  },
  {
   "cell_type": "code",
   "execution_count": null,
   "id": "15abc036-283c-4909-9f31-2200ee6a16af",
   "metadata": {},
   "outputs": [],
   "source": [
    "train"
   ]
  },
  {
   "cell_type": "code",
   "execution_count": null,
   "id": "49fc7ecd-e46a-429d-b74f-c7fc4f8c2544",
   "metadata": {},
   "outputs": [],
   "source": [
    "from pyspark.sql.functions import col, sum as spark_sum\n",
    "\n",
    "# Choose a word to analyze\n",
    "word = 'fraud'\n",
    "\n",
    "# Create a new column that indicates whether the narrative contains the word\n",
    "train_word = train.withColumn(word, when(array_contains(train['lemon'], word), 1).otherwise(0))\n",
    "\n",
    "# Calculate the frequency of each response when the word is present\n",
    "response_freq_when_word_present = train_word.filter(col(word) == 1).groupBy('company_response_to_consumer').count()\n",
    "\n",
    "# Calculate the frequency of each response when the word is not present\n",
    "response_freq_when_word_not_present = train_word.filter(col(word) == 0).groupBy('company_response_to_consumer').count()\n",
    "\n",
    "# Calculate the total number of rows when the word is present and when it is not\n",
    "total_when_word_present = train_word.filter(col(word) == 1).count()\n",
    "total_when_word_not_present = train_word.filter(col(word) == 0).count()\n",
    "\n",
    "# Convert the frequency counts to proportions\n",
    "response_proportions_when_word_present = response_freq_when_word_present.withColumn('proportion', col('count') / total_when_word_present)\n",
    "response_proportions_when_word_not_present = response_freq_when_word_not_present.withColumn('proportion', col('count') / total_when_word_not_present)\n",
    "\n",
    "# Display the results\n",
    "response_proportions_when_word_present.show()\n",
    "response_proportions_when_word_not_present.show()\n"
   ]
  },
  {
   "cell_type": "markdown",
   "id": "74e9a389-9d8e-41a6-9d72-134502ba01fd",
   "metadata": {},
   "source": [
    "# Is there a relationship/bias for servicemember tags in relation to company response over the average person?"
   ]
  },
  {
   "cell_type": "code",
   "execution_count": null,
   "id": "d283081d-59a6-43fb-bafa-e53de140c5d4",
   "metadata": {
    "tags": []
   },
   "outputs": [],
   "source": [
    "import pandas as pd\n",
    "from scipy.stats import chi2_contingency"
   ]
  },
  {
   "cell_type": "markdown",
   "id": "eedace40-6d89-4df9-b9b0-d580639cfa51",
   "metadata": {},
   "source": [
    "The p-value is a measure of the probability that an observed difference could have occurred just by random chance. The lower the p-value, the greater the statistical evidence you have to reject the null hypothesis (i.e., no effect or no difference).\n",
    "\n",
    "A p-value of 0.0 (or an extremely small number close to zero) is telling you that the likelihood of the observed relationship (in this case, between 'tags' and 'company_response_to_consumer') occurring by chance is extremely low.\n",
    "\n",
    "In other words, a p-value of 0.0 would provide strong evidence to reject the null hypothesis and conclude that there is a significant relationship between the 'tags' and 'company_response_to_consumer'."
   ]
  },
  {
   "cell_type": "code",
   "execution_count": null,
   "id": "f6fcd4c3-139b-41ea-9296-7f4433fa9401",
   "metadata": {},
   "outputs": [],
   "source": [
    "# Create a cross-tabulation of the two variables\n",
    "crosstab = pd.crosstab(train['tags'], train['company_response_to_consumer'],normalize='index')\n",
    "crosstab"
   ]
  },
  {
   "cell_type": "code",
   "execution_count": null,
   "id": "4c46b259-3a0b-4b76-9d6c-2990e87eb259",
   "metadata": {},
   "outputs": [],
   "source": [
    "# Create a cross-tabulation of the two variables\n",
    "crosstab = pd.crosstab(train['tags'], train['company_response_to_consumer'])\n",
    "crosstab"
   ]
  },
  {
   "cell_type": "code",
   "execution_count": null,
   "id": "e268a718-395d-41fd-ae1d-abc377911c54",
   "metadata": {},
   "outputs": [],
   "source": [
    "# Perform the chi-square test\n",
    "chi2, p, dof, expected = chi2_contingency(crosstab)\n",
    "\n",
    "# Print the p-value\n",
    "print('p-value:', p)"
   ]
  },
  {
   "cell_type": "code",
   "execution_count": null,
   "id": "5cd33e1b-6f21-4ca4-846d-56c5666af984",
   "metadata": {},
   "outputs": [],
   "source": []
  },
  {
   "cell_type": "code",
   "execution_count": null,
   "id": "75979aaa-e6e3-4fe7-96e0-3203a4e4c762",
   "metadata": {},
   "outputs": [],
   "source": [
    "# Create a cross-tabulation of the two variables\n",
    "crosstab_ser_meb = pd.crosstab(train[train['tags'].isin(['Average Person', 'Servicemember'])]['tags'], train['company_response_to_consumer'])\n",
    "crosstab_ser_meb"
   ]
  },
  {
   "cell_type": "code",
   "execution_count": null,
   "id": "ff951b1c-4f06-4e4f-96af-f9d804b3e8ad",
   "metadata": {},
   "outputs": [],
   "source": [
    "# Perform the chi-square test\n",
    "chi2, p, dof, expected = chi2_contingency(crosstab_ser_meb)\n",
    "\n",
    "# Print the p-value\n",
    "print('p-value:', p)"
   ]
  },
  {
   "cell_type": "code",
   "execution_count": null,
   "id": "7080aa2c-dc20-497f-b84a-7eaedbc2d6bc",
   "metadata": {},
   "outputs": [],
   "source": [
    "# Create a cross-tabulation of the two variables\n",
    "crosstab_ser_meb = pd.crosstab(train[train['tags'].isin(['Average Person', 'Servicemember'])]['tags'], train['company_response_to_consumer'], normalize='index')\n",
    "crosstab_ser_meb"
   ]
  },
  {
   "cell_type": "code",
   "execution_count": null,
   "id": "0473ba2b-bd86-45a4-a3bb-d03fa8106fe7",
   "metadata": {},
   "outputs": [],
   "source": [
    "# Perform the chi-square test\n",
    "chi2, p, dof, expected = chi2_contingency(crosstab_ser_meb)\n",
    "\n",
    "# Print the p-value\n",
    "print('p-value:', p)"
   ]
  },
  {
   "cell_type": "code",
   "execution_count": null,
   "id": "10e64600-652e-4684-87c8-eb5da758b9df",
   "metadata": {
    "tags": []
   },
   "outputs": [],
   "source": [
    "### Create a cross-tabulation of the two variables\n",
    "crosstab_older_ame = pd.crosstab(train[train['tags'].isin(['Average Person', 'Older American'])]['tags'], train['company_response_to_consumer'], normalize='index')\n",
    "crosstab_older_ame"
   ]
  },
  {
   "cell_type": "code",
   "execution_count": null,
   "id": "f61feb6e-60d1-4b00-93dd-a58a5aae7f3f",
   "metadata": {},
   "outputs": [],
   "source": [
    "# Perform the chi-square test\n",
    "chi2, p, dof, expected = chi2_contingency(crosstab_older_ame)\n",
    "\n",
    "# Print the p-value\n",
    "print('p-value:', p)"
   ]
  },
  {
   "cell_type": "code",
   "execution_count": null,
   "id": "af3aedd4-5a87-4d71-8759-1b4ba09de965",
   "metadata": {},
   "outputs": [],
   "source": [
    "# Create a cross-tabulation of the two variables\n",
    "crosstab_oas = pd.crosstab(train[train['tags'].isin(['Average Person', 'Older American, Servicemember'])]['tags'], train['company_response_to_consumer'], normalize='index')\n",
    "crosstab_oas"
   ]
  },
  {
   "cell_type": "code",
   "execution_count": null,
   "id": "f2ca056e-7af2-42d5-b07c-9dc4fdc2b3c3",
   "metadata": {},
   "outputs": [],
   "source": [
    "# Perform the chi-square test\n",
    "chi2, p, dof, expected = chi2_contingency(crosstab_oas)\n",
    "\n",
    "# Print the p-value\n",
    "print('p-value:', p)"
   ]
  },
  {
   "cell_type": "markdown",
   "id": "1ea99a08-e28b-4168-b721-a482c89d37e6",
   "metadata": {},
   "source": [
    "the two variables are 'tags' and 'company_response_to_consumer'. The null hypothesis for this test is that there is no association between these two variables, meaning that the distribution of 'company_response_to_consumer' is the same for each category of 'tags'.\n",
    "\n"
   ]
  },
  {
   "cell_type": "code",
   "execution_count": null,
   "id": "aa39464c-5ea3-4baf-8973-9ec389b42257",
   "metadata": {},
   "outputs": [],
   "source": [
    "import seaborn as sns\n",
    "import matplotlib.pyplot as plt\n",
    "\n",
    "# Create a cross-tabulation of the two variables\n",
    "crosstab = pd.crosstab(train['tags'], train['company_response_to_consumer'])\n",
    "\n",
    "# Create a heatmap\n",
    "plt.figure(figsize=(10, 7))\n",
    "sns.heatmap(crosstab, annot=True, fmt='d', cmap='YlGnBu')\n",
    "\n",
    "plt.title('Heatmap of Tags vs Company Response')\n",
    "plt.xlabel('Company Response to Consumer')\n",
    "plt.ylabel('Tags')\n",
    "plt.show()\n"
   ]
  },
  {
   "cell_type": "code",
   "execution_count": null,
   "id": "25b04a01-36b9-4158-aea2-871273939ee8",
   "metadata": {},
   "outputs": [],
   "source": [
    "from nltk.sentiment import SentimentIntensityAnalyzer\n",
    "\n",
    "# Initialize the sentiment intensity analyzer\n",
    "sia = SentimentIntensityAnalyzer()\n",
    "\n",
    "# # Replace None with '' (empty string)\n",
    "# df_2['narrative'] = df_2['narrative'].fillna('')\n",
    "\n",
    "# Apply the sentiment intensity analyzer to the 'narrative' column\n",
    "train['sentiment'] = train['lemon'].apply(lambda complaint: sia.polarity_scores(complaint))\n",
    "\n",
    "# Now each complaint has a sentiment score\n"
   ]
  },
  {
   "cell_type": "code",
   "execution_count": null,
   "id": "9e1105b3-ac14-4c56-9e41-4b98636caf91",
   "metadata": {},
   "outputs": [],
   "source": [
    "train['sentiment']"
   ]
  },
  {
   "cell_type": "markdown",
   "id": "71ebf920-aaaa-416b-bd97-54164f89d6dc",
   "metadata": {},
   "source": [
    "# Do some companies proportionally give better or worse responses (relief/no relief)?"
   ]
  },
  {
   "cell_type": "code",
   "execution_count": null,
   "id": "4e804b84-0c21-426d-addf-c05d340c11fa",
   "metadata": {},
   "outputs": [],
   "source": [
    "df.company_public_response.value_counts()"
   ]
  },
  {
   "cell_type": "code",
   "execution_count": null,
   "id": "a4018401-0b49-4f8d-8f49-a3bea40f4aa1",
   "metadata": {},
   "outputs": [],
   "source": [
    "# Group by company and response type, and count the number of each response type for each company\n",
    "response_counts = train.groupby(['company_name', 'company_response_to_consumer']).size().unstack(fill_value=0)"
   ]
  },
  {
   "cell_type": "code",
   "execution_count": null,
   "id": "501fb007-81b2-4a2a-ac5a-e95bc7292ecc",
   "metadata": {},
   "outputs": [],
   "source": [
    "response_counts"
   ]
  },
  {
   "cell_type": "code",
   "execution_count": null,
   "id": "8e47094d-56d1-49fd-a137-611adf2a2f01",
   "metadata": {},
   "outputs": [],
   "source": [
    "# Calculate the total number of responses for each company\n",
    "total_responses = response_counts.sum(axis=1)"
   ]
  },
  {
   "cell_type": "code",
   "execution_count": null,
   "id": "0c2768a9-3944-4062-9180-bd7c912b953d",
   "metadata": {},
   "outputs": [],
   "source": [
    "total_responses"
   ]
  },
  {
   "cell_type": "code",
   "execution_count": null,
   "id": "d610e546-e4da-4f75-8407-3baad1516f0f",
   "metadata": {},
   "outputs": [],
   "source": [
    "# Divide the counts by the total number of responses to get the proportion of each response type for each company\n",
    "response_proportions = response_counts.divide(total_responses, axis=0)"
   ]
  },
  {
   "cell_type": "code",
   "execution_count": null,
   "id": "12aa4ffe-7504-47b9-9542-8fdcc21fd76c",
   "metadata": {},
   "outputs": [],
   "source": [
    "response_proportions"
   ]
  },
  {
   "cell_type": "code",
   "execution_count": null,
   "id": "fb38887b-3999-42e0-a162-56ebc9dfa6a4",
   "metadata": {},
   "outputs": [],
   "source": [
    "print(train['company_response_to_consumer'].unique())"
   ]
  },
  {
   "cell_type": "code",
   "execution_count": null,
   "id": "fa1dc708-cf2c-41e2-aafa-48eac55321d1",
   "metadata": {},
   "outputs": [],
   "source": [
    "response_proportions['Closed with explanation'].nlargest(10)"
   ]
  },
  {
   "cell_type": "code",
   "execution_count": null,
   "id": "5e90c959-a392-4b92-af2c-c3a1264353f5",
   "metadata": {},
   "outputs": [],
   "source": [
    "response_proportions['Closed with explanation'].nlargest(10)"
   ]
  },
  {
   "cell_type": "code",
   "execution_count": null,
   "id": "42d7687b-f9ee-4e14-83d2-98e9a144363f",
   "metadata": {},
   "outputs": [],
   "source": [
    "response_proportions['Closed with non-monetary relief'].nlargest(10)"
   ]
  },
  {
   "cell_type": "code",
   "execution_count": null,
   "id": "dc1cbbdd-4062-4e20-809e-22fccd622c57",
   "metadata": {},
   "outputs": [],
   "source": [
    "# Filter companies with more than 100 complaints\n",
    "filtered_response_counts = response_counts[total_responses > 100]"
   ]
  },
  {
   "cell_type": "code",
   "execution_count": null,
   "id": "5e7d5a48-49da-4733-9465-5aef2264d950",
   "metadata": {},
   "outputs": [],
   "source": [
    "filtered_response_counts"
   ]
  },
  {
   "cell_type": "code",
   "execution_count": null,
   "id": "133206fb-57dd-4301-a212-f6c92349fa5a",
   "metadata": {},
   "outputs": [],
   "source": [
    "# Recalculate the proportions\n",
    "filtered_response_proportions = filtered_response_counts.divide(total_responses, axis=0)"
   ]
  },
  {
   "cell_type": "code",
   "execution_count": null,
   "id": "68ed3c04-6994-4495-b351-0018d6ffb3f1",
   "metadata": {},
   "outputs": [],
   "source": [
    "filtered_response_proportions.head(15)"
   ]
  },
  {
   "cell_type": "code",
   "execution_count": null,
   "id": "2e95b33c-a5c4-48ba-8e95-08c3f0b63b46",
   "metadata": {},
   "outputs": [],
   "source": [
    "# Get the top 10 companies for 'Closed with explanation'\n",
    "filtered_response_proportions['Closed with explanation'].nlargest(10)"
   ]
  },
  {
   "cell_type": "code",
   "execution_count": null,
   "id": "bd6d5221-0905-4b86-b82f-b1730e892a75",
   "metadata": {},
   "outputs": [],
   "source": [
    "# Filter companies with more than 100 complaints\n",
    "filtered_response_counts = response_counts[total_responses > 100]"
   ]
  },
  {
   "cell_type": "code",
   "execution_count": null,
   "id": "9c287086-be3b-4b75-9ed6-6462d8fa61a4",
   "metadata": {},
   "outputs": [],
   "source": [
    "filtered_response_counts"
   ]
  },
  {
   "cell_type": "code",
   "execution_count": null,
   "id": "57935ed9-117d-4ed7-a8f1-f91136eff728",
   "metadata": {},
   "outputs": [],
   "source": [
    "# Also filter total_responses\n",
    "filtered_total_responses = total_responses[total_responses > 100]"
   ]
  },
  {
   "cell_type": "code",
   "execution_count": null,
   "id": "c21100f6-c6f0-4773-a8d7-a7805fa04379",
   "metadata": {},
   "outputs": [],
   "source": [
    "filtered_total_responses['The Law Offices of Mitchell D. Bluhm & Associates']"
   ]
  },
  {
   "cell_type": "code",
   "execution_count": null,
   "id": "a5c836be-4e76-463f-8c42-02b12e7f3aae",
   "metadata": {},
   "outputs": [],
   "source": [
    "# Recalculate the proportions\n",
    "filtered_response_proportions = filtered_response_counts.divide(filtered_total_responses, axis=0)"
   ]
  },
  {
   "cell_type": "code",
   "execution_count": null,
   "id": "5f1efcc4-0f04-4e0b-b3f7-8c212617ff4f",
   "metadata": {},
   "outputs": [],
   "source": [
    "filtered_response_proportions"
   ]
  },
  {
   "cell_type": "code",
   "execution_count": null,
   "id": "a761a5f6-e4e4-4237-9412-b5bc6bb37a18",
   "metadata": {},
   "outputs": [],
   "source": [
    "# Get the top 10 companies for 'Closed with explanation'\n",
    "filtered_response_proportions['Closed with explanation'].nlargest(10)"
   ]
  },
  {
   "cell_type": "code",
   "execution_count": null,
   "id": "f5a4056e-bcb0-4043-99ac-18b1d471f6c5",
   "metadata": {},
   "outputs": [],
   "source": [
    "# Get the top 10 companies for 'Closed with monetary relief'\n",
    "filtered_response_proportions['Closed with monetary relief'].nlargest(10)"
   ]
  },
  {
   "cell_type": "code",
   "execution_count": null,
   "id": "7f08b45f-dc44-4e77-9fcc-eaf64a37740e",
   "metadata": {},
   "outputs": [],
   "source": [
    "# Filter the response_proportions DataFrame for 'Blackhawk Network Holdings Inc.'\n",
    "blackhawk_responses = response_proportions.loc['Blackhawk Network Holdings Inc.']"
   ]
  },
  {
   "cell_type": "code",
   "execution_count": null,
   "id": "24681c20-0f82-4d73-88de-210abad3aeb0",
   "metadata": {},
   "outputs": [],
   "source": [
    "blackhawk_responses"
   ]
  },
  {
   "cell_type": "code",
   "execution_count": null,
   "id": "618601b4-9e6d-4592-b0a7-f960402677b3",
   "metadata": {},
   "outputs": [],
   "source": [
    "# Filter the response_counts DataFrame for 'Blackhawk Network Holdings Inc.'\n",
    "blackhawk_counts = response_counts.loc['Blackhawk Network Holdings Inc.']\n",
    "blackhawk_counts"
   ]
  },
  {
   "cell_type": "code",
   "execution_count": null,
   "id": "c55d5e5d-2e37-43a2-9926-756ec14386a4",
   "metadata": {},
   "outputs": [],
   "source": [
    "# Filter the DataFrame for 'Blackhawk Network Holdings Inc.'\n",
    "blackhawk_df = train[train['company_name'] == 'Blackhawk Network Holdings Inc.']\n",
    "\n",
    "# Group by 'company_public_response' and count the number of complaints in each group\n",
    "blackhawk_comments = blackhawk_df.groupby(df['company_public_response']).size()\n",
    "blackhawk_comments"
   ]
  },
  {
   "cell_type": "code",
   "execution_count": null,
   "id": "c111d106-a647-401b-8b21-a33a33522eb0",
   "metadata": {},
   "outputs": [],
   "source": [
    "# Add 'company_public_response' to the train DataFrame\n",
    "train['company_public_response'] = df['company_public_response']"
   ]
  },
  {
   "cell_type": "code",
   "execution_count": null,
   "id": "a60c67b3-6ab2-4877-97a0-c09f3058877d",
   "metadata": {},
   "outputs": [],
   "source": [
    "# Group by 'company_public_response' and get all complaints in each group\n",
    "blackhawk_comments = blackhawk_df.groupby('company_public_response')['lemon'].apply(list)\n",
    "\n",
    "blackhawk_comments"
   ]
  },
  {
   "cell_type": "code",
   "execution_count": null,
   "id": "13a19e84-486c-48e0-87a4-3bee8983effa",
   "metadata": {},
   "outputs": [],
   "source": [
    "# Group by 'company_public_response' and get all complaints in each group\n",
    "blackhawk_comments = blackhawk_df.groupby('company_response_to_consumer')['lemon'].apply(list)\n",
    "\n",
    "# Print the result\n",
    "print(blackhawk_comments)\n"
   ]
  },
  {
   "cell_type": "code",
   "execution_count": null,
   "id": "5b389e03-c231-4bae-a744-52d935402fb9",
   "metadata": {},
   "outputs": [],
   "source": [
    "# Filter the DataFrame for 'Blackhawk Network Holdings Inc.'\n",
    "blackhawk_df = df[df['company_name'] == 'Blackhawk Network Holdings Inc.']\n",
    "\n",
    "# Filter the DataFrame for rows where 'company_public_response' is not null\n",
    "blackhawk_responses = blackhawk_df[blackhawk_df['company_response_to_consumer'].notna()]\n",
    "\n",
    "# Print the result\n",
    "print(blackhawk_responses)\n"
   ]
  },
  {
   "cell_type": "code",
   "execution_count": null,
   "id": "28d8d05f-0673-4f32-9267-ed11b79988ff",
   "metadata": {},
   "outputs": [],
   "source": []
  },
  {
   "cell_type": "code",
   "execution_count": null,
   "id": "cddbd9ec-f328-4e34-a9d2-497e9f4ec2ce",
   "metadata": {},
   "outputs": [],
   "source": [
    "# Get the top 10 companies for 'Closed with non-monetary relief'\n",
    "filtered_response_proportions['Closed with non-monetary relief'].nlargest(10)"
   ]
  },
  {
   "cell_type": "code",
   "execution_count": null,
   "id": "d97379df-0e60-4abe-bdff-bce2448556af",
   "metadata": {},
   "outputs": [],
   "source": []
  },
  {
   "cell_type": "code",
   "execution_count": null,
   "id": "735209b6-b29d-4cdb-a5e1-dec1a5cf6224",
   "metadata": {},
   "outputs": [],
   "source": [
    "# Define a function that categorizes each response\n",
    "def categorize_response(response):\n",
    "    if response in ['Closed with monetary relief', 'Closed with non-monetary relief']:\n",
    "        return 'relief'\n",
    "    else:\n",
    "        return 'no relief'\n",
    "\n",
    "# Apply the function to the 'company_response_to_consumer' column\n",
    "train['response_category'] = train['company_response_to_consumer'].apply(categorize_response)"
   ]
  },
  {
   "cell_type": "code",
   "execution_count": null,
   "id": "c0f61b57-1f06-4719-9e08-3920b368f1a7",
   "metadata": {},
   "outputs": [],
   "source": [
    "# Group by company and response category, and count the number of each category for each company\n",
    "category_counts = train.groupby(['company_name', 'response_category']).size().unstack(fill_value=0)"
   ]
  },
  {
   "cell_type": "code",
   "execution_count": null,
   "id": "a5591147-8a52-4419-a969-a7c51cadb395",
   "metadata": {},
   "outputs": [],
   "source": [
    "category_counts"
   ]
  },
  {
   "cell_type": "code",
   "execution_count": null,
   "id": "f15a4a5b-b4cf-4959-8e8e-93d6e52d33c1",
   "metadata": {},
   "outputs": [],
   "source": [
    "# Calculate the total number of responses for each company\n",
    "total_responses = category_counts.sum(axis=1)"
   ]
  },
  {
   "cell_type": "code",
   "execution_count": null,
   "id": "0b96560b-540a-4f1e-a86e-09ad4ef1b3e1",
   "metadata": {},
   "outputs": [],
   "source": [
    "total_responses"
   ]
  },
  {
   "cell_type": "code",
   "execution_count": null,
   "id": "a52002e5-ed40-42ac-993b-e8952da7d52e",
   "metadata": {},
   "outputs": [],
   "source": [
    "# Divide the counts by the total number of responses to get the proportion of each category for each company\n",
    "category_proportions = category_counts.divide(total_responses, axis=0)\n",
    "\n",
    "# Now, category_proportions is a DataFrame where each row corresponds to a company and each column corresponds to a response category.\n",
    "# The values are the proportion of each category for each company."
   ]
  },
  {
   "cell_type": "code",
   "execution_count": null,
   "id": "2ee5b123-2aec-4bba-ab73-b3d76dd6b669",
   "metadata": {},
   "outputs": [],
   "source": [
    "category_proportions['relief'].nlargest(10)\n"
   ]
  },
  {
   "cell_type": "code",
   "execution_count": null,
   "id": "495e5f47-0cfc-49b7-b286-6cbb6295b623",
   "metadata": {},
   "outputs": [],
   "source": [
    "# Create a cross-tabulation of the two variables\n",
    "crosstab_oas = pd.crosstab(train[train['tags'].isin(['Average Person', 'Older American, Servicemember'])]['tags'], train['company_response_to_consumer'], normalize='index')\n",
    "crosstab_oas"
   ]
  },
  {
   "cell_type": "markdown",
   "id": "3991c734-2ea1-4937-91a5-18749c846725",
   "metadata": {},
   "source": [
    "# Another way of exploring specific companies that leave comments"
   ]
  },
  {
   "cell_type": "code",
   "execution_count": null,
   "id": "f2029f44-426c-480b-83bc-c530bb75ab9a",
   "metadata": {},
   "outputs": [],
   "source": [
    "sample_df = train.sample(frac=0.1)"
   ]
  },
  {
   "cell_type": "code",
   "execution_count": null,
   "id": "406d4876-8d99-443e-8a49-13a370be0e68",
   "metadata": {},
   "outputs": [],
   "source": [
    "# List of companies you're interested in\n",
    "companies = ['Blackhawk Network Holdings Inc.', 'Empowerment Ventures, LLC', 'Comerica', \n",
    "             'AMERISAVE MORTGAGE CORPORATION', 'FIRST NATIONAL BANK OF PENNSYLVANIA', \n",
    "             'MUFG AMERICAS HOLDINGS CORPORATION', 'WEBSTER BANK, NATIONAL ASSOCIATION', \n",
    "             'BANK OF AMERICA, NATIONAL ASSOCIATION', 'CHECK INTO CASH INC.', \n",
    "             'REGIONS FINANCIAL CORPORATION']\n",
    "\n",
    "# Filter the DataFrame\n",
    "filtered_df = train[train['company_name'].isin(companies) & train['company_response_to_consumer'].notna()]"
   ]
  },
  {
   "cell_type": "code",
   "execution_count": null,
   "id": "6ce40846-61a0-446b-8633-c9758183874d",
   "metadata": {},
   "outputs": [],
   "source": [
    "from sklearn.feature_extraction.text import CountVectorizer\n",
    "\n",
    "# Initialize a CountVectorizer\n",
    "vectorizer = CountVectorizer(max_features=1000, stop_words='english')"
   ]
  },
  {
   "cell_type": "code",
   "execution_count": null,
   "id": "ea8196c4-71a7-49e9-b355-5dda99c13a3d",
   "metadata": {},
   "outputs": [],
   "source": [
    "# Fit the vectorizer to the 'company_public_response' column and transform the column into a matrix\n",
    "word_matrix = vectorizer.fit_transform(filtered_df['company_response_to_consumer'])"
   ]
  },
  {
   "cell_type": "code",
   "execution_count": null,
   "id": "27d96801-93f6-4bad-bc4c-8ddadfed298a",
   "metadata": {},
   "outputs": [],
   "source": [
    "# Convert the matrix into a DataFrame\n",
    "word_df = pd.DataFrame(word_matrix.toarray(), columns=vectorizer.get_feature_names())"
   ]
  },
  {
   "cell_type": "code",
   "execution_count": null,
   "id": "591e6656-b20e-42f2-b133-4f0c00635125",
   "metadata": {},
   "outputs": [],
   "source": [
    "# Add the 'company_name' column to the word DataFrame\n",
    "word_df['company_name'] = filtered_df['company_name'].values"
   ]
  },
  {
   "cell_type": "code",
   "execution_count": null,
   "id": "d98cf016-fdb3-4f6d-bbcb-f90d3024e5c7",
   "metadata": {},
   "outputs": [],
   "source": [
    "# Group by company and calculate the mean of each word column\n",
    "word_means = word_df.groupby('company_name').mean()"
   ]
  },
  {
   "cell_type": "code",
   "execution_count": null,
   "id": "b992b6d0-1336-4f20-bc0a-c7af60705674",
   "metadata": {},
   "outputs": [],
   "source": [
    "# Get the top 10 words for each company\n",
    "top_words = word_means.T.apply(lambda x: x.nlargest(10).index.tolist())"
   ]
  },
  {
   "cell_type": "code",
   "execution_count": null,
   "id": "28990029-3827-437f-92cf-0f234c0c24a7",
   "metadata": {},
   "outputs": [],
   "source": [
    "top_words"
   ]
  },
  {
   "cell_type": "code",
   "execution_count": null,
   "id": "98a0a422-bb41-49ed-9699-219a47fc026f",
   "metadata": {},
   "outputs": [],
   "source": [
    "sample_df = train.sample(frac=0.1)"
   ]
  },
  {
   "cell_type": "code",
   "execution_count": null,
   "id": "a15b9d0c-bfdd-4c5f-80d7-0c920c551ec4",
   "metadata": {},
   "outputs": [],
   "source": [
    "# List of companies you're interested in\n",
    "companies = ['Blackhawk Network Holdings Inc.', 'Empowerment Ventures, LLC', 'Comerica', \n",
    "             'AMERISAVE MORTGAGE CORPORATION', 'FIRST NATIONAL BANK OF PENNSYLVANIA', \n",
    "             'MUFG AMERICAS HOLDINGS CORPORATION', 'WEBSTER BANK, NATIONAL ASSOCIATION', \n",
    "             'BANK OF AMERICA, NATIONAL ASSOCIATION', 'CHECK INTO CASH INC.', \n",
    "             'REGIONS FINANCIAL CORPORATION']\n",
    "\n",
    "# Filter the DataFrame\n",
    "filtered_df_2 = train[train['company_name'].isin(companies) & train['lemon'].notna()]"
   ]
  },
  {
   "cell_type": "code",
   "execution_count": null,
   "id": "30fd3d86-b88d-43b4-b69f-e6f6d0926ff2",
   "metadata": {},
   "outputs": [],
   "source": [
    "from sklearn.feature_extraction.text import CountVectorizer\n",
    "\n",
    "# Initialize a CountVectorizer\n",
    "vectorizer_2 = CountVectorizer(max_features=1000, stop_words='english')"
   ]
  },
  {
   "cell_type": "code",
   "execution_count": null,
   "id": "5bf80648-7c02-41d8-bb63-c36d88b19e7c",
   "metadata": {},
   "outputs": [],
   "source": [
    "# Fit the vectorizer to the 'lemon' column and transform the column into a matrix\n",
    "word_matrix_2 = vectorizer.fit_transform(filtered_df_2['lemon'])"
   ]
  },
  {
   "cell_type": "code",
   "execution_count": null,
   "id": "8e38648d-61df-4f59-a33f-123a8a2ee83d",
   "metadata": {},
   "outputs": [],
   "source": [
    "# Convert the matrix into a DataFrame\n",
    "word_df_2 = pd.DataFrame(word_matrix_2.toarray(), columns=vectorizer.get_feature_names())"
   ]
  },
  {
   "cell_type": "code",
   "execution_count": null,
   "id": "3e695735-c1fa-44bb-a12f-ba2f7f2cf1d7",
   "metadata": {},
   "outputs": [],
   "source": [
    "# Add the 'company_name' column to the word DataFrame\n",
    "word_df_2['company_name'] = filtered_df_2['company_name'].values"
   ]
  },
  {
   "cell_type": "code",
   "execution_count": null,
   "id": "4d8428a8-eedb-4813-8e37-257909f3ac88",
   "metadata": {},
   "outputs": [],
   "source": [
    "# Group by company and calculate the mean of each word column\n",
    "word_means_2 = word_df_2.groupby('company_name').mean()"
   ]
  },
  {
   "cell_type": "code",
   "execution_count": null,
   "id": "014633e8-984a-49d9-b032-94cfb418c60b",
   "metadata": {},
   "outputs": [],
   "source": [
    "# Get the top 10 words for each company\n",
    "top_words_2 = word_means_2.T.apply(lambda x: x.nlargest(10).index.tolist())\n"
   ]
  },
  {
   "cell_type": "code",
   "execution_count": null,
   "id": "4edb0501-a539-4181-841d-01dce801a2d1",
   "metadata": {},
   "outputs": [],
   "source": [
    "top_words_2"
   ]
  },
  {
   "cell_type": "code",
   "execution_count": null,
   "id": "3c28be27-d459-4f8e-aa9a-aa4dde0d3a62",
   "metadata": {},
   "outputs": [],
   "source": []
  }
 ],
 "metadata": {
  "kernelspec": {
   "display_name": "Python 3 (ipykernel)",
   "language": "python",
   "name": "python3"
  },
  "language_info": {
   "codemirror_mode": {
    "name": "ipython",
    "version": 3
   },
   "file_extension": ".py",
   "mimetype": "text/x-python",
   "name": "python",
   "nbconvert_exporter": "python",
   "pygments_lexer": "ipython3",
   "version": "3.9.13"
  }
 },
 "nbformat": 4,
 "nbformat_minor": 5
}
