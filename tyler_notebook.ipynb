{
 "cells": [
  {
   "cell_type": "code",
   "execution_count": 1,
   "metadata": {},
   "outputs": [
    {
     "name": "stdout",
     "output_type": "stream",
     "text": [
      "imports loaded successfully, awaiting commands...\n"
     ]
    }
   ],
   "source": [
    "# data manipulation\n",
    "import pandas as pd\n",
    "import numpy as np\n",
    "import itertools\n",
    "\n",
    "# explore\n",
    "import matplotlib.pyplot as plt\n",
    "import seaborn as sns\n",
    "from scipy import stats\n",
    "\n",
    "# nlp\n",
    "import unicodedata\n",
    "import re\n",
    "import nltk\n",
    "from wordcloud import WordCloud\n",
    "from nltk.corpus import stopwords\n",
    "import nltk.sentiment\n",
    "from sklearn.feature_extraction.text import CountVectorizer\n",
    "from sklearn.feature_extraction.text import TfidfVectorizer\n",
    "\n",
    "# modeling\n",
    "from sklearn.tree import DecisionTreeClassifier\n",
    "from sklearn.ensemble import RandomForestClassifier\n",
    "from sklearn.neighbors import KNeighborsClassifier\n",
    "from sklearn.linear_model import LogisticRegression\n",
    "from sklearn import naive_bayes as nb\n",
    "\n",
    "# local\n",
    "import wrangle as w"
   ]
  },
  {
   "cell_type": "markdown",
   "metadata": {},
   "source": [
    "# Acquire"
   ]
  },
  {
   "cell_type": "code",
   "execution_count": 2,
   "metadata": {},
   "outputs": [],
   "source": [
    "# from google.oauth2 import service_account\n",
    "# import pandas_gbq\n",
    "\n",
    "# credentials = service_account.Credentials.from_service_account_file(\n",
    "#     'my-ds-projects-d864a770b51b.json',\n",
    "# )\n",
    "# df = pandas_gbq.read_gbq(\"select * from cfpb_complaints.complaint_database\",dialect='standard',project_id=\"my-ds-projects\",use_bqstorage_api=True,credentials=credentials)\n",
    "# df"
   ]
  },
  {
   "cell_type": "code",
   "execution_count": 49,
   "metadata": {},
   "outputs": [
    {
     "name": "stdout",
     "output_type": "stream",
     "text": [
      "csv file found and loaded\n"
     ]
    },
    {
     "data": {
      "text/html": [
       "<div>\n",
       "<style scoped>\n",
       "    .dataframe tbody tr th:only-of-type {\n",
       "        vertical-align: middle;\n",
       "    }\n",
       "\n",
       "    .dataframe tbody tr th {\n",
       "        vertical-align: top;\n",
       "    }\n",
       "\n",
       "    .dataframe thead th {\n",
       "        text-align: right;\n",
       "    }\n",
       "</style>\n",
       "<table border=\"1\" class=\"dataframe\">\n",
       "  <thead>\n",
       "    <tr style=\"text-align: right;\">\n",
       "      <th></th>\n",
       "      <th>date_received</th>\n",
       "      <th>product</th>\n",
       "      <th>subproduct</th>\n",
       "      <th>issue</th>\n",
       "      <th>subissue</th>\n",
       "      <th>consumer_complaint_narrative</th>\n",
       "      <th>company_public_response</th>\n",
       "      <th>company_name</th>\n",
       "      <th>state</th>\n",
       "      <th>zip_code</th>\n",
       "      <th>tags</th>\n",
       "      <th>consumer_consent_provided</th>\n",
       "      <th>submitted_via</th>\n",
       "      <th>date_sent_to_company</th>\n",
       "      <th>company_response_to_consumer</th>\n",
       "      <th>timely_response</th>\n",
       "      <th>consumer_disputed</th>\n",
       "      <th>complaint_id</th>\n",
       "    </tr>\n",
       "  </thead>\n",
       "  <tbody>\n",
       "    <tr>\n",
       "      <th>0</th>\n",
       "      <td>2020-12-29</td>\n",
       "      <td>Credit reporting, credit repair services, or other personal consumer reports</td>\n",
       "      <td>Credit reporting</td>\n",
       "      <td>Problem with a credit reporting company's investigation into an existing problem</td>\n",
       "      <td>Their investigation did not fix an error on your report</td>\n",
       "      <td>NaN</td>\n",
       "      <td>Company has responded to the consumer and the CFPB and chooses not to provide a public response</td>\n",
       "      <td>Experian Information Solutions Inc.</td>\n",
       "      <td>AL</td>\n",
       "      <td>35405.0</td>\n",
       "      <td>NaN</td>\n",
       "      <td>Consent not provided</td>\n",
       "      <td>Web</td>\n",
       "      <td>2020-12-29</td>\n",
       "      <td>Closed with explanation</td>\n",
       "      <td>True</td>\n",
       "      <td>NaN</td>\n",
       "      <td>4038153</td>\n",
       "    </tr>\n",
       "    <tr>\n",
       "      <th>1</th>\n",
       "      <td>2022-07-30</td>\n",
       "      <td>Credit reporting, credit repair services, or other personal consumer reports</td>\n",
       "      <td>Credit reporting</td>\n",
       "      <td>Problem with a credit reporting company's investigation into an existing problem</td>\n",
       "      <td>Their investigation did not fix an error on your report</td>\n",
       "      <td>NaN</td>\n",
       "      <td>Company has responded to the consumer and the CFPB and chooses not to provide a public response</td>\n",
       "      <td>Experian Information Solutions Inc.</td>\n",
       "      <td>MI</td>\n",
       "      <td>48033</td>\n",
       "      <td>NaN</td>\n",
       "      <td>Consent not provided</td>\n",
       "      <td>Web</td>\n",
       "      <td>2022-07-30</td>\n",
       "      <td>Closed with non-monetary relief</td>\n",
       "      <td>True</td>\n",
       "      <td>NaN</td>\n",
       "      <td>5826643</td>\n",
       "    </tr>\n",
       "    <tr>\n",
       "      <th>2</th>\n",
       "      <td>2020-03-19</td>\n",
       "      <td>Credit reporting, credit repair services, or other personal consumer reports</td>\n",
       "      <td>Credit reporting</td>\n",
       "      <td>Problem with a credit reporting company's investigation into an existing problem</td>\n",
       "      <td>Their investigation did not fix an error on your report</td>\n",
       "      <td>NaN</td>\n",
       "      <td>Company has responded to the consumer and the CFPB and chooses not to provide a public response</td>\n",
       "      <td>Experian Information Solutions Inc.</td>\n",
       "      <td>PA</td>\n",
       "      <td>19134.0</td>\n",
       "      <td>NaN</td>\n",
       "      <td>Consent not provided</td>\n",
       "      <td>Web</td>\n",
       "      <td>2020-03-19</td>\n",
       "      <td>Closed with explanation</td>\n",
       "      <td>True</td>\n",
       "      <td>NaN</td>\n",
       "      <td>3573279</td>\n",
       "    </tr>\n",
       "    <tr>\n",
       "      <th>3</th>\n",
       "      <td>2018-08-13</td>\n",
       "      <td>Credit reporting, credit repair services, or other personal consumer reports</td>\n",
       "      <td>Credit reporting</td>\n",
       "      <td>Problem with a credit reporting company's investigation into an existing problem</td>\n",
       "      <td>Their investigation did not fix an error on your report</td>\n",
       "      <td>NaN</td>\n",
       "      <td>Company has responded to the consumer and the CFPB and chooses not to provide a public response</td>\n",
       "      <td>Experian Information Solutions Inc.</td>\n",
       "      <td>KY</td>\n",
       "      <td>41101</td>\n",
       "      <td>Servicemember</td>\n",
       "      <td>Consent not provided</td>\n",
       "      <td>Web</td>\n",
       "      <td>2018-08-13</td>\n",
       "      <td>Closed with explanation</td>\n",
       "      <td>True</td>\n",
       "      <td>NaN</td>\n",
       "      <td>2990219</td>\n",
       "    </tr>\n",
       "    <tr>\n",
       "      <th>4</th>\n",
       "      <td>2019-11-20</td>\n",
       "      <td>Credit reporting, credit repair services, or other personal consumer reports</td>\n",
       "      <td>Credit reporting</td>\n",
       "      <td>Problem with a credit reporting company's investigation into an existing problem</td>\n",
       "      <td>Their investigation did not fix an error on your report</td>\n",
       "      <td>NaN</td>\n",
       "      <td>Company has responded to the consumer and the CFPB and chooses not to provide a public response</td>\n",
       "      <td>Experian Information Solutions Inc.</td>\n",
       "      <td>NC</td>\n",
       "      <td>28166.0</td>\n",
       "      <td>NaN</td>\n",
       "      <td>Consent not provided</td>\n",
       "      <td>Web</td>\n",
       "      <td>2019-11-20</td>\n",
       "      <td>Closed with non-monetary relief</td>\n",
       "      <td>True</td>\n",
       "      <td>NaN</td>\n",
       "      <td>3444058</td>\n",
       "    </tr>\n",
       "  </tbody>\n",
       "</table>\n",
       "</div>"
      ],
      "text/plain": [
       "  date_received  \\\n",
       "0    2020-12-29   \n",
       "1    2022-07-30   \n",
       "2    2020-03-19   \n",
       "3    2018-08-13   \n",
       "4    2019-11-20   \n",
       "\n",
       "                                                                        product  \\\n",
       "0  Credit reporting, credit repair services, or other personal consumer reports   \n",
       "1  Credit reporting, credit repair services, or other personal consumer reports   \n",
       "2  Credit reporting, credit repair services, or other personal consumer reports   \n",
       "3  Credit reporting, credit repair services, or other personal consumer reports   \n",
       "4  Credit reporting, credit repair services, or other personal consumer reports   \n",
       "\n",
       "         subproduct  \\\n",
       "0  Credit reporting   \n",
       "1  Credit reporting   \n",
       "2  Credit reporting   \n",
       "3  Credit reporting   \n",
       "4  Credit reporting   \n",
       "\n",
       "                                                                              issue  \\\n",
       "0  Problem with a credit reporting company's investigation into an existing problem   \n",
       "1  Problem with a credit reporting company's investigation into an existing problem   \n",
       "2  Problem with a credit reporting company's investigation into an existing problem   \n",
       "3  Problem with a credit reporting company's investigation into an existing problem   \n",
       "4  Problem with a credit reporting company's investigation into an existing problem   \n",
       "\n",
       "                                                  subissue  \\\n",
       "0  Their investigation did not fix an error on your report   \n",
       "1  Their investigation did not fix an error on your report   \n",
       "2  Their investigation did not fix an error on your report   \n",
       "3  Their investigation did not fix an error on your report   \n",
       "4  Their investigation did not fix an error on your report   \n",
       "\n",
       "  consumer_complaint_narrative  \\\n",
       "0                          NaN   \n",
       "1                          NaN   \n",
       "2                          NaN   \n",
       "3                          NaN   \n",
       "4                          NaN   \n",
       "\n",
       "                                                                           company_public_response  \\\n",
       "0  Company has responded to the consumer and the CFPB and chooses not to provide a public response   \n",
       "1  Company has responded to the consumer and the CFPB and chooses not to provide a public response   \n",
       "2  Company has responded to the consumer and the CFPB and chooses not to provide a public response   \n",
       "3  Company has responded to the consumer and the CFPB and chooses not to provide a public response   \n",
       "4  Company has responded to the consumer and the CFPB and chooses not to provide a public response   \n",
       "\n",
       "                          company_name state zip_code           tags  \\\n",
       "0  Experian Information Solutions Inc.    AL  35405.0            NaN   \n",
       "1  Experian Information Solutions Inc.    MI    48033            NaN   \n",
       "2  Experian Information Solutions Inc.    PA  19134.0            NaN   \n",
       "3  Experian Information Solutions Inc.    KY    41101  Servicemember   \n",
       "4  Experian Information Solutions Inc.    NC  28166.0            NaN   \n",
       "\n",
       "  consumer_consent_provided submitted_via date_sent_to_company  \\\n",
       "0      Consent not provided           Web           2020-12-29   \n",
       "1      Consent not provided           Web           2022-07-30   \n",
       "2      Consent not provided           Web           2020-03-19   \n",
       "3      Consent not provided           Web           2018-08-13   \n",
       "4      Consent not provided           Web           2019-11-20   \n",
       "\n",
       "      company_response_to_consumer  timely_response consumer_disputed  \\\n",
       "0          Closed with explanation             True               NaN   \n",
       "1  Closed with non-monetary relief             True               NaN   \n",
       "2          Closed with explanation             True               NaN   \n",
       "3          Closed with explanation             True               NaN   \n",
       "4  Closed with non-monetary relief             True               NaN   \n",
       "\n",
       "   complaint_id  \n",
       "0       4038153  \n",
       "1       5826643  \n",
       "2       3573279  \n",
       "3       2990219  \n",
       "4       3444058  "
      ]
     },
     "execution_count": 49,
     "metadata": {},
     "output_type": "execute_result"
    }
   ],
   "source": [
    "df = w.check_file_exists_gbq('cfpb.csv','service_key.json')\n",
    "df.head(5)"
   ]
  },
  {
   "cell_type": "code",
   "execution_count": 4,
   "metadata": {},
   "outputs": [],
   "source": [
    "# df.info()"
   ]
  },
  {
   "cell_type": "markdown",
   "metadata": {},
   "source": [
    "# Prepare"
   ]
  },
  {
   "cell_type": "code",
   "execution_count": 5,
   "metadata": {},
   "outputs": [],
   "source": [
    "# df_clean = w.clean_data(df.copy())\n",
    "# df_clean.head()"
   ]
  },
  {
   "cell_type": "code",
   "execution_count": 6,
   "metadata": {},
   "outputs": [],
   "source": [
    "# df_clean.info()"
   ]
  },
  {
   "cell_type": "code",
   "execution_count": 7,
   "metadata": {},
   "outputs": [],
   "source": [
    "pd.set_option('display.max_colwidth',None)"
   ]
  },
  {
   "cell_type": "code",
   "execution_count": 8,
   "metadata": {},
   "outputs": [],
   "source": [
    "# df_clean_sample = prep_narrative(df_clean.head(10000))\n",
    "# df_clean_sample[['narrative','clean','lemon']].head(1)"
   ]
  },
  {
   "cell_type": "code",
   "execution_count": 9,
   "metadata": {},
   "outputs": [],
   "source": [
    "# all_words = [word for row in df_clean_sample['clean'] for word in row.split()]\n",
    "# all_words = all_words.sort()"
   ]
  },
  {
   "cell_type": "code",
   "execution_count": 10,
   "metadata": {},
   "outputs": [],
   "source": [
    "# type(all_words)"
   ]
  },
  {
   "cell_type": "code",
   "execution_count": 11,
   "metadata": {},
   "outputs": [],
   "source": [
    "# all_words.sort()"
   ]
  },
  {
   "cell_type": "code",
   "execution_count": 12,
   "metadata": {},
   "outputs": [],
   "source": [
    "# all_words"
   ]
  },
  {
   "cell_type": "code",
   "execution_count": 13,
   "metadata": {},
   "outputs": [],
   "source": [
    "# sample_str = df_clean.narrative[0]\n",
    "# sample_str"
   ]
  },
  {
   "cell_type": "code",
   "execution_count": 14,
   "metadata": {},
   "outputs": [],
   "source": [
    "# sample_str_sub = re.sub(r'[X{1,}\\d\\']', ' ', string=sample_str)\n",
    "# sample_str_sub"
   ]
  },
  {
   "cell_type": "code",
   "execution_count": 15,
   "metadata": {},
   "outputs": [],
   "source": [
    "# sample_str_clean = basic_clean(sample_str_sub)\n",
    "# sample_str_clean"
   ]
  },
  {
   "cell_type": "code",
   "execution_count": 16,
   "metadata": {},
   "outputs": [],
   "source": [
    "# sample_str_token = token_it_up(sample_str_clean)\n",
    "# sample_str_token"
   ]
  },
  {
   "cell_type": "code",
   "execution_count": 17,
   "metadata": {},
   "outputs": [],
   "source": [
    "# sample_str_stop = remove_stopwords(sample_str_token,[\"&#9;\", \"12\", \"'\"])\n",
    "# sample_str_stop"
   ]
  },
  {
   "cell_type": "code",
   "execution_count": 18,
   "metadata": {},
   "outputs": [],
   "source": [
    "# sample_str_lem = lemmad(sample_str_stop)\n",
    "# sample_str_lem"
   ]
  },
  {
   "cell_type": "code",
   "execution_count": 19,
   "metadata": {},
   "outputs": [],
   "source": [
    "# df_lem = w.prep_narrative(df_clean)\n",
    "# df_lem.head(1)"
   ]
  },
  {
   "cell_type": "code",
   "execution_count": 20,
   "metadata": {},
   "outputs": [],
   "source": [
    "# df_lem.to_parquet('df_lem.parquet')"
   ]
  },
  {
   "cell_type": "code",
   "execution_count": 21,
   "metadata": {},
   "outputs": [
    {
     "data": {
      "text/html": [
       "<div>\n",
       "<style scoped>\n",
       "    .dataframe tbody tr th:only-of-type {\n",
       "        vertical-align: middle;\n",
       "    }\n",
       "\n",
       "    .dataframe tbody tr th {\n",
       "        vertical-align: top;\n",
       "    }\n",
       "\n",
       "    .dataframe thead th {\n",
       "        text-align: right;\n",
       "    }\n",
       "</style>\n",
       "<table border=\"1\" class=\"dataframe\">\n",
       "  <thead>\n",
       "    <tr style=\"text-align: right;\">\n",
       "      <th></th>\n",
       "      <th>date_received</th>\n",
       "      <th>company_name</th>\n",
       "      <th>state</th>\n",
       "      <th>tags</th>\n",
       "      <th>company_response_to_consumer</th>\n",
       "      <th>product_bins</th>\n",
       "      <th>clean</th>\n",
       "      <th>lemon</th>\n",
       "    </tr>\n",
       "  </thead>\n",
       "  <tbody>\n",
       "    <tr>\n",
       "      <th>0</th>\n",
       "      <td>2021-08-09</td>\n",
       "      <td>Afterpay US Services, LLC</td>\n",
       "      <td>MD</td>\n",
       "      <td>Average Person</td>\n",
       "      <td>Closed with explanation</td>\n",
       "      <td>money_service</td>\n",
       "      <td>on i filed a complaint and dispute with afterpay us services llc an international payment platform engaged in the pay later service per their installment agreement complaints and disputes that arise out of or related to the agreement should be filed through my complaint and dispute was in regards to a merchant that i placed an order with on the payment method for the order was through afterpay in my compliant with afterpay i noted that i had received a damaged order from the merchant and had reached out to the merchant for return instructions and a refund however the merchant failed to provide a return label as a result i was gong to have to pay on my payment due date of on i received a response from afterpay stating your afterpay payment plan remains in place we are not able to adjust your payment schedule on the basis of longer than expected delivery the response from afterpay also failed to indicate if they attempted to reach out to the merchant for a response it appears that was not done on i contacted afterpay and indicated that the basis of my dispute was not due to longer than expected delivery but had clearly indicated the merchant was failing to adhere to their return policy and did not honor the issuance of a return label on i received a response from the merchant that a return label would be sent to me on mysteriously this was the same date my installment payment was due it appears the merchant deliberately stalled the issuance of a return label in order to fraudulently collect funds that were in dispute as an international payment platform afterpay does not provide a claim process in which consumers are allowed to file a complaint against a merchant having such a process would allow for an investigation and response from the merchant instead consumers are forced to make payment and pay for goods they arent keeping dispute evidence that merchants have failed to adhere to their return policy</td>\n",
       "      <td>filed complaint dispute afterpay u service llc international payment platform engaged pay later service per installment agreement complaint dispute arise related agreement filed complaint dispute regard merchant placed order payment method order afterpay compliant afterpay noted received damaged order merchant reached merchant return instruction refund however merchant failed provide return label result gong pay payment due date received response afterpay stating afterpay payment plan remains place able adjust payment schedule basis longer expected delivery response afterpay also failed indicate attempted reach merchant response appears done contacted afterpay indicated basis dispute due longer expected delivery clearly indicated merchant failing adhere return policy honor issuance return label received response merchant return label would sent mysteriously date installment payment due appears merchant deliberately stalled issuance return label order fraudulently collect fund dispute international payment platform afterpay provide claim process consumer allowed file complaint merchant process would allow investigation response merchant instead consumer forced make payment pay good arent keeping dispute evidence merchant failed adhere return policy</td>\n",
       "    </tr>\n",
       "  </tbody>\n",
       "</table>\n",
       "</div>"
      ],
      "text/plain": [
       "  date_received               company_name state            tags  \\\n",
       "0    2021-08-09  Afterpay US Services, LLC    MD  Average Person   \n",
       "\n",
       "  company_response_to_consumer   product_bins  \\\n",
       "0      Closed with explanation  money_service   \n",
       "\n",
       "                                                                                                                                                                                                                                                                                                                                                                                                                                                                                                                                                                                                                                                                                                                                                                                                                                                                                                                                                                                                                                                                                                                                                                                                                                                                                                                                                                                                                                                                                                                                                                                                                                                                                                                                                                                                                                                                                                                                                                                                            clean  \\\n",
       "0  on i filed a complaint and dispute with afterpay us services llc an international payment platform engaged in the pay later service per their installment agreement complaints and disputes that arise out of or related to the agreement should be filed through my complaint and dispute was in regards to a merchant that i placed an order with on the payment method for the order was through afterpay in my compliant with afterpay i noted that i had received a damaged order from the merchant and had reached out to the merchant for return instructions and a refund however the merchant failed to provide a return label as a result i was gong to have to pay on my payment due date of on i received a response from afterpay stating your afterpay payment plan remains in place we are not able to adjust your payment schedule on the basis of longer than expected delivery the response from afterpay also failed to indicate if they attempted to reach out to the merchant for a response it appears that was not done on i contacted afterpay and indicated that the basis of my dispute was not due to longer than expected delivery but had clearly indicated the merchant was failing to adhere to their return policy and did not honor the issuance of a return label on i received a response from the merchant that a return label would be sent to me on mysteriously this was the same date my installment payment was due it appears the merchant deliberately stalled the issuance of a return label in order to fraudulently collect funds that were in dispute as an international payment platform afterpay does not provide a claim process in which consumers are allowed to file a complaint against a merchant having such a process would allow for an investigation and response from the merchant instead consumers are forced to make payment and pay for goods they arent keeping dispute evidence that merchants have failed to adhere to their return policy   \n",
       "\n",
       "                                                                                                                                                                                                                                                                                                                                                                                                                                                                                                                                                                                                                                                                                                                                                                                                                                                                                                                                                                                                                                                                                                                                                                                                                                                                                                                 lemon  \n",
       "0  filed complaint dispute afterpay u service llc international payment platform engaged pay later service per installment agreement complaint dispute arise related agreement filed complaint dispute regard merchant placed order payment method order afterpay compliant afterpay noted received damaged order merchant reached merchant return instruction refund however merchant failed provide return label result gong pay payment due date received response afterpay stating afterpay payment plan remains place able adjust payment schedule basis longer expected delivery response afterpay also failed indicate attempted reach merchant response appears done contacted afterpay indicated basis dispute due longer expected delivery clearly indicated merchant failing adhere return policy honor issuance return label received response merchant return label would sent mysteriously date installment payment due appears merchant deliberately stalled issuance return label order fraudulently collect fund dispute international payment platform afterpay provide claim process consumer allowed file complaint merchant process would allow investigation response merchant instead consumer forced make payment pay good arent keeping dispute evidence merchant failed adhere return policy  "
      ]
     },
     "execution_count": 21,
     "metadata": {},
     "output_type": "execute_result"
    }
   ],
   "source": [
    "df_lem = pd.read_parquet('df_lem.parquet')\n",
    "df_lem.head(1)"
   ]
  },
  {
   "cell_type": "code",
   "execution_count": 22,
   "metadata": {},
   "outputs": [
    {
     "data": {
      "image/png": "[encoded data removed]",
      "text/plain": [
       "<Figure size 640x480 with 1 Axes>"
      ]
     },
     "metadata": {},
     "output_type": "display_data"
    }
   ],
   "source": [
    "df_lem.company_response_to_consumer.value_counts(normalize=True).plot(\n",
    "    kind='barh',\n",
    "    title='Percent of Company Responses to Customer',\n",
    "    xlabel='Percent of Responses',\n",
    "    ylabel='Company Response');"
   ]
  },
  {
   "cell_type": "code",
   "execution_count": 23,
   "metadata": {},
   "outputs": [
    {
     "data": {
      "text/plain": [
       "Closed with explanation            0.787889\n",
       "Closed with non-monetary relief    0.164657\n",
       "Closed with monetary relief        0.040877\n",
       "Untimely response                  0.003577\n",
       "Closed                             0.003001\n",
       "Name: company_response_to_consumer, dtype: float64"
      ]
     },
     "execution_count": 23,
     "metadata": {},
     "output_type": "execute_result"
    }
   ],
   "source": [
    "df_lem.company_response_to_consumer.value_counts(normalize=True)"
   ]
  },
  {
   "cell_type": "code",
   "execution_count": 24,
   "metadata": {},
   "outputs": [],
   "source": [
    "# all_words = [word for row in df_lem['lemon'] for word in row.split()]\n",
    "# all_words.sort()\n",
    "# all_words"
   ]
  },
  {
   "cell_type": "code",
   "execution_count": 25,
   "metadata": {},
   "outputs": [
    {
     "name": "stdout",
     "output_type": "stream",
     "text": [
      "Prepared DF: (1246736, 8)\n",
      "Train: (748041, 8)\n",
      "Validate: (249347, 8)\n",
      "Test: (249348, 8)\n"
     ]
    }
   ],
   "source": [
    "train, validate, test = w.split_data(df_lem,'company_response_to_consumer')"
   ]
  },
  {
   "cell_type": "markdown",
   "metadata": {},
   "source": [
    "# Explore"
   ]
  },
  {
   "cell_type": "code",
   "execution_count": 26,
   "metadata": {},
   "outputs": [
    {
     "data": {
      "text/html": [
       "<div>\n",
       "<style scoped>\n",
       "    .dataframe tbody tr th:only-of-type {\n",
       "        vertical-align: middle;\n",
       "    }\n",
       "\n",
       "    .dataframe tbody tr th {\n",
       "        vertical-align: top;\n",
       "    }\n",
       "\n",
       "    .dataframe thead th {\n",
       "        text-align: right;\n",
       "    }\n",
       "</style>\n",
       "<table border=\"1\" class=\"dataframe\">\n",
       "  <thead>\n",
       "    <tr style=\"text-align: right;\">\n",
       "      <th></th>\n",
       "      <th>date_received</th>\n",
       "      <th>company_name</th>\n",
       "      <th>state</th>\n",
       "      <th>tags</th>\n",
       "      <th>company_response_to_consumer</th>\n",
       "      <th>product_bins</th>\n",
       "      <th>clean</th>\n",
       "      <th>lemon</th>\n",
       "    </tr>\n",
       "  </thead>\n",
       "  <tbody>\n",
       "    <tr>\n",
       "      <th>875340</th>\n",
       "      <td>2017-12-25</td>\n",
       "      <td>JPMORGAN CHASE &amp; CO.</td>\n",
       "      <td>CA</td>\n",
       "      <td>Average Person</td>\n",
       "      <td>Closed with monetary relief</td>\n",
       "      <td>credit_card</td>\n",
       "      <td>merchant charged my credit on in the amount of i called merchant to let them know i have already canceled my service merchant refunded full amount of on i wrote to chase bank and filed dispute chase removed the charge and then reposted in my account i even attached a copy of the receipt to show that merchant had refunded all credit i wrote to them a few times but never heard from them please help thank you</td>\n",
       "      <td>merchant charged credit amount called merchant let know already canceled service merchant refunded full amount wrote chase bank filed dispute chase removed charge reposted account even attached copy receipt show merchant refunded credit wrote time never heard please help thank</td>\n",
       "    </tr>\n",
       "  </tbody>\n",
       "</table>\n",
       "</div>"
      ],
      "text/plain": [
       "       date_received          company_name state            tags  \\\n",
       "875340    2017-12-25  JPMORGAN CHASE & CO.    CA  Average Person   \n",
       "\n",
       "       company_response_to_consumer product_bins  \\\n",
       "875340  Closed with monetary relief  credit_card   \n",
       "\n",
       "                                                                                                                                                                                                                                                                                                                                                                                                                            clean  \\\n",
       "875340  merchant charged my credit on in the amount of i called merchant to let them know i have already canceled my service merchant refunded full amount of on i wrote to chase bank and filed dispute chase removed the charge and then reposted in my account i even attached a copy of the receipt to show that merchant had refunded all credit i wrote to them a few times but never heard from them please help thank you   \n",
       "\n",
       "                                                                                                                                                                                                                                                                                        lemon  \n",
       "875340  merchant charged credit amount called merchant let know already canceled service merchant refunded full amount wrote chase bank filed dispute chase removed charge reposted account even attached copy receipt show merchant refunded credit wrote time never heard please help thank  "
      ]
     },
     "execution_count": 26,
     "metadata": {},
     "output_type": "execute_result"
    }
   ],
   "source": [
    "train.head(1)"
   ]
  },
  {
   "cell_type": "code",
   "execution_count": 27,
   "metadata": {},
   "outputs": [
    {
     "data": {
      "text/plain": [
       "Closed with explanation            0.787889\n",
       "Closed with non-monetary relief    0.164657\n",
       "Closed with monetary relief        0.040877\n",
       "Untimely response                  0.003576\n",
       "Closed                             0.003001\n",
       "Name: company_response_to_consumer, dtype: float64"
      ]
     },
     "execution_count": 27,
     "metadata": {},
     "output_type": "execute_result"
    }
   ],
   "source": [
    "train.company_response_to_consumer.value_counts(normalize=True)"
   ]
  },
  {
   "cell_type": "code",
   "execution_count": 28,
   "metadata": {},
   "outputs": [
    {
     "data": {
      "text/plain": [
       "Closed with explanation            0.787890\n",
       "Closed with non-monetary relief    0.164658\n",
       "Closed with monetary relief        0.040875\n",
       "Untimely response                  0.003577\n",
       "Closed                             0.003000\n",
       "Name: company_response_to_consumer, dtype: float64"
      ]
     },
     "execution_count": 28,
     "metadata": {},
     "output_type": "execute_result"
    }
   ],
   "source": [
    "validate.company_response_to_consumer.value_counts(normalize=True)"
   ]
  },
  {
   "cell_type": "code",
   "execution_count": 29,
   "metadata": {},
   "outputs": [
    {
     "data": {
      "text/plain": [
       "Closed with explanation            0.787887\n",
       "Closed with non-monetary relief    0.164657\n",
       "Closed with monetary relief        0.040879\n",
       "Untimely response                  0.003577\n",
       "Closed                             0.003000\n",
       "Name: company_response_to_consumer, dtype: float64"
      ]
     },
     "execution_count": 29,
     "metadata": {},
     "output_type": "execute_result"
    }
   ],
   "source": [
    "test.company_response_to_consumer.value_counts(normalize=True)"
   ]
  },
  {
   "cell_type": "markdown",
   "metadata": {},
   "source": [
    "## 8.Which product is more likely to have monetary relief?"
   ]
  },
  {
   "cell_type": "code",
   "execution_count": 30,
   "metadata": {},
   "outputs": [
    {
     "data": {
      "text/html": [
       "<div>\n",
       "<style scoped>\n",
       "    .dataframe tbody tr th:only-of-type {\n",
       "        vertical-align: middle;\n",
       "    }\n",
       "\n",
       "    .dataframe tbody tr th {\n",
       "        vertical-align: top;\n",
       "    }\n",
       "\n",
       "    .dataframe thead th {\n",
       "        text-align: right;\n",
       "    }\n",
       "</style>\n",
       "<table border=\"1\" class=\"dataframe\">\n",
       "  <thead>\n",
       "    <tr style=\"text-align: right;\">\n",
       "      <th></th>\n",
       "      <th>date_received</th>\n",
       "      <th>company_name</th>\n",
       "      <th>state</th>\n",
       "      <th>tags</th>\n",
       "      <th>company_response_to_consumer</th>\n",
       "      <th>product_bins</th>\n",
       "      <th>clean</th>\n",
       "      <th>lemon</th>\n",
       "    </tr>\n",
       "  </thead>\n",
       "  <tbody>\n",
       "    <tr>\n",
       "      <th>875340</th>\n",
       "      <td>2017-12-25</td>\n",
       "      <td>JPMORGAN CHASE &amp; CO.</td>\n",
       "      <td>CA</td>\n",
       "      <td>Average Person</td>\n",
       "      <td>Closed with monetary relief</td>\n",
       "      <td>credit_card</td>\n",
       "      <td>merchant charged my credit on in the amount of i called merchant to let them know i have already canceled my service merchant refunded full amount of on i wrote to chase bank and filed dispute chase removed the charge and then reposted in my account i even attached a copy of the receipt to show that merchant had refunded all credit i wrote to them a few times but never heard from them please help thank you</td>\n",
       "      <td>merchant charged credit amount called merchant let know already canceled service merchant refunded full amount wrote chase bank filed dispute chase removed charge reposted account even attached copy receipt show merchant refunded credit wrote time never heard please help thank</td>\n",
       "    </tr>\n",
       "  </tbody>\n",
       "</table>\n",
       "</div>"
      ],
      "text/plain": [
       "       date_received          company_name state            tags  \\\n",
       "875340    2017-12-25  JPMORGAN CHASE & CO.    CA  Average Person   \n",
       "\n",
       "       company_response_to_consumer product_bins  \\\n",
       "875340  Closed with monetary relief  credit_card   \n",
       "\n",
       "                                                                                                                                                                                                                                                                                                                                                                                                                            clean  \\\n",
       "875340  merchant charged my credit on in the amount of i called merchant to let them know i have already canceled my service merchant refunded full amount of on i wrote to chase bank and filed dispute chase removed the charge and then reposted in my account i even attached a copy of the receipt to show that merchant had refunded all credit i wrote to them a few times but never heard from them please help thank you   \n",
       "\n",
       "                                                                                                                                                                                                                                                                                        lemon  \n",
       "875340  merchant charged credit amount called merchant let know already canceled service merchant refunded full amount wrote chase bank filed dispute chase removed charge reposted account even attached copy receipt show merchant refunded credit wrote time never heard please help thank  "
      ]
     },
     "execution_count": 30,
     "metadata": {},
     "output_type": "execute_result"
    }
   ],
   "source": [
    "money = train[train.company_response_to_consumer=='Closed with monetary relief']\n",
    "money.head(1)"
   ]
  },
  {
   "cell_type": "code",
   "execution_count": 31,
   "metadata": {},
   "outputs": [
    {
     "data": {
      "text/plain": [
       "credit_card        13112\n",
       "bank                9106\n",
       "mortgage            2404\n",
       "money_service       1927\n",
       "loans               1845\n",
       "credit_report       1152\n",
       "debt_collection     1032\n",
       "Name: product_bins, dtype: int64"
      ]
     },
     "execution_count": 31,
     "metadata": {},
     "output_type": "execute_result"
    }
   ],
   "source": [
    "money.product_bins.value_counts()"
   ]
  },
  {
   "cell_type": "code",
   "execution_count": 32,
   "metadata": {},
   "outputs": [
    {
     "data": {
      "text/plain": [
       "credit_card        0.428805\n",
       "bank               0.297796\n",
       "mortgage           0.078619\n",
       "money_service      0.063019\n",
       "loans              0.060337\n",
       "credit_report      0.037674\n",
       "debt_collection    0.033750\n",
       "Name: product_bins, dtype: float64"
      ]
     },
     "execution_count": 32,
     "metadata": {},
     "output_type": "execute_result"
    }
   ],
   "source": [
    "money.product_bins.value_counts(normalize=True)"
   ]
  },
  {
   "cell_type": "code",
   "execution_count": 33,
   "metadata": {},
   "outputs": [
    {
     "data": {
      "text/html": [
       "<div>\n",
       "<style scoped>\n",
       "    .dataframe tbody tr th:only-of-type {\n",
       "        vertical-align: middle;\n",
       "    }\n",
       "\n",
       "    .dataframe tbody tr th {\n",
       "        vertical-align: top;\n",
       "    }\n",
       "\n",
       "    .dataframe thead th {\n",
       "        text-align: right;\n",
       "    }\n",
       "</style>\n",
       "<table border=\"1\" class=\"dataframe\">\n",
       "  <thead>\n",
       "    <tr style=\"text-align: right;\">\n",
       "      <th>company_response_to_consumer</th>\n",
       "      <th>Closed</th>\n",
       "      <th>Closed with explanation</th>\n",
       "      <th>Closed with monetary relief</th>\n",
       "      <th>Closed with non-monetary relief</th>\n",
       "      <th>Untimely response</th>\n",
       "    </tr>\n",
       "    <tr>\n",
       "      <th>product_bins</th>\n",
       "      <th></th>\n",
       "      <th></th>\n",
       "      <th></th>\n",
       "      <th></th>\n",
       "      <th></th>\n",
       "    </tr>\n",
       "  </thead>\n",
       "  <tbody>\n",
       "    <tr>\n",
       "      <th>bank</th>\n",
       "      <td>0.004587</td>\n",
       "      <td>0.746144</td>\n",
       "      <td>0.194270</td>\n",
       "      <td>0.054189</td>\n",
       "      <td>0.000811</td>\n",
       "    </tr>\n",
       "    <tr>\n",
       "      <th>credit_card</th>\n",
       "      <td>0.001112</td>\n",
       "      <td>0.693124</td>\n",
       "      <td>0.197069</td>\n",
       "      <td>0.107808</td>\n",
       "      <td>0.000887</td>\n",
       "    </tr>\n",
       "    <tr>\n",
       "      <th>credit_report</th>\n",
       "      <td>0.000130</td>\n",
       "      <td>0.754446</td>\n",
       "      <td>0.002999</td>\n",
       "      <td>0.241253</td>\n",
       "      <td>0.001172</td>\n",
       "    </tr>\n",
       "    <tr>\n",
       "      <th>debt_collection</th>\n",
       "      <td>0.010413</td>\n",
       "      <td>0.850581</td>\n",
       "      <td>0.008542</td>\n",
       "      <td>0.118047</td>\n",
       "      <td>0.012416</td>\n",
       "    </tr>\n",
       "    <tr>\n",
       "      <th>loans</th>\n",
       "      <td>0.003909</td>\n",
       "      <td>0.887134</td>\n",
       "      <td>0.037179</td>\n",
       "      <td>0.063134</td>\n",
       "      <td>0.008645</td>\n",
       "    </tr>\n",
       "    <tr>\n",
       "      <th>money_service</th>\n",
       "      <td>0.000374</td>\n",
       "      <td>0.830972</td>\n",
       "      <td>0.103043</td>\n",
       "      <td>0.062884</td>\n",
       "      <td>0.002727</td>\n",
       "    </tr>\n",
       "    <tr>\n",
       "      <th>mortgage</th>\n",
       "      <td>0.007278</td>\n",
       "      <td>0.914926</td>\n",
       "      <td>0.039142</td>\n",
       "      <td>0.036244</td>\n",
       "      <td>0.002410</td>\n",
       "    </tr>\n",
       "  </tbody>\n",
       "</table>\n",
       "</div>"
      ],
      "text/plain": [
       "company_response_to_consumer    Closed  Closed with explanation  \\\n",
       "product_bins                                                      \n",
       "bank                          0.004587                 0.746144   \n",
       "credit_card                   0.001112                 0.693124   \n",
       "credit_report                 0.000130                 0.754446   \n",
       "debt_collection               0.010413                 0.850581   \n",
       "loans                         0.003909                 0.887134   \n",
       "money_service                 0.000374                 0.830972   \n",
       "mortgage                      0.007278                 0.914926   \n",
       "\n",
       "company_response_to_consumer  Closed with monetary relief  \\\n",
       "product_bins                                                \n",
       "bank                                             0.194270   \n",
       "credit_card                                      0.197069   \n",
       "credit_report                                    0.002999   \n",
       "debt_collection                                  0.008542   \n",
       "loans                                            0.037179   \n",
       "money_service                                    0.103043   \n",
       "mortgage                                         0.039142   \n",
       "\n",
       "company_response_to_consumer  Closed with non-monetary relief  \\\n",
       "product_bins                                                    \n",
       "bank                                                 0.054189   \n",
       "credit_card                                          0.107808   \n",
       "credit_report                                        0.241253   \n",
       "debt_collection                                      0.118047   \n",
       "loans                                                0.063134   \n",
       "money_service                                        0.062884   \n",
       "mortgage                                             0.036244   \n",
       "\n",
       "company_response_to_consumer  Untimely response  \n",
       "product_bins                                     \n",
       "bank                                   0.000811  \n",
       "credit_card                            0.000887  \n",
       "credit_report                          0.001172  \n",
       "debt_collection                        0.012416  \n",
       "loans                                  0.008645  \n",
       "money_service                          0.002727  \n",
       "mortgage                               0.002410  "
      ]
     },
     "execution_count": 33,
     "metadata": {},
     "output_type": "execute_result"
    }
   ],
   "source": [
    "cross = pd.crosstab(train['product_bins'],train['company_response_to_consumer'],normalize='index')\n",
    "cross"
   ]
  },
  {
   "cell_type": "code",
   "execution_count": 34,
   "metadata": {},
   "outputs": [
    {
     "data": {
      "text/plain": [
       "product_bins\n",
       "credit_report      0.002999\n",
       "debt_collection    0.008542\n",
       "loans              0.037179\n",
       "mortgage           0.039142\n",
       "money_service      0.103043\n",
       "bank               0.194270\n",
       "credit_card        0.197069\n",
       "Name: Closed with monetary relief, dtype: float64"
      ]
     },
     "execution_count": 34,
     "metadata": {},
     "output_type": "execute_result"
    }
   ],
   "source": [
    "cross['Closed with monetary relief'].sort_values()"
   ]
  },
  {
   "cell_type": "code",
   "execution_count": 35,
   "metadata": {},
   "outputs": [
    {
     "data": {
      "image/png": "[encoded data removed]",
      "text/plain": [
       "<Figure size 640x480 with 1 Axes>"
      ]
     },
     "metadata": {},
     "output_type": "display_data"
    }
   ],
   "source": [
    "cross['Closed with monetary relief'].sort_values().plot(kind='barh', title='Proportions of Monetary Relief', xlabel='Proportion of Complaints for the Product', ylabel='Product Type');"
   ]
  },
  {
   "cell_type": "code",
   "execution_count": 36,
   "metadata": {},
   "outputs": [],
   "source": [
    "# credit card and bank related products have the highest chance of getting monetary relief at just under 20%\n",
    "# it makes sense that credit report products have the least chance of getting monetary relief"
   ]
  },
  {
   "cell_type": "code",
   "execution_count": 42,
   "metadata": {},
   "outputs": [],
   "source": [
    "def monetary_product(train):\n",
    "    # make crosstab of product and responses and normalize to get product proportions\n",
    "    cross = pd.crosstab(train['product_bins'],train['company_response_to_consumer'],normalize='index')\n",
    "    # plot monetary relief products\n",
    "    cross['Closed with monetary relief'].sort_values(\n",
    "        ).plot(kind='barh', \n",
    "                title='Proportions of Monetary Relief', \n",
    "                xlabel='Proportion of Complaints for the Product', \n",
    "                ylabel='Product Type');"
   ]
  },
  {
   "cell_type": "code",
   "execution_count": 43,
   "metadata": {},
   "outputs": [
    {
     "data": {
      "image/png": "[encoded data removed]",
      "text/plain": [
       "<Figure size 640x480 with 1 Axes>"
      ]
     },
     "metadata": {},
     "output_type": "display_data"
    }
   ],
   "source": [
    "monetary_product(train)"
   ]
  },
  {
   "cell_type": "code",
   "execution_count": null,
   "metadata": {},
   "outputs": [],
   "source": []
  },
  {
   "cell_type": "markdown",
   "metadata": {},
   "source": [
    "## 9. Are there more complaints during certain seasons of the year?"
   ]
  },
  {
   "cell_type": "code",
   "execution_count": 44,
   "metadata": {},
   "outputs": [],
   "source": [
    "# from datetime import datetime"
   ]
  },
  {
   "cell_type": "code",
   "execution_count": 45,
   "metadata": {},
   "outputs": [],
   "source": [
    "# train.head(1)"
   ]
  },
  {
   "cell_type": "code",
   "execution_count": 46,
   "metadata": {},
   "outputs": [],
   "source": [
    "# train['month'] = train.date_received.apply(lambda row: row.strftime(\"%m\")).astype(str)\n",
    "# train['year'] = train.date_received.apply(lambda row: row.strftime(\"%y\")).astype(str)"
   ]
  },
  {
   "cell_type": "code",
   "execution_count": 47,
   "metadata": {},
   "outputs": [],
   "source": [
    "# # Performed 1 aggregation grouped on columns: 'month', 'year'\n",
    "# yearly = train.groupby(['month', 'year']).agg(year_count=('year', 'count'))\n",
    "\n",
    "# # Performed 1 aggregation grouped on column: 'month'\n",
    "# monthly = yearly.groupby(['month']).agg(year_count_mean=('year_count', 'mean'))"
   ]
  },
  {
   "cell_type": "code",
   "execution_count": 48,
   "metadata": {},
   "outputs": [],
   "source": [
    "# train.groupby(['month']).agg(month_count=('month', 'count')).plot(kind='bar')"
   ]
  },
  {
   "cell_type": "markdown",
   "metadata": {},
   "source": [
    "## Modeling"
   ]
  },
  {
   "cell_type": "code",
   "execution_count": null,
   "metadata": {},
   "outputs": [],
   "source": []
  },
  {
   "cell_type": "code",
   "execution_count": null,
   "metadata": {},
   "outputs": [],
   "source": []
  },
  {
   "cell_type": "code",
   "execution_count": null,
   "metadata": {},
   "outputs": [],
   "source": []
  },
  {
   "cell_type": "code",
   "execution_count": null,
   "metadata": {},
   "outputs": [],
   "source": []
  },
  {
   "cell_type": "code",
   "execution_count": null,
   "metadata": {},
   "outputs": [],
   "source": []
  },
  {
   "cell_type": "code",
   "execution_count": null,
   "metadata": {},
   "outputs": [],
   "source": []
  }
 ],
 "metadata": {
  "kernelspec": {
   "display_name": "base",
   "language": "python",
   "name": "python3"
  },
  "language_info": {
   "codemirror_mode": {
    "name": "ipython",
    "version": 3
   },
   "file_extension": ".py",
   "mimetype": "text/x-python",
   "name": "python",
   "nbconvert_exporter": "python",
   "pygments_lexer": "ipython3",
   "version": "3.9.16"
  },
  "orig_nbformat": 4
 },
 "nbformat": 4,
 "nbformat_minor": 2
}
