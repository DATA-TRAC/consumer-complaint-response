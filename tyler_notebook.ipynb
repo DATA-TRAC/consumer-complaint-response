{
 "cells": [
  {
   "cell_type": "code",
   "execution_count": 1,
   "metadata": {},
   "outputs": [
    {
     "name": "stdout",
     "output_type": "stream",
     "text": [
      "imports loaded successfully, awaiting commands...\n"
     ]
    }
   ],
   "source": [
    "# data manipulation\n",
    "import pandas as pd\n",
    "import numpy as np\n",
    "import itertools\n",
    "\n",
    "import polars as pl\n",
    "\n",
    "# explore\n",
    "import matplotlib.pyplot as plt\n",
    "import seaborn as sns\n",
    "from scipy import stats\n",
    "\n",
    "# nlp\n",
    "import unicodedata\n",
    "import re\n",
    "import nltk\n",
    "from wordcloud import WordCloud\n",
    "from nltk.corpus import stopwords\n",
    "import nltk.sentiment\n",
    "from sklearn.feature_extraction.text import CountVectorizer\n",
    "from sklearn.feature_extraction.text import TfidfVectorizer\n",
    "\n",
    "# modeling\n",
    "from sklearn.tree import DecisionTreeClassifier\n",
    "from sklearn.ensemble import RandomForestClassifier\n",
    "from sklearn.neighbors import KNeighborsClassifier\n",
    "from sklearn.linear_model import LogisticRegression\n",
    "from sklearn import naive_bayes as nb\n",
    "from sklearn.feature_selection import SelectKBest,chi2,mutual_info_classif\n",
    "\n",
    "# local\n",
    "import wrangle as w"
   ]
  },
  {
   "cell_type": "markdown",
   "metadata": {},
   "source": [
    "# Acquire"
   ]
  },
  {
   "cell_type": "code",
   "execution_count": 2,
   "metadata": {},
   "outputs": [],
   "source": [
    "# from google.oauth2 import service_account\n",
    "# import pandas_gbq\n",
    "\n",
    "# credentials = service_account.Credentials.from_service_account_file(\n",
    "#     'my-ds-projects-d864a770b51b.json',\n",
    "# )\n",
    "# df = pandas_gbq.read_gbq(\"select * from cfpb_complaints.complaint_database\",dialect='standard',project_id=\"my-ds-projects\",use_bqstorage_api=True,credentials=credentials)\n",
    "# df"
   ]
  },
  {
   "cell_type": "code",
   "execution_count": 3,
   "metadata": {},
   "outputs": [],
   "source": [
    "# df = w.check_file_exists_gbq('cfpb.csv','service_key.json')\n",
    "# df.head(5)"
   ]
  },
  {
   "cell_type": "code",
   "execution_count": 4,
   "metadata": {},
   "outputs": [],
   "source": [
    "# df.info()"
   ]
  },
  {
   "cell_type": "markdown",
   "metadata": {},
   "source": [
    "# Prepare"
   ]
  },
  {
   "cell_type": "code",
   "execution_count": 5,
   "metadata": {},
   "outputs": [],
   "source": [
    "# df_clean = w.clean_data(df.copy())\n",
    "# df_clean.head()"
   ]
  },
  {
   "cell_type": "code",
   "execution_count": 6,
   "metadata": {},
   "outputs": [],
   "source": [
    "# df_clean.info()"
   ]
  },
  {
   "cell_type": "code",
   "execution_count": 7,
   "metadata": {},
   "outputs": [],
   "source": [
    "# pd.set_option('display.max_colwidth',None)"
   ]
  },
  {
   "cell_type": "code",
   "execution_count": 8,
   "metadata": {},
   "outputs": [],
   "source": [
    "# df_clean_sample = prep_narrative(df_clean.head(10000))\n",
    "# df_clean_sample[['narrative','clean','lemon']].head(1)"
   ]
  },
  {
   "cell_type": "code",
   "execution_count": 9,
   "metadata": {},
   "outputs": [],
   "source": [
    "# all_words = [word for row in df_clean_sample['clean'] for word in row.split()]\n",
    "# all_words = all_words.sort()"
   ]
  },
  {
   "cell_type": "code",
   "execution_count": 10,
   "metadata": {},
   "outputs": [],
   "source": [
    "# type(all_words)"
   ]
  },
  {
   "cell_type": "code",
   "execution_count": 11,
   "metadata": {},
   "outputs": [],
   "source": [
    "# all_words.sort()"
   ]
  },
  {
   "cell_type": "code",
   "execution_count": 12,
   "metadata": {},
   "outputs": [],
   "source": [
    "# all_words"
   ]
  },
  {
   "cell_type": "code",
   "execution_count": 13,
   "metadata": {},
   "outputs": [],
   "source": [
    "# sample_str = df_clean.narrative[0]\n",
    "# sample_str"
   ]
  },
  {
   "cell_type": "code",
   "execution_count": 14,
   "metadata": {},
   "outputs": [],
   "source": [
    "# sample_str_sub = re.sub(r'[X{1,}\\d\\']', ' ', string=sample_str)\n",
    "# sample_str_sub"
   ]
  },
  {
   "cell_type": "code",
   "execution_count": 15,
   "metadata": {},
   "outputs": [],
   "source": [
    "# sample_str_clean = basic_clean(sample_str_sub)\n",
    "# sample_str_clean"
   ]
  },
  {
   "cell_type": "code",
   "execution_count": 16,
   "metadata": {},
   "outputs": [],
   "source": [
    "# sample_str_token = token_it_up(sample_str_clean)\n",
    "# sample_str_token"
   ]
  },
  {
   "cell_type": "code",
   "execution_count": 17,
   "metadata": {},
   "outputs": [],
   "source": [
    "# sample_str_stop = remove_stopwords(sample_str_token,[\"&#9;\", \"12\", \"'\"])\n",
    "# sample_str_stop"
   ]
  },
  {
   "cell_type": "code",
   "execution_count": 18,
   "metadata": {},
   "outputs": [],
   "source": [
    "# sample_str_lem = lemmad(sample_str_stop)\n",
    "# sample_str_lem"
   ]
  },
  {
   "cell_type": "code",
   "execution_count": 19,
   "metadata": {},
   "outputs": [],
   "source": [
    "# df_lem = w.prep_narrative(df_clean)\n",
    "# df_lem.head(1)"
   ]
  },
  {
   "cell_type": "code",
   "execution_count": 20,
   "metadata": {},
   "outputs": [],
   "source": [
    "# df_lem.to_parquet('df_lem.parquet')"
   ]
  },
  {
   "cell_type": "code",
   "execution_count": 21,
   "metadata": {},
   "outputs": [],
   "source": [
    "# df_lem = pd.read_parquet('df_lem.parquet')\n",
    "# df_lem.head(1)"
   ]
  },
  {
   "cell_type": "code",
   "execution_count": 22,
   "metadata": {},
   "outputs": [],
   "source": [
    "# df_lem = pd.read_parquet('df_prep.parquet')\n",
    "# df_lem.head(1)"
   ]
  },
  {
   "cell_type": "code",
   "execution_count": 23,
   "metadata": {},
   "outputs": [],
   "source": [
    "# df_lem.company_response_to_consumer.value_counts(normalize=True).plot(\n",
    "#     kind='barh',\n",
    "#     title='Percent of Company Responses to Customer',\n",
    "#     xlabel='Percent of Responses',\n",
    "#     ylabel='Company Response');"
   ]
  },
  {
   "cell_type": "code",
   "execution_count": 24,
   "metadata": {},
   "outputs": [],
   "source": [
    "# df_lem.company_response_to_consumer.value_counts(normalize=True)"
   ]
  },
  {
   "cell_type": "code",
   "execution_count": 25,
   "metadata": {},
   "outputs": [],
   "source": [
    "# all_words = [word for row in df_lem['lemon'] for word in row.split()]\n",
    "# all_words.sort()\n",
    "# all_words"
   ]
  },
  {
   "cell_type": "markdown",
   "metadata": {},
   "source": [
    "# Explore"
   ]
  },
  {
   "cell_type": "code",
   "execution_count": 26,
   "metadata": {},
   "outputs": [
    {
     "data": {
      "text/html": [
       "<div>\n",
       "<style scoped>\n",
       "    .dataframe tbody tr th:only-of-type {\n",
       "        vertical-align: middle;\n",
       "    }\n",
       "\n",
       "    .dataframe tbody tr th {\n",
       "        vertical-align: top;\n",
       "    }\n",
       "\n",
       "    .dataframe thead th {\n",
       "        text-align: right;\n",
       "    }\n",
       "</style>\n",
       "<table border=\"1\" class=\"dataframe\">\n",
       "  <thead>\n",
       "    <tr style=\"text-align: right;\">\n",
       "      <th></th>\n",
       "      <th>date_received</th>\n",
       "      <th>company_name</th>\n",
       "      <th>state</th>\n",
       "      <th>tags</th>\n",
       "      <th>company_response_to_consumer</th>\n",
       "      <th>product_bins</th>\n",
       "      <th>clean</th>\n",
       "      <th>lemon</th>\n",
       "    </tr>\n",
       "  </thead>\n",
       "  <tbody>\n",
       "    <tr>\n",
       "      <th>0</th>\n",
       "      <td>2022-02-17</td>\n",
       "      <td>Experian Information Solutions Inc.</td>\n",
       "      <td>TN</td>\n",
       "      <td>Older American</td>\n",
       "      <td>Closed with non-monetary relief</td>\n",
       "      <td>credit_report</td>\n",
       "      <td>there are chapter bankruptcies on my credit re...</td>\n",
       "      <td>chapter bankruptcy credit report experian file...</td>\n",
       "    </tr>\n",
       "  </tbody>\n",
       "</table>\n",
       "</div>"
      ],
      "text/plain": [
       "  date_received                         company_name state            tags  \\\n",
       "0    2022-02-17  Experian Information Solutions Inc.    TN  Older American   \n",
       "\n",
       "      company_response_to_consumer   product_bins  \\\n",
       "0  Closed with non-monetary relief  credit_report   \n",
       "\n",
       "                                               clean  \\\n",
       "0  there are chapter bankruptcies on my credit re...   \n",
       "\n",
       "                                               lemon  \n",
       "0  chapter bankruptcy credit report experian file...  "
      ]
     },
     "execution_count": 26,
     "metadata": {},
     "output_type": "execute_result"
    }
   ],
   "source": [
    "df_lem = pd.read_parquet('df_prep.parquet')\n",
    "df_lem.head(1)"
   ]
  },
  {
   "cell_type": "code",
   "execution_count": 27,
   "metadata": {},
   "outputs": [
    {
     "name": "stdout",
     "output_type": "stream",
     "text": [
      "Prepared DF: (1246736, 8)\n",
      "Train: (748041, 8)\n",
      "Validate: (249347, 8)\n",
      "Test: (249348, 8)\n"
     ]
    }
   ],
   "source": [
    "train, validate, test = w.split_data(df_lem,'company_response_to_consumer')"
   ]
  },
  {
   "cell_type": "code",
   "execution_count": 28,
   "metadata": {},
   "outputs": [],
   "source": [
    "# train.head(1)"
   ]
  },
  {
   "cell_type": "code",
   "execution_count": 29,
   "metadata": {},
   "outputs": [],
   "source": [
    "# train.company_response_to_consumer.value_counts(normalize=True)"
   ]
  },
  {
   "cell_type": "code",
   "execution_count": 30,
   "metadata": {},
   "outputs": [],
   "source": [
    "# validate.company_response_to_consumer.value_counts(normalize=True)"
   ]
  },
  {
   "cell_type": "code",
   "execution_count": 31,
   "metadata": {},
   "outputs": [],
   "source": [
    "# test.company_response_to_consumer.value_counts(normalize=True)"
   ]
  },
  {
   "cell_type": "markdown",
   "metadata": {},
   "source": [
    "## 8.Which product is more likely to have monetary relief?"
   ]
  },
  {
   "cell_type": "code",
   "execution_count": 32,
   "metadata": {},
   "outputs": [
    {
     "data": {
      "text/html": [
       "<div>\n",
       "<style scoped>\n",
       "    .dataframe tbody tr th:only-of-type {\n",
       "        vertical-align: middle;\n",
       "    }\n",
       "\n",
       "    .dataframe tbody tr th {\n",
       "        vertical-align: top;\n",
       "    }\n",
       "\n",
       "    .dataframe thead th {\n",
       "        text-align: right;\n",
       "    }\n",
       "</style>\n",
       "<table border=\"1\" class=\"dataframe\">\n",
       "  <thead>\n",
       "    <tr style=\"text-align: right;\">\n",
       "      <th></th>\n",
       "      <th>date_received</th>\n",
       "      <th>company_name</th>\n",
       "      <th>state</th>\n",
       "      <th>tags</th>\n",
       "      <th>company_response_to_consumer</th>\n",
       "      <th>product_bins</th>\n",
       "      <th>clean</th>\n",
       "      <th>lemon</th>\n",
       "    </tr>\n",
       "  </thead>\n",
       "  <tbody>\n",
       "    <tr>\n",
       "      <th>944870</th>\n",
       "      <td>2015-05-12</td>\n",
       "      <td>CITIBANK, N.A.</td>\n",
       "      <td>CA</td>\n",
       "      <td>Average Person</td>\n",
       "      <td>Closed with monetary relief</td>\n",
       "      <td>mortgage</td>\n",
       "      <td>it has been since that i first applied for the...</td>\n",
       "      <td>since first applied refinance today decision c...</td>\n",
       "    </tr>\n",
       "  </tbody>\n",
       "</table>\n",
       "</div>"
      ],
      "text/plain": [
       "       date_received    company_name state            tags  \\\n",
       "944870    2015-05-12  CITIBANK, N.A.    CA  Average Person   \n",
       "\n",
       "       company_response_to_consumer product_bins  \\\n",
       "944870  Closed with monetary relief     mortgage   \n",
       "\n",
       "                                                    clean  \\\n",
       "944870  it has been since that i first applied for the...   \n",
       "\n",
       "                                                    lemon  \n",
       "944870  since first applied refinance today decision c...  "
      ]
     },
     "execution_count": 32,
     "metadata": {},
     "output_type": "execute_result"
    }
   ],
   "source": [
    "money = train[train.company_response_to_consumer=='Closed with monetary relief']\n",
    "money.head(1)"
   ]
  },
  {
   "cell_type": "code",
   "execution_count": 33,
   "metadata": {},
   "outputs": [
    {
     "data": {
      "text/plain": [
       "credit_card        12967\n",
       "bank                9171\n",
       "mortgage            2421\n",
       "money_service       1961\n",
       "loans               1811\n",
       "credit_report       1196\n",
       "debt_collection     1051\n",
       "Name: product_bins, dtype: int64"
      ]
     },
     "execution_count": 33,
     "metadata": {},
     "output_type": "execute_result"
    }
   ],
   "source": [
    "money.product_bins.value_counts()"
   ]
  },
  {
   "cell_type": "code",
   "execution_count": 34,
   "metadata": {},
   "outputs": [
    {
     "data": {
      "text/plain": [
       "credit_card        0.424063\n",
       "bank               0.299922\n",
       "mortgage           0.079175\n",
       "money_service      0.064131\n",
       "loans              0.059226\n",
       "credit_report      0.039113\n",
       "debt_collection    0.034371\n",
       "Name: product_bins, dtype: float64"
      ]
     },
     "execution_count": 34,
     "metadata": {},
     "output_type": "execute_result"
    }
   ],
   "source": [
    "money.product_bins.value_counts(normalize=True)"
   ]
  },
  {
   "cell_type": "code",
   "execution_count": 35,
   "metadata": {},
   "outputs": [
    {
     "data": {
      "text/html": [
       "<div>\n",
       "<style scoped>\n",
       "    .dataframe tbody tr th:only-of-type {\n",
       "        vertical-align: middle;\n",
       "    }\n",
       "\n",
       "    .dataframe tbody tr th {\n",
       "        vertical-align: top;\n",
       "    }\n",
       "\n",
       "    .dataframe thead th {\n",
       "        text-align: right;\n",
       "    }\n",
       "</style>\n",
       "<table border=\"1\" class=\"dataframe\">\n",
       "  <thead>\n",
       "    <tr style=\"text-align: right;\">\n",
       "      <th>company_response_to_consumer</th>\n",
       "      <th>Closed</th>\n",
       "      <th>Closed with explanation</th>\n",
       "      <th>Closed with monetary relief</th>\n",
       "      <th>Closed with non-monetary relief</th>\n",
       "      <th>Untimely response</th>\n",
       "    </tr>\n",
       "    <tr>\n",
       "      <th>product_bins</th>\n",
       "      <th></th>\n",
       "      <th></th>\n",
       "      <th></th>\n",
       "      <th></th>\n",
       "      <th></th>\n",
       "    </tr>\n",
       "  </thead>\n",
       "  <tbody>\n",
       "    <tr>\n",
       "      <th>bank</th>\n",
       "      <td>0.004523</td>\n",
       "      <td>0.745280</td>\n",
       "      <td>0.195648</td>\n",
       "      <td>0.053525</td>\n",
       "      <td>0.001024</td>\n",
       "    </tr>\n",
       "    <tr>\n",
       "      <th>credit_card</th>\n",
       "      <td>0.000999</td>\n",
       "      <td>0.693988</td>\n",
       "      <td>0.196205</td>\n",
       "      <td>0.107870</td>\n",
       "      <td>0.000938</td>\n",
       "    </tr>\n",
       "    <tr>\n",
       "      <th>credit_report</th>\n",
       "      <td>0.000161</td>\n",
       "      <td>0.754289</td>\n",
       "      <td>0.003111</td>\n",
       "      <td>0.241302</td>\n",
       "      <td>0.001137</td>\n",
       "    </tr>\n",
       "    <tr>\n",
       "      <th>debt_collection</th>\n",
       "      <td>0.010366</td>\n",
       "      <td>0.851144</td>\n",
       "      <td>0.008667</td>\n",
       "      <td>0.117403</td>\n",
       "      <td>0.012420</td>\n",
       "    </tr>\n",
       "    <tr>\n",
       "      <th>loans</th>\n",
       "      <td>0.003797</td>\n",
       "      <td>0.887540</td>\n",
       "      <td>0.036578</td>\n",
       "      <td>0.063420</td>\n",
       "      <td>0.008665</td>\n",
       "    </tr>\n",
       "    <tr>\n",
       "      <th>money_service</th>\n",
       "      <td>0.000267</td>\n",
       "      <td>0.832923</td>\n",
       "      <td>0.104844</td>\n",
       "      <td>0.059292</td>\n",
       "      <td>0.002673</td>\n",
       "    </tr>\n",
       "    <tr>\n",
       "      <th>mortgage</th>\n",
       "      <td>0.007433</td>\n",
       "      <td>0.913222</td>\n",
       "      <td>0.039550</td>\n",
       "      <td>0.037459</td>\n",
       "      <td>0.002336</td>\n",
       "    </tr>\n",
       "  </tbody>\n",
       "</table>\n",
       "</div>"
      ],
      "text/plain": [
       "company_response_to_consumer    Closed  Closed with explanation  \\\n",
       "product_bins                                                      \n",
       "bank                          0.004523                 0.745280   \n",
       "credit_card                   0.000999                 0.693988   \n",
       "credit_report                 0.000161                 0.754289   \n",
       "debt_collection               0.010366                 0.851144   \n",
       "loans                         0.003797                 0.887540   \n",
       "money_service                 0.000267                 0.832923   \n",
       "mortgage                      0.007433                 0.913222   \n",
       "\n",
       "company_response_to_consumer  Closed with monetary relief  \\\n",
       "product_bins                                                \n",
       "bank                                             0.195648   \n",
       "credit_card                                      0.196205   \n",
       "credit_report                                    0.003111   \n",
       "debt_collection                                  0.008667   \n",
       "loans                                            0.036578   \n",
       "money_service                                    0.104844   \n",
       "mortgage                                         0.039550   \n",
       "\n",
       "company_response_to_consumer  Closed with non-monetary relief  \\\n",
       "product_bins                                                    \n",
       "bank                                                 0.053525   \n",
       "credit_card                                          0.107870   \n",
       "credit_report                                        0.241302   \n",
       "debt_collection                                      0.117403   \n",
       "loans                                                0.063420   \n",
       "money_service                                        0.059292   \n",
       "mortgage                                             0.037459   \n",
       "\n",
       "company_response_to_consumer  Untimely response  \n",
       "product_bins                                     \n",
       "bank                                   0.001024  \n",
       "credit_card                            0.000938  \n",
       "credit_report                          0.001137  \n",
       "debt_collection                        0.012420  \n",
       "loans                                  0.008665  \n",
       "money_service                          0.002673  \n",
       "mortgage                               0.002336  "
      ]
     },
     "execution_count": 35,
     "metadata": {},
     "output_type": "execute_result"
    }
   ],
   "source": [
    "cross = pd.crosstab(train['product_bins'],train['company_response_to_consumer'],normalize='index')\n",
    "cross"
   ]
  },
  {
   "cell_type": "code",
   "execution_count": 36,
   "metadata": {},
   "outputs": [
    {
     "data": {
      "text/plain": [
       "product_bins\n",
       "credit_report      0.003111\n",
       "debt_collection    0.008667\n",
       "loans              0.036578\n",
       "mortgage           0.039550\n",
       "money_service      0.104844\n",
       "bank               0.195648\n",
       "credit_card        0.196205\n",
       "Name: Closed with monetary relief, dtype: float64"
      ]
     },
     "execution_count": 36,
     "metadata": {},
     "output_type": "execute_result"
    }
   ],
   "source": [
    "cross['Closed with monetary relief'].sort_values()"
   ]
  },
  {
   "cell_type": "code",
   "execution_count": 37,
   "metadata": {},
   "outputs": [
    {
     "data": {
      "image/png": "[encoded data removed]",
      "text/plain": [
       "<Figure size 640x480 with 1 Axes>"
      ]
     },
     "metadata": {},
     "output_type": "display_data"
    }
   ],
   "source": [
    "cross['Closed with monetary relief'].sort_values().plot(kind='barh', title='Proportions of Monetary Relief', xlabel='Proportion of Complaints for the Product', ylabel='Product Type');"
   ]
  },
  {
   "cell_type": "code",
   "execution_count": 38,
   "metadata": {},
   "outputs": [],
   "source": [
    "# credit card and bank related products have the highest chance of getting monetary relief at just under 20%\n",
    "# it makes sense that credit report products have the least chance of getting monetary relief"
   ]
  },
  {
   "cell_type": "code",
   "execution_count": 39,
   "metadata": {},
   "outputs": [],
   "source": [
    "def monetary_product(train):\n",
    "    # make crosstab of product and responses and normalize to get product proportions\n",
    "    cross = pd.crosstab(train['product_bins'],train['company_response_to_consumer'],normalize='index')\n",
    "    # plot monetary relief products\n",
    "    cross['Closed with monetary relief'].sort_values(\n",
    "        ).plot(kind='barh', \n",
    "                title='Proportions of Monetary Relief', \n",
    "                xlabel='Proportion of Complaints for the Product', \n",
    "                ylabel='Product Type');"
   ]
  },
  {
   "cell_type": "code",
   "execution_count": 40,
   "metadata": {},
   "outputs": [
    {
     "data": {
      "image/png": "[encoded data removed]",
      "text/plain": [
       "<Figure size 640x480 with 1 Axes>"
      ]
     },
     "metadata": {},
     "output_type": "display_data"
    }
   ],
   "source": [
    "monetary_product(train)"
   ]
  },
  {
   "cell_type": "code",
   "execution_count": null,
   "metadata": {},
   "outputs": [],
   "source": []
  },
  {
   "cell_type": "markdown",
   "metadata": {},
   "source": [
    "## 9. Are there more complaints during certain seasons of the year?"
   ]
  },
  {
   "cell_type": "code",
   "execution_count": 41,
   "metadata": {},
   "outputs": [],
   "source": [
    "# from datetime import datetime"
   ]
  },
  {
   "cell_type": "code",
   "execution_count": 42,
   "metadata": {},
   "outputs": [],
   "source": [
    "# train.head(1)"
   ]
  },
  {
   "cell_type": "code",
   "execution_count": 43,
   "metadata": {},
   "outputs": [],
   "source": [
    "# train['month'] = train.date_received.apply(lambda row: row.strftime(\"%m\")).astype(str)\n",
    "# train['year'] = train.date_received.apply(lambda row: row.strftime(\"%y\")).astype(str)"
   ]
  },
  {
   "cell_type": "code",
   "execution_count": 44,
   "metadata": {},
   "outputs": [],
   "source": [
    "# # Performed 1 aggregation grouped on columns: 'month', 'year'\n",
    "# yearly = train.groupby(['month', 'year']).agg(year_count=('year', 'count'))\n",
    "\n",
    "# # Performed 1 aggregation grouped on column: 'month'\n",
    "# monthly = yearly.groupby(['month']).agg(year_count_mean=('year_count', 'mean'))"
   ]
  },
  {
   "cell_type": "code",
   "execution_count": 45,
   "metadata": {},
   "outputs": [],
   "source": [
    "# train.groupby(['month']).agg(month_count=('month', 'count')).plot(kind='bar')"
   ]
  },
  {
   "cell_type": "markdown",
   "metadata": {},
   "source": [
    "# Modeling"
   ]
  },
  {
   "cell_type": "code",
   "execution_count": 46,
   "metadata": {},
   "outputs": [],
   "source": [
    "import model as m"
   ]
  },
  {
   "cell_type": "code",
   "execution_count": 47,
   "metadata": {},
   "outputs": [],
   "source": [
    "def encode(df):\n",
    "    '''Encode categorical columns'''\n",
    "    # columns to encode\n",
    "    cols = ['tags','product_bins']\n",
    "    # encode the dummies\n",
    "    dummy = pd.get_dummies(df[cols],prefix='',prefix_sep='',drop_first=True)\n",
    "    # bring the dummies along\n",
    "    return pd.concat([df,dummy],axis=1)"
   ]
  },
  {
   "cell_type": "code",
   "execution_count": 48,
   "metadata": {},
   "outputs": [
    {
     "data": {
      "text/html": [
       "<div>\n",
       "<style scoped>\n",
       "    .dataframe tbody tr th:only-of-type {\n",
       "        vertical-align: middle;\n",
       "    }\n",
       "\n",
       "    .dataframe tbody tr th {\n",
       "        vertical-align: top;\n",
       "    }\n",
       "\n",
       "    .dataframe thead th {\n",
       "        text-align: right;\n",
       "    }\n",
       "</style>\n",
       "<table border=\"1\" class=\"dataframe\">\n",
       "  <thead>\n",
       "    <tr style=\"text-align: right;\">\n",
       "      <th></th>\n",
       "      <th>lemon</th>\n",
       "      <th>Older American</th>\n",
       "      <th>Older American, Servicemember</th>\n",
       "      <th>Servicemember</th>\n",
       "      <th>credit_card</th>\n",
       "      <th>credit_report</th>\n",
       "      <th>debt_collection</th>\n",
       "      <th>loans</th>\n",
       "      <th>money_service</th>\n",
       "      <th>mortgage</th>\n",
       "    </tr>\n",
       "  </thead>\n",
       "  <tbody>\n",
       "    <tr>\n",
       "      <th>944870</th>\n",
       "      <td>since first applied refinance today decision c...</td>\n",
       "      <td>0</td>\n",
       "      <td>0</td>\n",
       "      <td>0</td>\n",
       "      <td>0</td>\n",
       "      <td>0</td>\n",
       "      <td>0</td>\n",
       "      <td>0</td>\n",
       "      <td>0</td>\n",
       "      <td>1</td>\n",
       "    </tr>\n",
       "    <tr>\n",
       "      <th>570225</th>\n",
       "      <td>inquiry ive called informed applied car inquir...</td>\n",
       "      <td>0</td>\n",
       "      <td>0</td>\n",
       "      <td>0</td>\n",
       "      <td>0</td>\n",
       "      <td>1</td>\n",
       "      <td>0</td>\n",
       "      <td>0</td>\n",
       "      <td>0</td>\n",
       "      <td>0</td>\n",
       "    </tr>\n",
       "    <tr>\n",
       "      <th>523256</th>\n",
       "      <td>paid bill hope get back said pay different ins...</td>\n",
       "      <td>0</td>\n",
       "      <td>0</td>\n",
       "      <td>0</td>\n",
       "      <td>0</td>\n",
       "      <td>0</td>\n",
       "      <td>1</td>\n",
       "      <td>0</td>\n",
       "      <td>0</td>\n",
       "      <td>0</td>\n",
       "    </tr>\n",
       "    <tr>\n",
       "      <th>753529</th>\n",
       "      <td>unknown inquiry credit report credit plus auth...</td>\n",
       "      <td>0</td>\n",
       "      <td>0</td>\n",
       "      <td>0</td>\n",
       "      <td>0</td>\n",
       "      <td>1</td>\n",
       "      <td>0</td>\n",
       "      <td>0</td>\n",
       "      <td>0</td>\n",
       "      <td>0</td>\n",
       "    </tr>\n",
       "    <tr>\n",
       "      <th>999772</th>\n",
       "      <td>selene finance help figure many different amou...</td>\n",
       "      <td>0</td>\n",
       "      <td>0</td>\n",
       "      <td>0</td>\n",
       "      <td>0</td>\n",
       "      <td>0</td>\n",
       "      <td>0</td>\n",
       "      <td>0</td>\n",
       "      <td>0</td>\n",
       "      <td>1</td>\n",
       "    </tr>\n",
       "  </tbody>\n",
       "</table>\n",
       "</div>"
      ],
      "text/plain": [
       "                                                    lemon  Older American  \\\n",
       "944870  since first applied refinance today decision c...               0   \n",
       "570225  inquiry ive called informed applied car inquir...               0   \n",
       "523256  paid bill hope get back said pay different ins...               0   \n",
       "753529  unknown inquiry credit report credit plus auth...               0   \n",
       "999772  selene finance help figure many different amou...               0   \n",
       "\n",
       "        Older American, Servicemember  Servicemember  credit_card  \\\n",
       "944870                              0              0            0   \n",
       "570225                              0              0            0   \n",
       "523256                              0              0            0   \n",
       "753529                              0              0            0   \n",
       "999772                              0              0            0   \n",
       "\n",
       "        credit_report  debt_collection  loans  money_service  mortgage  \n",
       "944870              0                0      0              0         1  \n",
       "570225              1                0      0              0         0  \n",
       "523256              0                1      0              0         0  \n",
       "753529              1                0      0              0         0  \n",
       "999772              0                0      0              0         1  "
      ]
     },
     "execution_count": 48,
     "metadata": {},
     "output_type": "execute_result"
    }
   ],
   "source": [
    "X_train = encode(train)\n",
    "X_train = X_train.drop(columns=['date_received','company_response_to_consumer','clean','state','company_name','tags','product_bins'])\n",
    "y_train = train['company_response_to_consumer']\n",
    "X_val = encode(validate)\n",
    "X_val = X_val.drop(columns=['date_received','company_response_to_consumer','clean','state','company_name','tags','product_bins'])\n",
    "y_val = validate['company_response_to_consumer']\n",
    "X_test = encode(test)\n",
    "X_test = X_test.drop(columns=['date_received','company_response_to_consumer','clean','state','company_name','tags','product_bins'])\n",
    "y_test = test['company_response_to_consumer']\n",
    "X_train.head()"
   ]
  },
  {
   "cell_type": "code",
   "execution_count": 49,
   "metadata": {},
   "outputs": [],
   "source": [
    "def make_cv(Xtr,Xv,Xt):\n",
    "    \"\"\"\n",
    "    The function `make_cv` takes in three sets of data (train, validation, and test) and converts them\n",
    "    into bag-of-words representations using a CountVectorizer with n-gram range of 1 to 3, and then\n",
    "    returns the transformed data as dataframes.\n",
    "    \n",
    "    :param Xtr: Xtr is the training data, which is a pandas DataFrame containing the lemmatized text\n",
    "    data\n",
    "    :param Xv: Xv is the validation dataset, which is used to evaluate the performance of the model\n",
    "    during training. It is a subset of the overall dataset that is not used for training the model but\n",
    "    is used to tune the hyperparameters and assess the model's generalization ability\n",
    "    :param Xt: Xt is the test data, which is a dataframe containing the text data that you want to\n",
    "    classify or analyze\n",
    "    :return: three dataframes: Xtr_cv, Xv_cv, and Xt_cv.\n",
    "    \"\"\"\n",
    "    #make my bag of words up to trigrams cv and keep single characters\n",
    "    cv = CountVectorizer(token_pattern=r'(?u)\\b\\w+\\b', max_features=2900)\n",
    "    # fit and transform train\n",
    "    Xtr_bow_cv = cv.fit_transform(Xtr.lemon)\n",
    "    # transform val and test\n",
    "    Xv_bow_cv = cv.transform(Xv.lemon)\n",
    "    Xt_bow_cv = cv.transform(Xt.lemon)\n",
    "    # make dfs\n",
    "    Xtr_cv = pd.DataFrame(Xtr_bow_cv.todense(),columns=cv.get_feature_names_out(),index=Xtr.index)\n",
    "    Xv_cv = pd.DataFrame(Xv_bow_cv.todense(),columns=cv.get_feature_names_out(),index=Xv.index)\n",
    "    Xt_cv = pd.DataFrame(Xt_bow_cv.todense(),columns=cv.get_feature_names_out(),index=Xt.index)\n",
    "    return Xtr_cv,Xv_cv,Xt_cv\n",
    "\n",
    "\n",
    "def make_tfidf(Xtr,Xv,Xt):\n",
    "    \"\"\"\n",
    "    The function `make_tfidf` takes in three sets of data (train, validation, and test) and applies the\n",
    "    TF-IDF vectorization technique to convert the text data into numerical features, using n-grams up to\n",
    "    trigrams and keeping single characters. It then returns the transformed data as pandas DataFrames.\n",
    "    \n",
    "    :param Xtr: Xtr is the training data, which is a dataframe containing the text data that you want to\n",
    "    transform into TF-IDF features. The \"lemmatized\" column in the dataframe contains the preprocessed\n",
    "    text data\n",
    "    :param Xv: Xv is the validation dataset, which is used to evaluate the performance of the model\n",
    "    during training\n",
    "    :param Xt: Xt is the input data for the test set. It is a dataframe containing the text data that\n",
    "    needs to be transformed into TF-IDF representation\n",
    "    :return: three dataframes: Xtr_tfidf, Xv_tfidf, and Xt_tfidf.\n",
    "    \"\"\"\n",
    "    #make my bag of words up to trigrams tfidf and keep single characters\n",
    "    tfidf = TfidfVectorizer(token_pattern=r'(?u)\\b\\w+\\b', max_features=2900)\n",
    "    # fit and transform train\n",
    "    Xtr_bow_tfidf = tfidf.fit_transform(Xtr.lemon)\n",
    "    # transform val and test\n",
    "    Xv_bow_tfidf = tfidf.transform(Xv.lemon)\n",
    "    Xt_bow_tfidf = tfidf.transform(Xt.lemon)\n",
    "    # make dfs\n",
    "    Xtr_tfidf = pd.DataFrame(Xtr_bow_tfidf.todense(),columns=tfidf.get_feature_names_out(),index=Xtr.index)\n",
    "    Xv_tfidf = pd.DataFrame(Xv_bow_tfidf.todense(),columns=tfidf.get_feature_names_out(),index=Xv.index)\n",
    "    Xt_tfidf = pd.DataFrame(Xt_bow_tfidf.todense(),columns=tfidf.get_feature_names_out(),index=Xt.index)\n",
    "    return Xtr_tfidf,Xv_tfidf,Xt_tfidf"
   ]
  },
  {
   "cell_type": "code",
   "execution_count": 50,
   "metadata": {},
   "outputs": [],
   "source": [
    "X_train_cv,X_val_cv,X_test_cv = make_cv(X_train[['lemon']], X_val[['lemon']], X_test[['lemon']])"
   ]
  },
  {
   "cell_type": "code",
   "execution_count": 51,
   "metadata": {},
   "outputs": [
    {
     "data": {
      "text/html": [
       "<div>\n",
       "<style scoped>\n",
       "    .dataframe tbody tr th:only-of-type {\n",
       "        vertical-align: middle;\n",
       "    }\n",
       "\n",
       "    .dataframe tbody tr th {\n",
       "        vertical-align: top;\n",
       "    }\n",
       "\n",
       "    .dataframe thead th {\n",
       "        text-align: right;\n",
       "    }\n",
       "</style>\n",
       "<table border=\"1\" class=\"dataframe\">\n",
       "  <thead>\n",
       "    <tr style=\"text-align: right;\">\n",
       "      <th></th>\n",
       "      <th>abide</th>\n",
       "      <th>ability</th>\n",
       "      <th>able</th>\n",
       "      <th>absolute</th>\n",
       "      <th>absolutely</th>\n",
       "      <th>absurd</th>\n",
       "      <th>abuse</th>\n",
       "      <th>abusing</th>\n",
       "      <th>abusive</th>\n",
       "      <th>ac</th>\n",
       "      <th>...</th>\n",
       "      <th>yes</th>\n",
       "      <th>yesterday</th>\n",
       "      <th>yet</th>\n",
       "      <th>york</th>\n",
       "      <th>young</th>\n",
       "      <th>youre</th>\n",
       "      <th>youve</th>\n",
       "      <th>yr</th>\n",
       "      <th>zelle</th>\n",
       "      <th>zero</th>\n",
       "    </tr>\n",
       "  </thead>\n",
       "  <tbody>\n",
       "    <tr>\n",
       "      <th>944870</th>\n",
       "      <td>0</td>\n",
       "      <td>0</td>\n",
       "      <td>0</td>\n",
       "      <td>0</td>\n",
       "      <td>0</td>\n",
       "      <td>0</td>\n",
       "      <td>0</td>\n",
       "      <td>0</td>\n",
       "      <td>0</td>\n",
       "      <td>0</td>\n",
       "      <td>...</td>\n",
       "      <td>0</td>\n",
       "      <td>0</td>\n",
       "      <td>0</td>\n",
       "      <td>0</td>\n",
       "      <td>0</td>\n",
       "      <td>0</td>\n",
       "      <td>0</td>\n",
       "      <td>0</td>\n",
       "      <td>0</td>\n",
       "      <td>0</td>\n",
       "    </tr>\n",
       "    <tr>\n",
       "      <th>570225</th>\n",
       "      <td>0</td>\n",
       "      <td>0</td>\n",
       "      <td>0</td>\n",
       "      <td>0</td>\n",
       "      <td>0</td>\n",
       "      <td>0</td>\n",
       "      <td>0</td>\n",
       "      <td>0</td>\n",
       "      <td>0</td>\n",
       "      <td>0</td>\n",
       "      <td>...</td>\n",
       "      <td>0</td>\n",
       "      <td>0</td>\n",
       "      <td>0</td>\n",
       "      <td>0</td>\n",
       "      <td>0</td>\n",
       "      <td>0</td>\n",
       "      <td>0</td>\n",
       "      <td>0</td>\n",
       "      <td>0</td>\n",
       "      <td>0</td>\n",
       "    </tr>\n",
       "    <tr>\n",
       "      <th>523256</th>\n",
       "      <td>0</td>\n",
       "      <td>0</td>\n",
       "      <td>0</td>\n",
       "      <td>0</td>\n",
       "      <td>0</td>\n",
       "      <td>0</td>\n",
       "      <td>0</td>\n",
       "      <td>0</td>\n",
       "      <td>0</td>\n",
       "      <td>0</td>\n",
       "      <td>...</td>\n",
       "      <td>0</td>\n",
       "      <td>0</td>\n",
       "      <td>0</td>\n",
       "      <td>0</td>\n",
       "      <td>0</td>\n",
       "      <td>0</td>\n",
       "      <td>0</td>\n",
       "      <td>0</td>\n",
       "      <td>0</td>\n",
       "      <td>0</td>\n",
       "    </tr>\n",
       "    <tr>\n",
       "      <th>753529</th>\n",
       "      <td>0</td>\n",
       "      <td>0</td>\n",
       "      <td>0</td>\n",
       "      <td>0</td>\n",
       "      <td>0</td>\n",
       "      <td>0</td>\n",
       "      <td>0</td>\n",
       "      <td>0</td>\n",
       "      <td>0</td>\n",
       "      <td>0</td>\n",
       "      <td>...</td>\n",
       "      <td>0</td>\n",
       "      <td>0</td>\n",
       "      <td>0</td>\n",
       "      <td>0</td>\n",
       "      <td>0</td>\n",
       "      <td>0</td>\n",
       "      <td>0</td>\n",
       "      <td>0</td>\n",
       "      <td>0</td>\n",
       "      <td>0</td>\n",
       "    </tr>\n",
       "    <tr>\n",
       "      <th>999772</th>\n",
       "      <td>0</td>\n",
       "      <td>0</td>\n",
       "      <td>2</td>\n",
       "      <td>0</td>\n",
       "      <td>0</td>\n",
       "      <td>0</td>\n",
       "      <td>0</td>\n",
       "      <td>0</td>\n",
       "      <td>0</td>\n",
       "      <td>0</td>\n",
       "      <td>...</td>\n",
       "      <td>0</td>\n",
       "      <td>0</td>\n",
       "      <td>0</td>\n",
       "      <td>0</td>\n",
       "      <td>0</td>\n",
       "      <td>0</td>\n",
       "      <td>0</td>\n",
       "      <td>0</td>\n",
       "      <td>0</td>\n",
       "      <td>0</td>\n",
       "    </tr>\n",
       "  </tbody>\n",
       "</table>\n",
       "<p>5 rows × 2900 columns</p>\n",
       "</div>"
      ],
      "text/plain": [
       "        abide  ability  able  absolute  absolutely  absurd  abuse  abusing  \\\n",
       "944870      0        0     0         0           0       0      0        0   \n",
       "570225      0        0     0         0           0       0      0        0   \n",
       "523256      0        0     0         0           0       0      0        0   \n",
       "753529      0        0     0         0           0       0      0        0   \n",
       "999772      0        0     2         0           0       0      0        0   \n",
       "\n",
       "        abusive  ac  ...  yes  yesterday  yet  york  young  youre  youve  yr  \\\n",
       "944870        0   0  ...    0          0    0     0      0      0      0   0   \n",
       "570225        0   0  ...    0          0    0     0      0      0      0   0   \n",
       "523256        0   0  ...    0          0    0     0      0      0      0   0   \n",
       "753529        0   0  ...    0          0    0     0      0      0      0   0   \n",
       "999772        0   0  ...    0          0    0     0      0      0      0   0   \n",
       "\n",
       "        zelle  zero  \n",
       "944870      0     0  \n",
       "570225      0     0  \n",
       "523256      0     0  \n",
       "753529      0     0  \n",
       "999772      0     0  \n",
       "\n",
       "[5 rows x 2900 columns]"
      ]
     },
     "execution_count": 51,
     "metadata": {},
     "output_type": "execute_result"
    }
   ],
   "source": [
    "X_train_cv.head()"
   ]
  },
  {
   "cell_type": "code",
   "execution_count": 52,
   "metadata": {},
   "outputs": [],
   "source": [
    "X_train_tf,X_val_tf,X_test_tf = make_tfidf(X_train[['lemon']], X_val[['lemon']], X_test[['lemon']])"
   ]
  },
  {
   "cell_type": "code",
   "execution_count": 53,
   "metadata": {},
   "outputs": [
    {
     "data": {
      "text/html": [
       "<div>\n",
       "<style scoped>\n",
       "    .dataframe tbody tr th:only-of-type {\n",
       "        vertical-align: middle;\n",
       "    }\n",
       "\n",
       "    .dataframe tbody tr th {\n",
       "        vertical-align: top;\n",
       "    }\n",
       "\n",
       "    .dataframe thead th {\n",
       "        text-align: right;\n",
       "    }\n",
       "</style>\n",
       "<table border=\"1\" class=\"dataframe\">\n",
       "  <thead>\n",
       "    <tr style=\"text-align: right;\">\n",
       "      <th></th>\n",
       "      <th>abide</th>\n",
       "      <th>ability</th>\n",
       "      <th>able</th>\n",
       "      <th>absolute</th>\n",
       "      <th>absolutely</th>\n",
       "      <th>absurd</th>\n",
       "      <th>abuse</th>\n",
       "      <th>abusing</th>\n",
       "      <th>abusive</th>\n",
       "      <th>ac</th>\n",
       "      <th>...</th>\n",
       "      <th>yes</th>\n",
       "      <th>yesterday</th>\n",
       "      <th>yet</th>\n",
       "      <th>york</th>\n",
       "      <th>young</th>\n",
       "      <th>youre</th>\n",
       "      <th>youve</th>\n",
       "      <th>yr</th>\n",
       "      <th>zelle</th>\n",
       "      <th>zero</th>\n",
       "    </tr>\n",
       "  </thead>\n",
       "  <tbody>\n",
       "    <tr>\n",
       "      <th>944870</th>\n",
       "      <td>0.0</td>\n",
       "      <td>0.0</td>\n",
       "      <td>0.000000</td>\n",
       "      <td>0.0</td>\n",
       "      <td>0.0</td>\n",
       "      <td>0.0</td>\n",
       "      <td>0.0</td>\n",
       "      <td>0.0</td>\n",
       "      <td>0.0</td>\n",
       "      <td>0.0</td>\n",
       "      <td>...</td>\n",
       "      <td>0.0</td>\n",
       "      <td>0.0</td>\n",
       "      <td>0.0</td>\n",
       "      <td>0.0</td>\n",
       "      <td>0.0</td>\n",
       "      <td>0.0</td>\n",
       "      <td>0.0</td>\n",
       "      <td>0.0</td>\n",
       "      <td>0.0</td>\n",
       "      <td>0.0</td>\n",
       "    </tr>\n",
       "    <tr>\n",
       "      <th>570225</th>\n",
       "      <td>0.0</td>\n",
       "      <td>0.0</td>\n",
       "      <td>0.000000</td>\n",
       "      <td>0.0</td>\n",
       "      <td>0.0</td>\n",
       "      <td>0.0</td>\n",
       "      <td>0.0</td>\n",
       "      <td>0.0</td>\n",
       "      <td>0.0</td>\n",
       "      <td>0.0</td>\n",
       "      <td>...</td>\n",
       "      <td>0.0</td>\n",
       "      <td>0.0</td>\n",
       "      <td>0.0</td>\n",
       "      <td>0.0</td>\n",
       "      <td>0.0</td>\n",
       "      <td>0.0</td>\n",
       "      <td>0.0</td>\n",
       "      <td>0.0</td>\n",
       "      <td>0.0</td>\n",
       "      <td>0.0</td>\n",
       "    </tr>\n",
       "    <tr>\n",
       "      <th>523256</th>\n",
       "      <td>0.0</td>\n",
       "      <td>0.0</td>\n",
       "      <td>0.000000</td>\n",
       "      <td>0.0</td>\n",
       "      <td>0.0</td>\n",
       "      <td>0.0</td>\n",
       "      <td>0.0</td>\n",
       "      <td>0.0</td>\n",
       "      <td>0.0</td>\n",
       "      <td>0.0</td>\n",
       "      <td>...</td>\n",
       "      <td>0.0</td>\n",
       "      <td>0.0</td>\n",
       "      <td>0.0</td>\n",
       "      <td>0.0</td>\n",
       "      <td>0.0</td>\n",
       "      <td>0.0</td>\n",
       "      <td>0.0</td>\n",
       "      <td>0.0</td>\n",
       "      <td>0.0</td>\n",
       "      <td>0.0</td>\n",
       "    </tr>\n",
       "    <tr>\n",
       "      <th>753529</th>\n",
       "      <td>0.0</td>\n",
       "      <td>0.0</td>\n",
       "      <td>0.000000</td>\n",
       "      <td>0.0</td>\n",
       "      <td>0.0</td>\n",
       "      <td>0.0</td>\n",
       "      <td>0.0</td>\n",
       "      <td>0.0</td>\n",
       "      <td>0.0</td>\n",
       "      <td>0.0</td>\n",
       "      <td>...</td>\n",
       "      <td>0.0</td>\n",
       "      <td>0.0</td>\n",
       "      <td>0.0</td>\n",
       "      <td>0.0</td>\n",
       "      <td>0.0</td>\n",
       "      <td>0.0</td>\n",
       "      <td>0.0</td>\n",
       "      <td>0.0</td>\n",
       "      <td>0.0</td>\n",
       "      <td>0.0</td>\n",
       "    </tr>\n",
       "    <tr>\n",
       "      <th>999772</th>\n",
       "      <td>0.0</td>\n",
       "      <td>0.0</td>\n",
       "      <td>0.106882</td>\n",
       "      <td>0.0</td>\n",
       "      <td>0.0</td>\n",
       "      <td>0.0</td>\n",
       "      <td>0.0</td>\n",
       "      <td>0.0</td>\n",
       "      <td>0.0</td>\n",
       "      <td>0.0</td>\n",
       "      <td>...</td>\n",
       "      <td>0.0</td>\n",
       "      <td>0.0</td>\n",
       "      <td>0.0</td>\n",
       "      <td>0.0</td>\n",
       "      <td>0.0</td>\n",
       "      <td>0.0</td>\n",
       "      <td>0.0</td>\n",
       "      <td>0.0</td>\n",
       "      <td>0.0</td>\n",
       "      <td>0.0</td>\n",
       "    </tr>\n",
       "  </tbody>\n",
       "</table>\n",
       "<p>5 rows × 2900 columns</p>\n",
       "</div>"
      ],
      "text/plain": [
       "        abide  ability      able  absolute  absolutely  absurd  abuse  \\\n",
       "944870    0.0      0.0  0.000000       0.0         0.0     0.0    0.0   \n",
       "570225    0.0      0.0  0.000000       0.0         0.0     0.0    0.0   \n",
       "523256    0.0      0.0  0.000000       0.0         0.0     0.0    0.0   \n",
       "753529    0.0      0.0  0.000000       0.0         0.0     0.0    0.0   \n",
       "999772    0.0      0.0  0.106882       0.0         0.0     0.0    0.0   \n",
       "\n",
       "        abusing  abusive   ac  ...  yes  yesterday  yet  york  young  youre  \\\n",
       "944870      0.0      0.0  0.0  ...  0.0        0.0  0.0   0.0    0.0    0.0   \n",
       "570225      0.0      0.0  0.0  ...  0.0        0.0  0.0   0.0    0.0    0.0   \n",
       "523256      0.0      0.0  0.0  ...  0.0        0.0  0.0   0.0    0.0    0.0   \n",
       "753529      0.0      0.0  0.0  ...  0.0        0.0  0.0   0.0    0.0    0.0   \n",
       "999772      0.0      0.0  0.0  ...  0.0        0.0  0.0   0.0    0.0    0.0   \n",
       "\n",
       "        youve   yr  zelle  zero  \n",
       "944870    0.0  0.0    0.0   0.0  \n",
       "570225    0.0  0.0    0.0   0.0  \n",
       "523256    0.0  0.0    0.0   0.0  \n",
       "753529    0.0  0.0    0.0   0.0  \n",
       "999772    0.0  0.0    0.0   0.0  \n",
       "\n",
       "[5 rows x 2900 columns]"
      ]
     },
     "execution_count": 53,
     "metadata": {},
     "output_type": "execute_result"
    }
   ],
   "source": [
    "X_train_tf.head()"
   ]
  },
  {
   "cell_type": "code",
   "execution_count": 54,
   "metadata": {},
   "outputs": [],
   "source": [
    "# 1. Convert the dataframe into a JSON format using the `to_json()` function. Make sure to specify the `orient` parameter as “records” to ensure the proper format.\n",
    "# 2. Read the existing JSON file and load its contents into a Python object, such as a list or dictionary.\n",
    "# 3. Append the JSON representation of the new dataframe to the existing Python object.\n",
    "# 4. Write the updated Python object back to the JSON file using the `json.dump()` function.\n",
    "# By following these steps, you can append the new dataframe into the existing JSON file while maintaining the proper format."
   ]
  },
  {
   "cell_type": "code",
   "execution_count": 55,
   "metadata": {},
   "outputs": [],
   "source": [
    "# X_train_cv.to_json('X_train_cv.json',orient='records')"
   ]
  },
  {
   "cell_type": "code",
   "execution_count": null,
   "metadata": {},
   "outputs": [],
   "source": [
    "# pl.LazyFrame(X_train_cv, )"
   ]
  },
  {
   "cell_type": "code",
   "execution_count": null,
   "metadata": {},
   "outputs": [],
   "source": []
  },
  {
   "cell_type": "code",
   "execution_count": null,
   "metadata": {},
   "outputs": [],
   "source": []
  },
  {
   "cell_type": "code",
   "execution_count": null,
   "metadata": {},
   "outputs": [],
   "source": [
    "encoded_train = X_train.iloc[:,1:]"
   ]
  },
  {
   "cell_type": "code",
   "execution_count": null,
   "metadata": {},
   "outputs": [],
   "source": [
    "X_train_cve = encoded_train.merge(X_train_cv,left_index=True, right_index=True)\n",
    "X_train_cve.head()"
   ]
  },
  {
   "cell_type": "code",
   "execution_count": null,
   "metadata": {},
   "outputs": [],
   "source": [
    "X_train_cve = pd.concat([X_train.iloc[:,1:],X_train_cv],axis=1)\n",
    "X_train_cve.head()"
   ]
  },
  {
   "cell_type": "code",
   "execution_count": null,
   "metadata": {},
   "outputs": [],
   "source": [
    "X_val_cve = pd.concat([X_val.iloc[:,1:],X_val_cv],axis=1)\n",
    "X_test_cve = pd.concat([X_test.iloc[:,1:],X_test_cv],axis=1)\n",
    "X_train_tfe = pd.concat([X_train.iloc[:,1:],X_train_tf],axis=1)\n",
    "X_val_tfe = pd.concat([X_val.iloc[:,1:],X_val_tf],axis=1)\n",
    "X_test_tfe = pd.concat([X_test.iloc[:,1:],X_test_tf],axis=1)"
   ]
  },
  {
   "cell_type": "code",
   "execution_count": null,
   "metadata": {},
   "outputs": [],
   "source": [
    "def select_kbest(X, y, k=2, scoring=chi2):\n",
    "    '''\n",
    "    will take in two pandas objects:\n",
    "    X: a dataframe representing numerical independent features\n",
    "    y: a pandas Series representing a target variable\n",
    "    k: a keyword argument defaulted to 2 for the number of ideal features we elect to select\n",
    "    scoring: scoring type, default chi2, other category mutual_info_classif\n",
    "    ---\n",
    "    return: a df of the selected features from the SelectKBest process\n",
    "    ---\n",
    "    Format: kbest_results = function()\n",
    "    '''\n",
    "    kbest = SelectKBest(scoring, k=k)\n",
    "    kbest.fit(X, y)\n",
    "    mask = kbest.get_support()\n",
    "    kbest_results = pd.DataFrame(\n",
    "                dict(p_value=kbest.pvalues_, feature_score=kbest.scores_),\n",
    "                index = X.columns)\n",
    "    return kbest_results.sort_values(by=['feature_score'], ascending=False).head(k)"
   ]
  },
  {
   "cell_type": "code",
   "execution_count": null,
   "metadata": {},
   "outputs": [],
   "source": [
    "def tree_models(Xtr,ytr,Xv,yv):\n",
    "    metrics = []\n",
    "    # cycle through depth,leaf,class_weight for dec tree\n",
    "    for d,l,cw in itertools.combinations(range(1,21),range(1,21),['balanced',None]):\n",
    "        # decision tree\n",
    "        tree = DecisionTreeClassifier(max_depth=d, min_samples_leaf=l,class_weight=cw,random_state=123)\n",
    "        tree.fit(Xtr,ytr)\n",
    "        # accuracies\n",
    "        ytr_acc = tree.score(Xtr,ytr)\n",
    "        yv_acc = tree.score(Xv,yv)\n",
    "        # table-ize\n",
    "        output ={\n",
    "                'model':'Decision Tree',\n",
    "                'params':f\"max_depth={d},min_samples_leaf={l},class_weight={cw},random_state=123\",\n",
    "                'tr_acc':ytr_acc,\n",
    "                'v_acc':yv_acc,\n",
    "            }\n",
    "        metrics.append(output)\n",
    "    return pd.DataFrame(metrics)\n",
    "\n",
    "def forest_models(Xtr,ytr,Xv,yv):\n",
    "    metrics = []\n",
    "    # cycle through depth,leaf,class_weight for random forest\n",
    "    for d,l,cw in itertools.combinations(range(1,21),range(1,21),['balanced','balanced_subsample',None]):\n",
    "        # random forest\n",
    "        forest = RandomForestClassifier(max_depth=d, min_samples_leaf=l,class_weight=cw,random_state=123)\n",
    "        forest.fit(Xtr,ytr)\n",
    "        # accuracies\n",
    "        ytr_acc = forest.score(Xtr,ytr)\n",
    "        yv_acc = forest.score(Xv,yv)\n",
    "        # table-ize\n",
    "        output ={\n",
    "                'model':'Random Forest',\n",
    "                'params':f\"max_depth={d},min_samples_leaf={l},class_weight={cw},random_state=123\",\n",
    "                'tr_acc':ytr_acc,\n",
    "                'v_acc':yv_acc,\n",
    "            }\n",
    "        metrics.append(output)\n",
    "    return pd.DataFrame(metrics)\n",
    "\n",
    "def knn_models(Xtr,ytr,Xv,yv):\n",
    "    metrics = []\n",
    "    # cycle through neighbors and weights for knn\n",
    "    for n,w in itertools.combinations(range(1,21),['uniform', 'distance']):\n",
    "        # knn\n",
    "        forest = KNeighborsClassifier(n_neighbors=n,weights=w)\n",
    "        forest.fit(Xtr,ytr)\n",
    "        # accuracies\n",
    "        ytr_acc = forest.score(Xtr,ytr)\n",
    "        yv_acc = forest.score(Xv,yv)\n",
    "        # table-ize\n",
    "        output ={\n",
    "                'model':'KNN',\n",
    "                'params':f\"n_neighbors={n},weights={w}\",\n",
    "                'tr_acc':ytr_acc,\n",
    "                'v_acc':yv_acc,\n",
    "            }\n",
    "        metrics.append(output)\n",
    "    return pd.DataFrame(metrics)\n",
    "\n",
    "def log_models(Xtr,ytr,Xv,yv):\n",
    "    metrics = []\n",
    "    # cycle through C,class_weight for log reg\n",
    "    for c,cw in itertools.combinations([.01,.1,1,10,100,1000],['balanced',None]):\n",
    "        # logistic regression\n",
    "        lr = LogisticRegression(C=c,class_weight=cw,random_state=123,max_iter=500)\n",
    "        lr.fit(Xtr,ytr)\n",
    "        # accuracies\n",
    "        ytr_acc = lr.score(Xtr,ytr)\n",
    "        yv_acc = lr.score(Xv,yv)\n",
    "        # table-ize\n",
    "        output ={\n",
    "                'model':'LogReg',\n",
    "                'params':f\"C={c},class_weight={cw},random_state=123,max_iter=500\",\n",
    "                'tr_acc':ytr_acc,\n",
    "                'v_acc':yv_acc,\n",
    "            }\n",
    "        metrics.append(output)\n",
    "    return pd.DataFrame(metrics)\n",
    "\n",
    "def comp_nb_models(Xtr,ytr,Xv,yv):\n",
    "    # naive bayes complement\n",
    "    cnb = nb.ComplementNB(alpha=0,force_alpha=True)\n",
    "    cnb.fit(Xtr,ytr)\n",
    "    # accuracies\n",
    "    ytr_acc = cnb.score(Xtr,ytr)\n",
    "    yv_acc = cnb.score(Xv,yv)\n",
    "    # table-ize\n",
    "    output ={\n",
    "            'model':'CNB',\n",
    "            'params':f'alpha={a},force_alpha=True',\n",
    "            'tr_acc':ytr_acc,\n",
    "            'v_acc':yv_acc,\n",
    "        }\n",
    "    metrics = [output]\n",
    "    # cycle through alpha for CNB\n",
    "    for a in np.arange(.1,.6,.1):\n",
    "        # naive bayes complement\n",
    "        cnb = nb.ComplementNB(alpha=a)\n",
    "        cnb.fit(Xtr,ytr)\n",
    "        # accuracies\n",
    "        ytr_acc = cnb.score(Xtr,ytr)\n",
    "        yv_acc = cnb.score(Xv,yv)\n",
    "        # table-ize\n",
    "        output ={\n",
    "                'model':'CNB',\n",
    "                'params':f'alpha={a}',\n",
    "                'tr_acc':ytr_acc,\n",
    "                'v_acc':yv_acc,\n",
    "            }\n",
    "        metrics.append(output)\n",
    "    return pd.DataFrame(metrics)\n",
    "\n",
    "def multi_nb_models(Xtr,ytr,Xv,yv):\n",
    "    # naive bayes multinomial\n",
    "    mnb = nb.MultinomialNB(alpha=0,force_alpha=True)\n",
    "    mnb.fit(Xtr,ytr)\n",
    "    # accuracies\n",
    "    ytr_acc = mnb.score(Xtr,ytr)\n",
    "    yv_acc = mnb.score(Xv,yv)\n",
    "    # table-ize\n",
    "    output ={\n",
    "            'model':'MNB',\n",
    "            'params':f'alpha={a},force_alpha=True',\n",
    "            'tr_acc':ytr_acc,\n",
    "            'v_acc':yv_acc,\n",
    "        }\n",
    "    metrics = [output]\n",
    "    # cycle through alpha for MNB\n",
    "    for a in np.arange(.1,.6,.1):\n",
    "        # naive bayes multinomial\n",
    "        mnb = nb.MultinomialNB(alpha=a)\n",
    "        mnb.fit(Xtr,ytr)\n",
    "        # accuracies\n",
    "        ytr_acc = mnb.score(Xtr,ytr)\n",
    "        yv_acc = mnb.score(Xv,yv)\n",
    "        # table-ize\n",
    "        output ={\n",
    "                'model':'MNB',\n",
    "                'params':f'alpha={a}',\n",
    "                'tr_acc':ytr_acc,\n",
    "                'v_acc':yv_acc,\n",
    "            }\n",
    "        metrics.append(output)\n",
    "    return pd.DataFrame(metrics)\n",
    "\n",
    "def cat_nb_models(Xtr,ytr,Xv,yv):\n",
    "    # naive bayes categorical\n",
    "    cat = nb.CategoricalNB(alpha=0,force_alpha=True)\n",
    "    cat.fit(Xtr,ytr)\n",
    "    # accuracies\n",
    "    ytr_acc = cat.score(Xtr,ytr)\n",
    "    yv_acc = cat.score(Xv,yv)\n",
    "    # table-ize\n",
    "    output ={\n",
    "            'model':'CatNB',\n",
    "            'params':f'alpha={a},force_alpha=True',\n",
    "            'tr_acc':ytr_acc,\n",
    "            'v_acc':yv_acc,\n",
    "        }\n",
    "    metrics = [output]\n",
    "    # cycle through alpha for CatNB\n",
    "    for a in np.arange(.1,.6,.1):\n",
    "        # naive bayes categorical\n",
    "        cat = nb.CategoricalNB(alpha=a)\n",
    "        cat.fit(Xtr,ytr)\n",
    "        # accuracies\n",
    "        ytr_acc = cat.score(Xtr,ytr)\n",
    "        yv_acc = cat.score(Xv,yv)\n",
    "        # table-ize\n",
    "        output ={\n",
    "                'model':'CatNB',\n",
    "                'params':f'alpha={a}',\n",
    "                'tr_acc':ytr_acc,\n",
    "                'v_acc':yv_acc,\n",
    "            }\n",
    "        metrics.append(output)\n",
    "    return pd.DataFrame(metrics)"
   ]
  },
  {
   "cell_type": "code",
   "execution_count": null,
   "metadata": {},
   "outputs": [],
   "source": []
  },
  {
   "cell_type": "code",
   "execution_count": null,
   "metadata": {},
   "outputs": [],
   "source": []
  },
  {
   "cell_type": "code",
   "execution_count": null,
   "metadata": {},
   "outputs": [],
   "source": []
  },
  {
   "cell_type": "code",
   "execution_count": null,
   "metadata": {},
   "outputs": [],
   "source": []
  }
 ],
 "metadata": {
  "kernelspec": {
   "display_name": "base",
   "language": "python",
   "name": "python3"
  },
  "language_info": {
   "codemirror_mode": {
    "name": "ipython",
    "version": 3
   },
   "file_extension": ".py",
   "mimetype": "text/x-python",
   "name": "python",
   "nbconvert_exporter": "python",
   "pygments_lexer": "ipython3",
   "version": "3.9.16"
  },
  "orig_nbformat": 4
 },
 "nbformat": 4,
 "nbformat_minor": 2
}
